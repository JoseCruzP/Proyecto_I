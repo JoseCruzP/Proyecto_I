{
  "nbformat": 4,
  "nbformat_minor": 0,
  "metadata": {
    "colab": {
      "provenance": [],
      "collapsed_sections": [
        "OkBUlCpmkuf0",
        "p9bU2mdyGFzm",
        "qr6ZlTSn2fMR"
      ]
    },
    "kernelspec": {
      "name": "python3",
      "display_name": "Python 3"
    },
    "language_info": {
      "name": "python"
    }
  },
  "cells": [
    {
      "cell_type": "markdown",
      "source": [
        "# 1. Transformación de la base `movies_dataset`"
      ],
      "metadata": {
        "id": "OkBUlCpmkuf0"
      }
    },
    {
      "cell_type": "markdown",
      "source": [
        "Este parte del proyecto corresponde a la fase de ETL (Extraction, Transformation and Loading). El objetivo de esta fase es obtener datasets limpios y listos para ser utilizado en fases posteriores del proyecto."
      ],
      "metadata": {
        "id": "7M9woRk89cRY"
      }
    },
    {
      "cell_type": "markdown",
      "source": [
        "## 1.1. Importe de librerías"
      ],
      "metadata": {
        "id": "KFzI8YBU9wB9"
      }
    },
    {
      "cell_type": "code",
      "source": [
        "import pandas as pd\n",
        "import numpy as np\n",
        "import ast"
      ],
      "metadata": {
        "id": "LsW-4Un99tpN"
      },
      "execution_count": null,
      "outputs": []
    },
    {
      "cell_type": "markdown",
      "source": [
        "## 1.2 Cargando los datos"
      ],
      "metadata": {
        "id": "dC3XstVwy_Qa"
      }
    },
    {
      "cell_type": "markdown",
      "source": [
        " Se carga la base de datos `movies_dataset.csv` se debe tener en cuenta que hay datos que estan anidados (un diccionario o una lista como valores en la fila). [Data](https://drive.google.com/drive/folders/1X_LdCoGTHJDbD28_dJTxaD4fVuQC9Wt5)"
      ],
      "metadata": {
        "id": "Ow-NwrvW-C1k"
      }
    },
    {
      "cell_type": "code",
      "source": [
        "movies_df = pd.read_csv('/content/movies_dataset.csv')"
      ],
      "metadata": {
        "colab": {
          "base_uri": "https://localhost:8080/"
        },
        "id": "TpxDz7IaoABu",
        "outputId": "0758223b-fdf3-4823-a4a6-48384cdb026c"
      },
      "execution_count": null,
      "outputs": [
        {
          "output_type": "stream",
          "name": "stderr",
          "text": [
            "<ipython-input-2-3ad0ac82514a>:1: DtypeWarning: Columns (10) have mixed types. Specify dtype option on import or set low_memory=False.\n",
            "  movies_df = pd.read_csv('/content/movies_dataset.csv')\n"
          ]
        }
      ]
    },
    {
      "cell_type": "markdown",
      "source": [
        "Se visualizan las primeras 5 filas del DataFrame, para hacerse una idea de la data."
      ],
      "metadata": {
        "id": "LeNdc2sC-4Yd"
      }
    },
    {
      "cell_type": "code",
      "source": [
        "movies_df.head()"
      ],
      "metadata": {
        "colab": {
          "base_uri": "https://localhost:8080/",
          "height": 723
        },
        "id": "LtSzhG-UoY0u",
        "outputId": "1591880a-b7f7-4ec7-b7dd-25781b7c34f8"
      },
      "execution_count": null,
      "outputs": [
        {
          "output_type": "execute_result",
          "data": {
            "text/plain": [
              "   adult                              belongs_to_collection    budget  \\\n",
              "0  False  {'id': 10194, 'name': 'Toy Story Collection', ...  30000000   \n",
              "1  False                                                NaN  65000000   \n",
              "2  False  {'id': 119050, 'name': 'Grumpy Old Men Collect...         0   \n",
              "3  False                                                NaN  16000000   \n",
              "4  False  {'id': 96871, 'name': 'Father of the Bride Col...         0   \n",
              "\n",
              "                                              genres  \\\n",
              "0  [{'id': 16, 'name': 'Animation'}, {'id': 35, '...   \n",
              "1  [{'id': 12, 'name': 'Adventure'}, {'id': 14, '...   \n",
              "2  [{'id': 10749, 'name': 'Romance'}, {'id': 35, ...   \n",
              "3  [{'id': 35, 'name': 'Comedy'}, {'id': 18, 'nam...   \n",
              "4                     [{'id': 35, 'name': 'Comedy'}]   \n",
              "\n",
              "                               homepage     id    imdb_id original_language  \\\n",
              "0  http://toystory.disney.com/toy-story    862  tt0114709                en   \n",
              "1                                   NaN   8844  tt0113497                en   \n",
              "2                                   NaN  15602  tt0113228                en   \n",
              "3                                   NaN  31357  tt0114885                en   \n",
              "4                                   NaN  11862  tt0113041                en   \n",
              "\n",
              "                original_title  \\\n",
              "0                    Toy Story   \n",
              "1                      Jumanji   \n",
              "2             Grumpier Old Men   \n",
              "3            Waiting to Exhale   \n",
              "4  Father of the Bride Part II   \n",
              "\n",
              "                                            overview  ... release_date  \\\n",
              "0  Led by Woody, Andy's toys live happily in his ...  ...   1995-10-30   \n",
              "1  When siblings Judy and Peter discover an encha...  ...   1995-12-15   \n",
              "2  A family wedding reignites the ancient feud be...  ...   1995-12-22   \n",
              "3  Cheated on, mistreated and stepped on, the wom...  ...   1995-12-22   \n",
              "4  Just when George Banks has recovered from his ...  ...   1995-02-10   \n",
              "\n",
              "       revenue runtime                                   spoken_languages  \\\n",
              "0  373554033.0    81.0           [{'iso_639_1': 'en', 'name': 'English'}]   \n",
              "1  262797249.0   104.0  [{'iso_639_1': 'en', 'name': 'English'}, {'iso...   \n",
              "2          0.0   101.0           [{'iso_639_1': 'en', 'name': 'English'}]   \n",
              "3   81452156.0   127.0           [{'iso_639_1': 'en', 'name': 'English'}]   \n",
              "4   76578911.0   106.0           [{'iso_639_1': 'en', 'name': 'English'}]   \n",
              "\n",
              "     status                                            tagline  \\\n",
              "0  Released                                                NaN   \n",
              "1  Released          Roll the dice and unleash the excitement!   \n",
              "2  Released  Still Yelling. Still Fighting. Still Ready for...   \n",
              "3  Released  Friends are the people who let you be yourself...   \n",
              "4  Released  Just When His World Is Back To Normal... He's ...   \n",
              "\n",
              "                         title  video vote_average vote_count  \n",
              "0                    Toy Story  False          7.7     5415.0  \n",
              "1                      Jumanji  False          6.9     2413.0  \n",
              "2             Grumpier Old Men  False          6.5       92.0  \n",
              "3            Waiting to Exhale  False          6.1       34.0  \n",
              "4  Father of the Bride Part II  False          5.7      173.0  \n",
              "\n",
              "[5 rows x 24 columns]"
            ],
            "text/html": [
              "\n",
              "  <div id=\"df-3a82d867-3295-41df-9f83-091fc936e08d\" class=\"colab-df-container\">\n",
              "    <div>\n",
              "<style scoped>\n",
              "    .dataframe tbody tr th:only-of-type {\n",
              "        vertical-align: middle;\n",
              "    }\n",
              "\n",
              "    .dataframe tbody tr th {\n",
              "        vertical-align: top;\n",
              "    }\n",
              "\n",
              "    .dataframe thead th {\n",
              "        text-align: right;\n",
              "    }\n",
              "</style>\n",
              "<table border=\"1\" class=\"dataframe\">\n",
              "  <thead>\n",
              "    <tr style=\"text-align: right;\">\n",
              "      <th></th>\n",
              "      <th>adult</th>\n",
              "      <th>belongs_to_collection</th>\n",
              "      <th>budget</th>\n",
              "      <th>genres</th>\n",
              "      <th>homepage</th>\n",
              "      <th>id</th>\n",
              "      <th>imdb_id</th>\n",
              "      <th>original_language</th>\n",
              "      <th>original_title</th>\n",
              "      <th>overview</th>\n",
              "      <th>...</th>\n",
              "      <th>release_date</th>\n",
              "      <th>revenue</th>\n",
              "      <th>runtime</th>\n",
              "      <th>spoken_languages</th>\n",
              "      <th>status</th>\n",
              "      <th>tagline</th>\n",
              "      <th>title</th>\n",
              "      <th>video</th>\n",
              "      <th>vote_average</th>\n",
              "      <th>vote_count</th>\n",
              "    </tr>\n",
              "  </thead>\n",
              "  <tbody>\n",
              "    <tr>\n",
              "      <th>0</th>\n",
              "      <td>False</td>\n",
              "      <td>{'id': 10194, 'name': 'Toy Story Collection', ...</td>\n",
              "      <td>30000000</td>\n",
              "      <td>[{'id': 16, 'name': 'Animation'}, {'id': 35, '...</td>\n",
              "      <td>http://toystory.disney.com/toy-story</td>\n",
              "      <td>862</td>\n",
              "      <td>tt0114709</td>\n",
              "      <td>en</td>\n",
              "      <td>Toy Story</td>\n",
              "      <td>Led by Woody, Andy's toys live happily in his ...</td>\n",
              "      <td>...</td>\n",
              "      <td>1995-10-30</td>\n",
              "      <td>373554033.0</td>\n",
              "      <td>81.0</td>\n",
              "      <td>[{'iso_639_1': 'en', 'name': 'English'}]</td>\n",
              "      <td>Released</td>\n",
              "      <td>NaN</td>\n",
              "      <td>Toy Story</td>\n",
              "      <td>False</td>\n",
              "      <td>7.7</td>\n",
              "      <td>5415.0</td>\n",
              "    </tr>\n",
              "    <tr>\n",
              "      <th>1</th>\n",
              "      <td>False</td>\n",
              "      <td>NaN</td>\n",
              "      <td>65000000</td>\n",
              "      <td>[{'id': 12, 'name': 'Adventure'}, {'id': 14, '...</td>\n",
              "      <td>NaN</td>\n",
              "      <td>8844</td>\n",
              "      <td>tt0113497</td>\n",
              "      <td>en</td>\n",
              "      <td>Jumanji</td>\n",
              "      <td>When siblings Judy and Peter discover an encha...</td>\n",
              "      <td>...</td>\n",
              "      <td>1995-12-15</td>\n",
              "      <td>262797249.0</td>\n",
              "      <td>104.0</td>\n",
              "      <td>[{'iso_639_1': 'en', 'name': 'English'}, {'iso...</td>\n",
              "      <td>Released</td>\n",
              "      <td>Roll the dice and unleash the excitement!</td>\n",
              "      <td>Jumanji</td>\n",
              "      <td>False</td>\n",
              "      <td>6.9</td>\n",
              "      <td>2413.0</td>\n",
              "    </tr>\n",
              "    <tr>\n",
              "      <th>2</th>\n",
              "      <td>False</td>\n",
              "      <td>{'id': 119050, 'name': 'Grumpy Old Men Collect...</td>\n",
              "      <td>0</td>\n",
              "      <td>[{'id': 10749, 'name': 'Romance'}, {'id': 35, ...</td>\n",
              "      <td>NaN</td>\n",
              "      <td>15602</td>\n",
              "      <td>tt0113228</td>\n",
              "      <td>en</td>\n",
              "      <td>Grumpier Old Men</td>\n",
              "      <td>A family wedding reignites the ancient feud be...</td>\n",
              "      <td>...</td>\n",
              "      <td>1995-12-22</td>\n",
              "      <td>0.0</td>\n",
              "      <td>101.0</td>\n",
              "      <td>[{'iso_639_1': 'en', 'name': 'English'}]</td>\n",
              "      <td>Released</td>\n",
              "      <td>Still Yelling. Still Fighting. Still Ready for...</td>\n",
              "      <td>Grumpier Old Men</td>\n",
              "      <td>False</td>\n",
              "      <td>6.5</td>\n",
              "      <td>92.0</td>\n",
              "    </tr>\n",
              "    <tr>\n",
              "      <th>3</th>\n",
              "      <td>False</td>\n",
              "      <td>NaN</td>\n",
              "      <td>16000000</td>\n",
              "      <td>[{'id': 35, 'name': 'Comedy'}, {'id': 18, 'nam...</td>\n",
              "      <td>NaN</td>\n",
              "      <td>31357</td>\n",
              "      <td>tt0114885</td>\n",
              "      <td>en</td>\n",
              "      <td>Waiting to Exhale</td>\n",
              "      <td>Cheated on, mistreated and stepped on, the wom...</td>\n",
              "      <td>...</td>\n",
              "      <td>1995-12-22</td>\n",
              "      <td>81452156.0</td>\n",
              "      <td>127.0</td>\n",
              "      <td>[{'iso_639_1': 'en', 'name': 'English'}]</td>\n",
              "      <td>Released</td>\n",
              "      <td>Friends are the people who let you be yourself...</td>\n",
              "      <td>Waiting to Exhale</td>\n",
              "      <td>False</td>\n",
              "      <td>6.1</td>\n",
              "      <td>34.0</td>\n",
              "    </tr>\n",
              "    <tr>\n",
              "      <th>4</th>\n",
              "      <td>False</td>\n",
              "      <td>{'id': 96871, 'name': 'Father of the Bride Col...</td>\n",
              "      <td>0</td>\n",
              "      <td>[{'id': 35, 'name': 'Comedy'}]</td>\n",
              "      <td>NaN</td>\n",
              "      <td>11862</td>\n",
              "      <td>tt0113041</td>\n",
              "      <td>en</td>\n",
              "      <td>Father of the Bride Part II</td>\n",
              "      <td>Just when George Banks has recovered from his ...</td>\n",
              "      <td>...</td>\n",
              "      <td>1995-02-10</td>\n",
              "      <td>76578911.0</td>\n",
              "      <td>106.0</td>\n",
              "      <td>[{'iso_639_1': 'en', 'name': 'English'}]</td>\n",
              "      <td>Released</td>\n",
              "      <td>Just When His World Is Back To Normal... He's ...</td>\n",
              "      <td>Father of the Bride Part II</td>\n",
              "      <td>False</td>\n",
              "      <td>5.7</td>\n",
              "      <td>173.0</td>\n",
              "    </tr>\n",
              "  </tbody>\n",
              "</table>\n",
              "<p>5 rows × 24 columns</p>\n",
              "</div>\n",
              "    <div class=\"colab-df-buttons\">\n",
              "\n",
              "  <div class=\"colab-df-container\">\n",
              "    <button class=\"colab-df-convert\" onclick=\"convertToInteractive('df-3a82d867-3295-41df-9f83-091fc936e08d')\"\n",
              "            title=\"Convert this dataframe to an interactive table.\"\n",
              "            style=\"display:none;\">\n",
              "\n",
              "  <svg xmlns=\"http://www.w3.org/2000/svg\" height=\"24px\" viewBox=\"0 -960 960 960\">\n",
              "    <path d=\"M120-120v-720h720v720H120Zm60-500h600v-160H180v160Zm220 220h160v-160H400v160Zm0 220h160v-160H400v160ZM180-400h160v-160H180v160Zm440 0h160v-160H620v160ZM180-180h160v-160H180v160Zm440 0h160v-160H620v160Z\"/>\n",
              "  </svg>\n",
              "    </button>\n",
              "\n",
              "  <style>\n",
              "    .colab-df-container {\n",
              "      display:flex;\n",
              "      gap: 12px;\n",
              "    }\n",
              "\n",
              "    .colab-df-convert {\n",
              "      background-color: #E8F0FE;\n",
              "      border: none;\n",
              "      border-radius: 50%;\n",
              "      cursor: pointer;\n",
              "      display: none;\n",
              "      fill: #1967D2;\n",
              "      height: 32px;\n",
              "      padding: 0 0 0 0;\n",
              "      width: 32px;\n",
              "    }\n",
              "\n",
              "    .colab-df-convert:hover {\n",
              "      background-color: #E2EBFA;\n",
              "      box-shadow: 0px 1px 2px rgba(60, 64, 67, 0.3), 0px 1px 3px 1px rgba(60, 64, 67, 0.15);\n",
              "      fill: #174EA6;\n",
              "    }\n",
              "\n",
              "    .colab-df-buttons div {\n",
              "      margin-bottom: 4px;\n",
              "    }\n",
              "\n",
              "    [theme=dark] .colab-df-convert {\n",
              "      background-color: #3B4455;\n",
              "      fill: #D2E3FC;\n",
              "    }\n",
              "\n",
              "    [theme=dark] .colab-df-convert:hover {\n",
              "      background-color: #434B5C;\n",
              "      box-shadow: 0px 1px 3px 1px rgba(0, 0, 0, 0.15);\n",
              "      filter: drop-shadow(0px 1px 2px rgba(0, 0, 0, 0.3));\n",
              "      fill: #FFFFFF;\n",
              "    }\n",
              "  </style>\n",
              "\n",
              "    <script>\n",
              "      const buttonEl =\n",
              "        document.querySelector('#df-3a82d867-3295-41df-9f83-091fc936e08d button.colab-df-convert');\n",
              "      buttonEl.style.display =\n",
              "        google.colab.kernel.accessAllowed ? 'block' : 'none';\n",
              "\n",
              "      async function convertToInteractive(key) {\n",
              "        const element = document.querySelector('#df-3a82d867-3295-41df-9f83-091fc936e08d');\n",
              "        const dataTable =\n",
              "          await google.colab.kernel.invokeFunction('convertToInteractive',\n",
              "                                                    [key], {});\n",
              "        if (!dataTable) return;\n",
              "\n",
              "        const docLinkHtml = 'Like what you see? Visit the ' +\n",
              "          '<a target=\"_blank\" href=https://colab.research.google.com/notebooks/data_table.ipynb>data table notebook</a>'\n",
              "          + ' to learn more about interactive tables.';\n",
              "        element.innerHTML = '';\n",
              "        dataTable['output_type'] = 'display_data';\n",
              "        await google.colab.output.renderOutput(dataTable, element);\n",
              "        const docLink = document.createElement('div');\n",
              "        docLink.innerHTML = docLinkHtml;\n",
              "        element.appendChild(docLink);\n",
              "      }\n",
              "    </script>\n",
              "  </div>\n",
              "\n",
              "\n",
              "<div id=\"df-7d792986-ae46-41c1-9647-26467303fb38\">\n",
              "  <button class=\"colab-df-quickchart\" onclick=\"quickchart('df-7d792986-ae46-41c1-9647-26467303fb38')\"\n",
              "            title=\"Suggest charts\"\n",
              "            style=\"display:none;\">\n",
              "\n",
              "<svg xmlns=\"http://www.w3.org/2000/svg\" height=\"24px\"viewBox=\"0 0 24 24\"\n",
              "     width=\"24px\">\n",
              "    <g>\n",
              "        <path d=\"M19 3H5c-1.1 0-2 .9-2 2v14c0 1.1.9 2 2 2h14c1.1 0 2-.9 2-2V5c0-1.1-.9-2-2-2zM9 17H7v-7h2v7zm4 0h-2V7h2v10zm4 0h-2v-4h2v4z\"/>\n",
              "    </g>\n",
              "</svg>\n",
              "  </button>\n",
              "\n",
              "<style>\n",
              "  .colab-df-quickchart {\n",
              "      --bg-color: #E8F0FE;\n",
              "      --fill-color: #1967D2;\n",
              "      --hover-bg-color: #E2EBFA;\n",
              "      --hover-fill-color: #174EA6;\n",
              "      --disabled-fill-color: #AAA;\n",
              "      --disabled-bg-color: #DDD;\n",
              "  }\n",
              "\n",
              "  [theme=dark] .colab-df-quickchart {\n",
              "      --bg-color: #3B4455;\n",
              "      --fill-color: #D2E3FC;\n",
              "      --hover-bg-color: #434B5C;\n",
              "      --hover-fill-color: #FFFFFF;\n",
              "      --disabled-bg-color: #3B4455;\n",
              "      --disabled-fill-color: #666;\n",
              "  }\n",
              "\n",
              "  .colab-df-quickchart {\n",
              "    background-color: var(--bg-color);\n",
              "    border: none;\n",
              "    border-radius: 50%;\n",
              "    cursor: pointer;\n",
              "    display: none;\n",
              "    fill: var(--fill-color);\n",
              "    height: 32px;\n",
              "    padding: 0;\n",
              "    width: 32px;\n",
              "  }\n",
              "\n",
              "  .colab-df-quickchart:hover {\n",
              "    background-color: var(--hover-bg-color);\n",
              "    box-shadow: 0 1px 2px rgba(60, 64, 67, 0.3), 0 1px 3px 1px rgba(60, 64, 67, 0.15);\n",
              "    fill: var(--button-hover-fill-color);\n",
              "  }\n",
              "\n",
              "  .colab-df-quickchart-complete:disabled,\n",
              "  .colab-df-quickchart-complete:disabled:hover {\n",
              "    background-color: var(--disabled-bg-color);\n",
              "    fill: var(--disabled-fill-color);\n",
              "    box-shadow: none;\n",
              "  }\n",
              "\n",
              "  .colab-df-spinner {\n",
              "    border: 2px solid var(--fill-color);\n",
              "    border-color: transparent;\n",
              "    border-bottom-color: var(--fill-color);\n",
              "    animation:\n",
              "      spin 1s steps(1) infinite;\n",
              "  }\n",
              "\n",
              "  @keyframes spin {\n",
              "    0% {\n",
              "      border-color: transparent;\n",
              "      border-bottom-color: var(--fill-color);\n",
              "      border-left-color: var(--fill-color);\n",
              "    }\n",
              "    20% {\n",
              "      border-color: transparent;\n",
              "      border-left-color: var(--fill-color);\n",
              "      border-top-color: var(--fill-color);\n",
              "    }\n",
              "    30% {\n",
              "      border-color: transparent;\n",
              "      border-left-color: var(--fill-color);\n",
              "      border-top-color: var(--fill-color);\n",
              "      border-right-color: var(--fill-color);\n",
              "    }\n",
              "    40% {\n",
              "      border-color: transparent;\n",
              "      border-right-color: var(--fill-color);\n",
              "      border-top-color: var(--fill-color);\n",
              "    }\n",
              "    60% {\n",
              "      border-color: transparent;\n",
              "      border-right-color: var(--fill-color);\n",
              "    }\n",
              "    80% {\n",
              "      border-color: transparent;\n",
              "      border-right-color: var(--fill-color);\n",
              "      border-bottom-color: var(--fill-color);\n",
              "    }\n",
              "    90% {\n",
              "      border-color: transparent;\n",
              "      border-bottom-color: var(--fill-color);\n",
              "    }\n",
              "  }\n",
              "</style>\n",
              "\n",
              "  <script>\n",
              "    async function quickchart(key) {\n",
              "      const quickchartButtonEl =\n",
              "        document.querySelector('#' + key + ' button');\n",
              "      quickchartButtonEl.disabled = true;  // To prevent multiple clicks.\n",
              "      quickchartButtonEl.classList.add('colab-df-spinner');\n",
              "      try {\n",
              "        const charts = await google.colab.kernel.invokeFunction(\n",
              "            'suggestCharts', [key], {});\n",
              "      } catch (error) {\n",
              "        console.error('Error during call to suggestCharts:', error);\n",
              "      }\n",
              "      quickchartButtonEl.classList.remove('colab-df-spinner');\n",
              "      quickchartButtonEl.classList.add('colab-df-quickchart-complete');\n",
              "    }\n",
              "    (() => {\n",
              "      let quickchartButtonEl =\n",
              "        document.querySelector('#df-7d792986-ae46-41c1-9647-26467303fb38 button');\n",
              "      quickchartButtonEl.style.display =\n",
              "        google.colab.kernel.accessAllowed ? 'block' : 'none';\n",
              "    })();\n",
              "  </script>\n",
              "</div>\n",
              "\n",
              "    </div>\n",
              "  </div>\n"
            ],
            "application/vnd.google.colaboratory.intrinsic+json": {
              "type": "dataframe",
              "variable_name": "movies_df"
            }
          },
          "metadata": {},
          "execution_count": 3
        }
      ]
    },
    {
      "cell_type": "markdown",
      "source": [
        "## 1.2 Explorando las informaciones"
      ],
      "metadata": {
        "id": "9FepLEFCoImB"
      }
    },
    {
      "cell_type": "markdown",
      "source": [
        "Se observan algunas filas puntuales de aquellas columnas que están anidadas."
      ],
      "metadata": {
        "id": "dO8kkZWv_EqM"
      }
    },
    {
      "cell_type": "code",
      "source": [
        "movies_df.belongs_to_collection[0]"
      ],
      "metadata": {
        "colab": {
          "base_uri": "https://localhost:8080/",
          "height": 54
        },
        "id": "cCcMspH8oLqx",
        "outputId": "c8640e51-1b01-4e77-9d59-b72b641bb053"
      },
      "execution_count": null,
      "outputs": [
        {
          "output_type": "execute_result",
          "data": {
            "text/plain": [
              "\"{'id': 10194, 'name': 'Toy Story Collection', 'poster_path': '/7G9915LfUQ2lVfwMEEhDsn3kT4B.jpg', 'backdrop_path': '/9FBwqcd9IRruEDUrTdcaafOMKUq.jpg'}\""
            ],
            "application/vnd.google.colaboratory.intrinsic+json": {
              "type": "string"
            }
          },
          "metadata": {},
          "execution_count": 4
        }
      ]
    },
    {
      "cell_type": "code",
      "source": [
        "movies_df.belongs_to_collection[2]"
      ],
      "metadata": {
        "colab": {
          "base_uri": "https://localhost:8080/",
          "height": 54
        },
        "id": "_5jDclCkr--n",
        "outputId": "56cf5b77-20ab-46bf-8d5e-a8451a710828"
      },
      "execution_count": null,
      "outputs": [
        {
          "output_type": "execute_result",
          "data": {
            "text/plain": [
              "\"{'id': 119050, 'name': 'Grumpy Old Men Collection', 'poster_path': '/nLvUdqgPgm3F85NMCii9gVFUcet.jpg', 'backdrop_path': '/hypTnLot2z8wpFS7qwsQHW1uV8u.jpg'}\""
            ],
            "application/vnd.google.colaboratory.intrinsic+json": {
              "type": "string"
            }
          },
          "metadata": {},
          "execution_count": 5
        }
      ]
    },
    {
      "cell_type": "code",
      "source": [
        "movies_df.genres[1]"
      ],
      "metadata": {
        "colab": {
          "base_uri": "https://localhost:8080/",
          "height": 36
        },
        "id": "kM46MJMepZ3J",
        "outputId": "81a1e7b3-4513-4cfe-c8ee-7709f698321d"
      },
      "execution_count": null,
      "outputs": [
        {
          "output_type": "execute_result",
          "data": {
            "text/plain": [
              "\"[{'id': 12, 'name': 'Adventure'}, {'id': 14, 'name': 'Fantasy'}, {'id': 10751, 'name': 'Family'}]\""
            ],
            "application/vnd.google.colaboratory.intrinsic+json": {
              "type": "string"
            }
          },
          "metadata": {},
          "execution_count": 6
        }
      ]
    },
    {
      "cell_type": "code",
      "source": [
        "movies_df.production_companies[3]"
      ],
      "metadata": {
        "colab": {
          "base_uri": "https://localhost:8080/",
          "height": 36
        },
        "id": "HN-1ouoMpxRY",
        "outputId": "8e27d6ca-a9a5-4d7d-eaa1-9e0bf9a972f8"
      },
      "execution_count": null,
      "outputs": [
        {
          "output_type": "execute_result",
          "data": {
            "text/plain": [
              "\"[{'name': 'Twentieth Century Fox Film Corporation', 'id': 306}]\""
            ],
            "application/vnd.google.colaboratory.intrinsic+json": {
              "type": "string"
            }
          },
          "metadata": {},
          "execution_count": 7
        }
      ]
    },
    {
      "cell_type": "markdown",
      "source": [
        "## 1.3 Tratamiento de datos iniciales"
      ],
      "metadata": {
        "id": "F6WukuZ8wwck"
      }
    },
    {
      "cell_type": "markdown",
      "source": [
        "### 1.3.1. Columna `belongs_to_collection`"
      ],
      "metadata": {
        "id": "4wptnGkfpZkq"
      }
    },
    {
      "cell_type": "markdown",
      "source": [
        "Se crea la función `convertir_a_diccionario`, la cual que asegura que los valores de una columna en un DataFrame de pandas estén en formato de diccionario, manejando adecuadamente los valores nulos y las cadenas de texto."
      ],
      "metadata": {
        "id": "cJjTj7Ur_05L"
      }
    },
    {
      "cell_type": "code",
      "source": [
        "# Nos aseguramos de que todos los valores estén en formato de diccionario mediante la siguiente función\n",
        "def convertir_a_diccionario(valor):\n",
        "    if pd.isna(valor):\n",
        "        return {}  # Retorna un diccionario vacío si el valor es NaN. Esto asegura que los valores nulos no causen problemas al desanidar.\n",
        "    if isinstance(valor, str): # Verifica si el valor es una cadena (str).\n",
        "        return ast.literal_eval(valor)  # Convierte las cadenas en diccionarios\n",
        "    return valor"
      ],
      "metadata": {
        "id": "s5rOKihSw0Ej"
      },
      "execution_count": null,
      "outputs": []
    },
    {
      "cell_type": "code",
      "source": [
        "import ast #  ast, es necesario para convertir las cadenas en diccionarios."
      ],
      "metadata": {
        "id": "vyLDx6cF1W_y"
      },
      "execution_count": null,
      "outputs": []
    },
    {
      "cell_type": "code",
      "source": [
        "# Aplicamos la función a la columna 'belongs_to_collection'\n",
        "movies_df['belongs_to_collection'] = movies_df['belongs_to_collection'].apply(convertir_a_diccionario)"
      ],
      "metadata": {
        "id": "MQe32Yxzxadd"
      },
      "execution_count": null,
      "outputs": []
    },
    {
      "cell_type": "code",
      "source": [
        "# Desanidamos la columna 'belongs_to_collection'\n",
        "belongs_to_collection_df = pd.json_normalize(movies_df['belongs_to_collection'])"
      ],
      "metadata": {
        "id": "HlAdHgx7w5Ij"
      },
      "execution_count": null,
      "outputs": []
    },
    {
      "cell_type": "code",
      "source": [
        "# Renombramos las columnas desanidadas\n",
        "belongs_to_collection_df.columns = ['belongs_to_collection_id',\n",
        "                                    'belongs_to_collection_name',\n",
        "                                    'belongs_to_collection_poster_path',\n",
        "                                    'belongs_to_collection_backdrop_path']"
      ],
      "metadata": {
        "id": "QybikWiqxBQj"
      },
      "execution_count": null,
      "outputs": []
    },
    {
      "cell_type": "code",
      "source": [
        "# Unimos el DataFrame original con las nuevas columnas desanidadas\n",
        "movies_df = pd.concat([movies_df, belongs_to_collection_df], axis=1)"
      ],
      "metadata": {
        "id": "ZBCHyN7hxFSi"
      },
      "execution_count": null,
      "outputs": []
    },
    {
      "cell_type": "code",
      "source": [
        "# Eliminamos la columna original que ya no es necesaria\n",
        "movies_df = movies_df.drop(columns=['belongs_to_collection'])"
      ],
      "metadata": {
        "id": "t3QyjnMp2FkY"
      },
      "execution_count": null,
      "outputs": []
    },
    {
      "cell_type": "markdown",
      "source": [
        "Visualizamos cómo quedaron las columnas desanidadas de `belongs_to_collection`"
      ],
      "metadata": {
        "id": "ix7D_JWzAACT"
      }
    },
    {
      "cell_type": "code",
      "source": [
        "movies_df.info()"
      ],
      "metadata": {
        "colab": {
          "base_uri": "https://localhost:8080/"
        },
        "id": "ShDXioNb2ISB",
        "outputId": "11b37093-c2a1-472c-8d32-916f76eb8c81"
      },
      "execution_count": null,
      "outputs": [
        {
          "output_type": "stream",
          "name": "stdout",
          "text": [
            "<class 'pandas.core.frame.DataFrame'>\n",
            "RangeIndex: 45466 entries, 0 to 45465\n",
            "Data columns (total 27 columns):\n",
            " #   Column                               Non-Null Count  Dtype  \n",
            "---  ------                               --------------  -----  \n",
            " 0   adult                                45466 non-null  object \n",
            " 1   budget                               45466 non-null  object \n",
            " 2   genres                               45466 non-null  object \n",
            " 3   homepage                             7782 non-null   object \n",
            " 4   id                                   45466 non-null  object \n",
            " 5   imdb_id                              45449 non-null  object \n",
            " 6   original_language                    45455 non-null  object \n",
            " 7   original_title                       45466 non-null  object \n",
            " 8   overview                             44512 non-null  object \n",
            " 9   popularity                           45461 non-null  object \n",
            " 10  poster_path                          45080 non-null  object \n",
            " 11  production_companies                 45463 non-null  object \n",
            " 12  production_countries                 45463 non-null  object \n",
            " 13  release_date                         45379 non-null  object \n",
            " 14  revenue                              45460 non-null  float64\n",
            " 15  runtime                              45203 non-null  float64\n",
            " 16  spoken_languages                     45460 non-null  object \n",
            " 17  status                               45379 non-null  object \n",
            " 18  tagline                              20412 non-null  object \n",
            " 19  title                                45460 non-null  object \n",
            " 20  video                                45460 non-null  object \n",
            " 21  vote_average                         45460 non-null  float64\n",
            " 22  vote_count                           45460 non-null  float64\n",
            " 23  belongs_to_collection_id             4491 non-null   float64\n",
            " 24  belongs_to_collection_name           4491 non-null   object \n",
            " 25  belongs_to_collection_poster_path    3948 non-null   object \n",
            " 26  belongs_to_collection_backdrop_path  3263 non-null   object \n",
            "dtypes: float64(5), object(22)\n",
            "memory usage: 9.4+ MB\n"
          ]
        }
      ]
    },
    {
      "cell_type": "markdown",
      "source": [
        "### 1.3.2. Columna `production_companies`"
      ],
      "metadata": {
        "id": "UZ9Gdqwh2mFS"
      }
    },
    {
      "cell_type": "markdown",
      "source": [
        "Se crea la función función `extraer_nombres` asegura que los valores de una columna en un DataFrame de pandas estén en formato de diccionario, manejando adecuadamente los valores nulos y las cadenas de texto."
      ],
      "metadata": {
        "id": "YfJv5q9rAqor"
      }
    },
    {
      "cell_type": "code",
      "source": [
        "# Función para extraer los nombres de las compañías\n",
        "def extraer_nombres(companies):\n",
        "    # Nos aseguramos de que el input es una lista (puede estar en formato string)\n",
        "    if isinstance(companies, str):                # isinstance(companies, str): Verifica si companies es una cadena de texto (str).\n",
        "        companies = ast.literal_eval(companies)        # Si companies es una cadena, se usa ast.literal_eval para convertir esa cadena en una estructura de datos de Python, que en este caso debería ser una lista de diccionarios.\n",
        "    if isinstance(companies, list):                # Verifica si companies es ahora una lista (lo que podría haber sido originalmente o después de la conversión en el paso anterior).\n",
        "        return [company.get('name') for company in companies if isinstance(company, dict)]   # if isinstance(company, dict): Se asegura de que cada company sea un diccionario antes de intentar extraer el nombre. Esto previene errores si hay algún elemento que no sea un diccionario.\n",
        "    return None                                                                              # company.get('name'): Extrae el valor asociado a la clave name en cada diccionario company."
      ],
      "metadata": {
        "id": "OZfcipIg9Alr"
      },
      "execution_count": null,
      "outputs": []
    },
    {
      "cell_type": "code",
      "source": [
        "# Aplicamos la función a la columna 'production_companies'\n",
        "movies_df['production_companies'] = movies_df['production_companies'].apply(extraer_nombres)"
      ],
      "metadata": {
        "id": "VnOgiOk43FYu"
      },
      "execution_count": null,
      "outputs": []
    },
    {
      "cell_type": "code",
      "source": [
        "# Mostramos las primeras filas del DataFrame para verificar\n",
        "movies_df[['production_companies']].head()"
      ],
      "metadata": {
        "colab": {
          "base_uri": "https://localhost:8080/",
          "height": 206
        },
        "id": "M7wAF19h8Q2s",
        "outputId": "7a8689ec-f740-4304-ce6b-decfb323ce1e"
      },
      "execution_count": null,
      "outputs": [
        {
          "output_type": "execute_result",
          "data": {
            "text/plain": [
              "                                production_companies\n",
              "0                          [Pixar Animation Studios]\n",
              "1  [TriStar Pictures, Teitler Film, Interscope Co...\n",
              "2                     [Warner Bros., Lancaster Gate]\n",
              "3           [Twentieth Century Fox Film Corporation]\n",
              "4       [Sandollar Productions, Touchstone Pictures]"
            ],
            "text/html": [
              "\n",
              "  <div id=\"df-80b85430-fc22-4b1b-9e48-6cc86e8fa87b\" class=\"colab-df-container\">\n",
              "    <div>\n",
              "<style scoped>\n",
              "    .dataframe tbody tr th:only-of-type {\n",
              "        vertical-align: middle;\n",
              "    }\n",
              "\n",
              "    .dataframe tbody tr th {\n",
              "        vertical-align: top;\n",
              "    }\n",
              "\n",
              "    .dataframe thead th {\n",
              "        text-align: right;\n",
              "    }\n",
              "</style>\n",
              "<table border=\"1\" class=\"dataframe\">\n",
              "  <thead>\n",
              "    <tr style=\"text-align: right;\">\n",
              "      <th></th>\n",
              "      <th>production_companies</th>\n",
              "    </tr>\n",
              "  </thead>\n",
              "  <tbody>\n",
              "    <tr>\n",
              "      <th>0</th>\n",
              "      <td>[Pixar Animation Studios]</td>\n",
              "    </tr>\n",
              "    <tr>\n",
              "      <th>1</th>\n",
              "      <td>[TriStar Pictures, Teitler Film, Interscope Co...</td>\n",
              "    </tr>\n",
              "    <tr>\n",
              "      <th>2</th>\n",
              "      <td>[Warner Bros., Lancaster Gate]</td>\n",
              "    </tr>\n",
              "    <tr>\n",
              "      <th>3</th>\n",
              "      <td>[Twentieth Century Fox Film Corporation]</td>\n",
              "    </tr>\n",
              "    <tr>\n",
              "      <th>4</th>\n",
              "      <td>[Sandollar Productions, Touchstone Pictures]</td>\n",
              "    </tr>\n",
              "  </tbody>\n",
              "</table>\n",
              "</div>\n",
              "    <div class=\"colab-df-buttons\">\n",
              "\n",
              "  <div class=\"colab-df-container\">\n",
              "    <button class=\"colab-df-convert\" onclick=\"convertToInteractive('df-80b85430-fc22-4b1b-9e48-6cc86e8fa87b')\"\n",
              "            title=\"Convert this dataframe to an interactive table.\"\n",
              "            style=\"display:none;\">\n",
              "\n",
              "  <svg xmlns=\"http://www.w3.org/2000/svg\" height=\"24px\" viewBox=\"0 -960 960 960\">\n",
              "    <path d=\"M120-120v-720h720v720H120Zm60-500h600v-160H180v160Zm220 220h160v-160H400v160Zm0 220h160v-160H400v160ZM180-400h160v-160H180v160Zm440 0h160v-160H620v160ZM180-180h160v-160H180v160Zm440 0h160v-160H620v160Z\"/>\n",
              "  </svg>\n",
              "    </button>\n",
              "\n",
              "  <style>\n",
              "    .colab-df-container {\n",
              "      display:flex;\n",
              "      gap: 12px;\n",
              "    }\n",
              "\n",
              "    .colab-df-convert {\n",
              "      background-color: #E8F0FE;\n",
              "      border: none;\n",
              "      border-radius: 50%;\n",
              "      cursor: pointer;\n",
              "      display: none;\n",
              "      fill: #1967D2;\n",
              "      height: 32px;\n",
              "      padding: 0 0 0 0;\n",
              "      width: 32px;\n",
              "    }\n",
              "\n",
              "    .colab-df-convert:hover {\n",
              "      background-color: #E2EBFA;\n",
              "      box-shadow: 0px 1px 2px rgba(60, 64, 67, 0.3), 0px 1px 3px 1px rgba(60, 64, 67, 0.15);\n",
              "      fill: #174EA6;\n",
              "    }\n",
              "\n",
              "    .colab-df-buttons div {\n",
              "      margin-bottom: 4px;\n",
              "    }\n",
              "\n",
              "    [theme=dark] .colab-df-convert {\n",
              "      background-color: #3B4455;\n",
              "      fill: #D2E3FC;\n",
              "    }\n",
              "\n",
              "    [theme=dark] .colab-df-convert:hover {\n",
              "      background-color: #434B5C;\n",
              "      box-shadow: 0px 1px 3px 1px rgba(0, 0, 0, 0.15);\n",
              "      filter: drop-shadow(0px 1px 2px rgba(0, 0, 0, 0.3));\n",
              "      fill: #FFFFFF;\n",
              "    }\n",
              "  </style>\n",
              "\n",
              "    <script>\n",
              "      const buttonEl =\n",
              "        document.querySelector('#df-80b85430-fc22-4b1b-9e48-6cc86e8fa87b button.colab-df-convert');\n",
              "      buttonEl.style.display =\n",
              "        google.colab.kernel.accessAllowed ? 'block' : 'none';\n",
              "\n",
              "      async function convertToInteractive(key) {\n",
              "        const element = document.querySelector('#df-80b85430-fc22-4b1b-9e48-6cc86e8fa87b');\n",
              "        const dataTable =\n",
              "          await google.colab.kernel.invokeFunction('convertToInteractive',\n",
              "                                                    [key], {});\n",
              "        if (!dataTable) return;\n",
              "\n",
              "        const docLinkHtml = 'Like what you see? Visit the ' +\n",
              "          '<a target=\"_blank\" href=https://colab.research.google.com/notebooks/data_table.ipynb>data table notebook</a>'\n",
              "          + ' to learn more about interactive tables.';\n",
              "        element.innerHTML = '';\n",
              "        dataTable['output_type'] = 'display_data';\n",
              "        await google.colab.output.renderOutput(dataTable, element);\n",
              "        const docLink = document.createElement('div');\n",
              "        docLink.innerHTML = docLinkHtml;\n",
              "        element.appendChild(docLink);\n",
              "      }\n",
              "    </script>\n",
              "  </div>\n",
              "\n",
              "\n",
              "<div id=\"df-b9c73aa2-6f20-4bb6-a702-c218f0cf988b\">\n",
              "  <button class=\"colab-df-quickchart\" onclick=\"quickchart('df-b9c73aa2-6f20-4bb6-a702-c218f0cf988b')\"\n",
              "            title=\"Suggest charts\"\n",
              "            style=\"display:none;\">\n",
              "\n",
              "<svg xmlns=\"http://www.w3.org/2000/svg\" height=\"24px\"viewBox=\"0 0 24 24\"\n",
              "     width=\"24px\">\n",
              "    <g>\n",
              "        <path d=\"M19 3H5c-1.1 0-2 .9-2 2v14c0 1.1.9 2 2 2h14c1.1 0 2-.9 2-2V5c0-1.1-.9-2-2-2zM9 17H7v-7h2v7zm4 0h-2V7h2v10zm4 0h-2v-4h2v4z\"/>\n",
              "    </g>\n",
              "</svg>\n",
              "  </button>\n",
              "\n",
              "<style>\n",
              "  .colab-df-quickchart {\n",
              "      --bg-color: #E8F0FE;\n",
              "      --fill-color: #1967D2;\n",
              "      --hover-bg-color: #E2EBFA;\n",
              "      --hover-fill-color: #174EA6;\n",
              "      --disabled-fill-color: #AAA;\n",
              "      --disabled-bg-color: #DDD;\n",
              "  }\n",
              "\n",
              "  [theme=dark] .colab-df-quickchart {\n",
              "      --bg-color: #3B4455;\n",
              "      --fill-color: #D2E3FC;\n",
              "      --hover-bg-color: #434B5C;\n",
              "      --hover-fill-color: #FFFFFF;\n",
              "      --disabled-bg-color: #3B4455;\n",
              "      --disabled-fill-color: #666;\n",
              "  }\n",
              "\n",
              "  .colab-df-quickchart {\n",
              "    background-color: var(--bg-color);\n",
              "    border: none;\n",
              "    border-radius: 50%;\n",
              "    cursor: pointer;\n",
              "    display: none;\n",
              "    fill: var(--fill-color);\n",
              "    height: 32px;\n",
              "    padding: 0;\n",
              "    width: 32px;\n",
              "  }\n",
              "\n",
              "  .colab-df-quickchart:hover {\n",
              "    background-color: var(--hover-bg-color);\n",
              "    box-shadow: 0 1px 2px rgba(60, 64, 67, 0.3), 0 1px 3px 1px rgba(60, 64, 67, 0.15);\n",
              "    fill: var(--button-hover-fill-color);\n",
              "  }\n",
              "\n",
              "  .colab-df-quickchart-complete:disabled,\n",
              "  .colab-df-quickchart-complete:disabled:hover {\n",
              "    background-color: var(--disabled-bg-color);\n",
              "    fill: var(--disabled-fill-color);\n",
              "    box-shadow: none;\n",
              "  }\n",
              "\n",
              "  .colab-df-spinner {\n",
              "    border: 2px solid var(--fill-color);\n",
              "    border-color: transparent;\n",
              "    border-bottom-color: var(--fill-color);\n",
              "    animation:\n",
              "      spin 1s steps(1) infinite;\n",
              "  }\n",
              "\n",
              "  @keyframes spin {\n",
              "    0% {\n",
              "      border-color: transparent;\n",
              "      border-bottom-color: var(--fill-color);\n",
              "      border-left-color: var(--fill-color);\n",
              "    }\n",
              "    20% {\n",
              "      border-color: transparent;\n",
              "      border-left-color: var(--fill-color);\n",
              "      border-top-color: var(--fill-color);\n",
              "    }\n",
              "    30% {\n",
              "      border-color: transparent;\n",
              "      border-left-color: var(--fill-color);\n",
              "      border-top-color: var(--fill-color);\n",
              "      border-right-color: var(--fill-color);\n",
              "    }\n",
              "    40% {\n",
              "      border-color: transparent;\n",
              "      border-right-color: var(--fill-color);\n",
              "      border-top-color: var(--fill-color);\n",
              "    }\n",
              "    60% {\n",
              "      border-color: transparent;\n",
              "      border-right-color: var(--fill-color);\n",
              "    }\n",
              "    80% {\n",
              "      border-color: transparent;\n",
              "      border-right-color: var(--fill-color);\n",
              "      border-bottom-color: var(--fill-color);\n",
              "    }\n",
              "    90% {\n",
              "      border-color: transparent;\n",
              "      border-bottom-color: var(--fill-color);\n",
              "    }\n",
              "  }\n",
              "</style>\n",
              "\n",
              "  <script>\n",
              "    async function quickchart(key) {\n",
              "      const quickchartButtonEl =\n",
              "        document.querySelector('#' + key + ' button');\n",
              "      quickchartButtonEl.disabled = true;  // To prevent multiple clicks.\n",
              "      quickchartButtonEl.classList.add('colab-df-spinner');\n",
              "      try {\n",
              "        const charts = await google.colab.kernel.invokeFunction(\n",
              "            'suggestCharts', [key], {});\n",
              "      } catch (error) {\n",
              "        console.error('Error during call to suggestCharts:', error);\n",
              "      }\n",
              "      quickchartButtonEl.classList.remove('colab-df-spinner');\n",
              "      quickchartButtonEl.classList.add('colab-df-quickchart-complete');\n",
              "    }\n",
              "    (() => {\n",
              "      let quickchartButtonEl =\n",
              "        document.querySelector('#df-b9c73aa2-6f20-4bb6-a702-c218f0cf988b button');\n",
              "      quickchartButtonEl.style.display =\n",
              "        google.colab.kernel.accessAllowed ? 'block' : 'none';\n",
              "    })();\n",
              "  </script>\n",
              "</div>\n",
              "\n",
              "    </div>\n",
              "  </div>\n"
            ],
            "application/vnd.google.colaboratory.intrinsic+json": {
              "type": "dataframe",
              "summary": "{\n  \"name\": \"movies_df[['production_companies']]\",\n  \"rows\": 5,\n  \"fields\": [\n    {\n      \"column\": \"production_companies\",\n      \"properties\": {\n        \"dtype\": \"object\",\n        \"semantic_type\": \"\",\n        \"description\": \"\"\n      }\n    }\n  ]\n}"
            }
          },
          "metadata": {},
          "execution_count": 18
        }
      ]
    },
    {
      "cell_type": "markdown",
      "source": [
        "Visualizamos cómo quedaron las columnas desanidadas de `production_companies`"
      ],
      "metadata": {
        "id": "pHyAQRvSCNfr"
      }
    },
    {
      "cell_type": "code",
      "source": [
        "movies_df.info()"
      ],
      "metadata": {
        "colab": {
          "base_uri": "https://localhost:8080/"
        },
        "id": "aowAzj-c8qiV",
        "outputId": "ddf3ddaa-6fb2-4e5b-931b-7423cc0f81de"
      },
      "execution_count": null,
      "outputs": [
        {
          "output_type": "stream",
          "name": "stdout",
          "text": [
            "<class 'pandas.core.frame.DataFrame'>\n",
            "RangeIndex: 45466 entries, 0 to 45465\n",
            "Data columns (total 27 columns):\n",
            " #   Column                               Non-Null Count  Dtype  \n",
            "---  ------                               --------------  -----  \n",
            " 0   adult                                45466 non-null  object \n",
            " 1   budget                               45466 non-null  object \n",
            " 2   genres                               45466 non-null  object \n",
            " 3   homepage                             7782 non-null   object \n",
            " 4   id                                   45466 non-null  object \n",
            " 5   imdb_id                              45449 non-null  object \n",
            " 6   original_language                    45455 non-null  object \n",
            " 7   original_title                       45466 non-null  object \n",
            " 8   overview                             44512 non-null  object \n",
            " 9   popularity                           45461 non-null  object \n",
            " 10  poster_path                          45080 non-null  object \n",
            " 11  production_companies                 45460 non-null  object \n",
            " 12  production_countries                 45463 non-null  object \n",
            " 13  release_date                         45379 non-null  object \n",
            " 14  revenue                              45460 non-null  float64\n",
            " 15  runtime                              45203 non-null  float64\n",
            " 16  spoken_languages                     45460 non-null  object \n",
            " 17  status                               45379 non-null  object \n",
            " 18  tagline                              20412 non-null  object \n",
            " 19  title                                45460 non-null  object \n",
            " 20  video                                45460 non-null  object \n",
            " 21  vote_average                         45460 non-null  float64\n",
            " 22  vote_count                           45460 non-null  float64\n",
            " 23  belongs_to_collection_id             4491 non-null   float64\n",
            " 24  belongs_to_collection_name           4491 non-null   object \n",
            " 25  belongs_to_collection_poster_path    3948 non-null   object \n",
            " 26  belongs_to_collection_backdrop_path  3263 non-null   object \n",
            "dtypes: float64(5), object(22)\n",
            "memory usage: 9.4+ MB\n"
          ]
        }
      ]
    },
    {
      "cell_type": "markdown",
      "source": [
        "### 1.3.3. Columna `genres`"
      ],
      "metadata": {
        "id": "EB8MQB0V9mnL"
      }
    },
    {
      "cell_type": "markdown",
      "source": [
        "Se crea la función función `extraer_nombres` asegura que los valores de una columna en un DataFrame de pandas estén en formato de diccionario, manejando adecuadamente los valores nulos y las cadenas de texto."
      ],
      "metadata": {
        "id": "Thl6vu0LCxaQ"
      }
    },
    {
      "cell_type": "code",
      "source": [
        "# Función para extraer los nombres de los géneros\n",
        "def extraer_nombres(genres):\n",
        "    # Nos aseguramos de que el input es una lista (puede estar en formato string)\n",
        "    if isinstance(genres, str):\n",
        "        genres = ast.literal_eval(genres)\n",
        "    if isinstance(genres, list):\n",
        "        return [genre.get('name') for genre in genres if isinstance(genre, dict)]\n",
        "    return None"
      ],
      "metadata": {
        "id": "aueYM4ql9q-K"
      },
      "execution_count": null,
      "outputs": []
    },
    {
      "cell_type": "code",
      "source": [
        "# Aplicamos la función a la columna 'genres'\n",
        "movies_df['genres'] = movies_df['genres'].apply(extraer_nombres)"
      ],
      "metadata": {
        "id": "w5BPuJuf-0i2"
      },
      "execution_count": null,
      "outputs": []
    },
    {
      "cell_type": "code",
      "source": [
        "# Mostramos las primeras filas del DataFrame para verificar\n",
        "movies_df[['genres']].head()"
      ],
      "metadata": {
        "colab": {
          "base_uri": "https://localhost:8080/",
          "height": 206
        },
        "id": "WKvyhnOQ-8v2",
        "outputId": "f0663b01-51b5-4ffb-d3ac-ca0dae2e1b80"
      },
      "execution_count": null,
      "outputs": [
        {
          "output_type": "execute_result",
          "data": {
            "text/plain": [
              "                         genres\n",
              "0   [Animation, Comedy, Family]\n",
              "1  [Adventure, Fantasy, Family]\n",
              "2             [Romance, Comedy]\n",
              "3      [Comedy, Drama, Romance]\n",
              "4                      [Comedy]"
            ],
            "text/html": [
              "\n",
              "  <div id=\"df-7ecb47c3-3945-4f45-a93d-68fab36684dc\" class=\"colab-df-container\">\n",
              "    <div>\n",
              "<style scoped>\n",
              "    .dataframe tbody tr th:only-of-type {\n",
              "        vertical-align: middle;\n",
              "    }\n",
              "\n",
              "    .dataframe tbody tr th {\n",
              "        vertical-align: top;\n",
              "    }\n",
              "\n",
              "    .dataframe thead th {\n",
              "        text-align: right;\n",
              "    }\n",
              "</style>\n",
              "<table border=\"1\" class=\"dataframe\">\n",
              "  <thead>\n",
              "    <tr style=\"text-align: right;\">\n",
              "      <th></th>\n",
              "      <th>genres</th>\n",
              "    </tr>\n",
              "  </thead>\n",
              "  <tbody>\n",
              "    <tr>\n",
              "      <th>0</th>\n",
              "      <td>[Animation, Comedy, Family]</td>\n",
              "    </tr>\n",
              "    <tr>\n",
              "      <th>1</th>\n",
              "      <td>[Adventure, Fantasy, Family]</td>\n",
              "    </tr>\n",
              "    <tr>\n",
              "      <th>2</th>\n",
              "      <td>[Romance, Comedy]</td>\n",
              "    </tr>\n",
              "    <tr>\n",
              "      <th>3</th>\n",
              "      <td>[Comedy, Drama, Romance]</td>\n",
              "    </tr>\n",
              "    <tr>\n",
              "      <th>4</th>\n",
              "      <td>[Comedy]</td>\n",
              "    </tr>\n",
              "  </tbody>\n",
              "</table>\n",
              "</div>\n",
              "    <div class=\"colab-df-buttons\">\n",
              "\n",
              "  <div class=\"colab-df-container\">\n",
              "    <button class=\"colab-df-convert\" onclick=\"convertToInteractive('df-7ecb47c3-3945-4f45-a93d-68fab36684dc')\"\n",
              "            title=\"Convert this dataframe to an interactive table.\"\n",
              "            style=\"display:none;\">\n",
              "\n",
              "  <svg xmlns=\"http://www.w3.org/2000/svg\" height=\"24px\" viewBox=\"0 -960 960 960\">\n",
              "    <path d=\"M120-120v-720h720v720H120Zm60-500h600v-160H180v160Zm220 220h160v-160H400v160Zm0 220h160v-160H400v160ZM180-400h160v-160H180v160Zm440 0h160v-160H620v160ZM180-180h160v-160H180v160Zm440 0h160v-160H620v160Z\"/>\n",
              "  </svg>\n",
              "    </button>\n",
              "\n",
              "  <style>\n",
              "    .colab-df-container {\n",
              "      display:flex;\n",
              "      gap: 12px;\n",
              "    }\n",
              "\n",
              "    .colab-df-convert {\n",
              "      background-color: #E8F0FE;\n",
              "      border: none;\n",
              "      border-radius: 50%;\n",
              "      cursor: pointer;\n",
              "      display: none;\n",
              "      fill: #1967D2;\n",
              "      height: 32px;\n",
              "      padding: 0 0 0 0;\n",
              "      width: 32px;\n",
              "    }\n",
              "\n",
              "    .colab-df-convert:hover {\n",
              "      background-color: #E2EBFA;\n",
              "      box-shadow: 0px 1px 2px rgba(60, 64, 67, 0.3), 0px 1px 3px 1px rgba(60, 64, 67, 0.15);\n",
              "      fill: #174EA6;\n",
              "    }\n",
              "\n",
              "    .colab-df-buttons div {\n",
              "      margin-bottom: 4px;\n",
              "    }\n",
              "\n",
              "    [theme=dark] .colab-df-convert {\n",
              "      background-color: #3B4455;\n",
              "      fill: #D2E3FC;\n",
              "    }\n",
              "\n",
              "    [theme=dark] .colab-df-convert:hover {\n",
              "      background-color: #434B5C;\n",
              "      box-shadow: 0px 1px 3px 1px rgba(0, 0, 0, 0.15);\n",
              "      filter: drop-shadow(0px 1px 2px rgba(0, 0, 0, 0.3));\n",
              "      fill: #FFFFFF;\n",
              "    }\n",
              "  </style>\n",
              "\n",
              "    <script>\n",
              "      const buttonEl =\n",
              "        document.querySelector('#df-7ecb47c3-3945-4f45-a93d-68fab36684dc button.colab-df-convert');\n",
              "      buttonEl.style.display =\n",
              "        google.colab.kernel.accessAllowed ? 'block' : 'none';\n",
              "\n",
              "      async function convertToInteractive(key) {\n",
              "        const element = document.querySelector('#df-7ecb47c3-3945-4f45-a93d-68fab36684dc');\n",
              "        const dataTable =\n",
              "          await google.colab.kernel.invokeFunction('convertToInteractive',\n",
              "                                                    [key], {});\n",
              "        if (!dataTable) return;\n",
              "\n",
              "        const docLinkHtml = 'Like what you see? Visit the ' +\n",
              "          '<a target=\"_blank\" href=https://colab.research.google.com/notebooks/data_table.ipynb>data table notebook</a>'\n",
              "          + ' to learn more about interactive tables.';\n",
              "        element.innerHTML = '';\n",
              "        dataTable['output_type'] = 'display_data';\n",
              "        await google.colab.output.renderOutput(dataTable, element);\n",
              "        const docLink = document.createElement('div');\n",
              "        docLink.innerHTML = docLinkHtml;\n",
              "        element.appendChild(docLink);\n",
              "      }\n",
              "    </script>\n",
              "  </div>\n",
              "\n",
              "\n",
              "<div id=\"df-308432b0-ecf1-4926-a23b-e2efd17f8647\">\n",
              "  <button class=\"colab-df-quickchart\" onclick=\"quickchart('df-308432b0-ecf1-4926-a23b-e2efd17f8647')\"\n",
              "            title=\"Suggest charts\"\n",
              "            style=\"display:none;\">\n",
              "\n",
              "<svg xmlns=\"http://www.w3.org/2000/svg\" height=\"24px\"viewBox=\"0 0 24 24\"\n",
              "     width=\"24px\">\n",
              "    <g>\n",
              "        <path d=\"M19 3H5c-1.1 0-2 .9-2 2v14c0 1.1.9 2 2 2h14c1.1 0 2-.9 2-2V5c0-1.1-.9-2-2-2zM9 17H7v-7h2v7zm4 0h-2V7h2v10zm4 0h-2v-4h2v4z\"/>\n",
              "    </g>\n",
              "</svg>\n",
              "  </button>\n",
              "\n",
              "<style>\n",
              "  .colab-df-quickchart {\n",
              "      --bg-color: #E8F0FE;\n",
              "      --fill-color: #1967D2;\n",
              "      --hover-bg-color: #E2EBFA;\n",
              "      --hover-fill-color: #174EA6;\n",
              "      --disabled-fill-color: #AAA;\n",
              "      --disabled-bg-color: #DDD;\n",
              "  }\n",
              "\n",
              "  [theme=dark] .colab-df-quickchart {\n",
              "      --bg-color: #3B4455;\n",
              "      --fill-color: #D2E3FC;\n",
              "      --hover-bg-color: #434B5C;\n",
              "      --hover-fill-color: #FFFFFF;\n",
              "      --disabled-bg-color: #3B4455;\n",
              "      --disabled-fill-color: #666;\n",
              "  }\n",
              "\n",
              "  .colab-df-quickchart {\n",
              "    background-color: var(--bg-color);\n",
              "    border: none;\n",
              "    border-radius: 50%;\n",
              "    cursor: pointer;\n",
              "    display: none;\n",
              "    fill: var(--fill-color);\n",
              "    height: 32px;\n",
              "    padding: 0;\n",
              "    width: 32px;\n",
              "  }\n",
              "\n",
              "  .colab-df-quickchart:hover {\n",
              "    background-color: var(--hover-bg-color);\n",
              "    box-shadow: 0 1px 2px rgba(60, 64, 67, 0.3), 0 1px 3px 1px rgba(60, 64, 67, 0.15);\n",
              "    fill: var(--button-hover-fill-color);\n",
              "  }\n",
              "\n",
              "  .colab-df-quickchart-complete:disabled,\n",
              "  .colab-df-quickchart-complete:disabled:hover {\n",
              "    background-color: var(--disabled-bg-color);\n",
              "    fill: var(--disabled-fill-color);\n",
              "    box-shadow: none;\n",
              "  }\n",
              "\n",
              "  .colab-df-spinner {\n",
              "    border: 2px solid var(--fill-color);\n",
              "    border-color: transparent;\n",
              "    border-bottom-color: var(--fill-color);\n",
              "    animation:\n",
              "      spin 1s steps(1) infinite;\n",
              "  }\n",
              "\n",
              "  @keyframes spin {\n",
              "    0% {\n",
              "      border-color: transparent;\n",
              "      border-bottom-color: var(--fill-color);\n",
              "      border-left-color: var(--fill-color);\n",
              "    }\n",
              "    20% {\n",
              "      border-color: transparent;\n",
              "      border-left-color: var(--fill-color);\n",
              "      border-top-color: var(--fill-color);\n",
              "    }\n",
              "    30% {\n",
              "      border-color: transparent;\n",
              "      border-left-color: var(--fill-color);\n",
              "      border-top-color: var(--fill-color);\n",
              "      border-right-color: var(--fill-color);\n",
              "    }\n",
              "    40% {\n",
              "      border-color: transparent;\n",
              "      border-right-color: var(--fill-color);\n",
              "      border-top-color: var(--fill-color);\n",
              "    }\n",
              "    60% {\n",
              "      border-color: transparent;\n",
              "      border-right-color: var(--fill-color);\n",
              "    }\n",
              "    80% {\n",
              "      border-color: transparent;\n",
              "      border-right-color: var(--fill-color);\n",
              "      border-bottom-color: var(--fill-color);\n",
              "    }\n",
              "    90% {\n",
              "      border-color: transparent;\n",
              "      border-bottom-color: var(--fill-color);\n",
              "    }\n",
              "  }\n",
              "</style>\n",
              "\n",
              "  <script>\n",
              "    async function quickchart(key) {\n",
              "      const quickchartButtonEl =\n",
              "        document.querySelector('#' + key + ' button');\n",
              "      quickchartButtonEl.disabled = true;  // To prevent multiple clicks.\n",
              "      quickchartButtonEl.classList.add('colab-df-spinner');\n",
              "      try {\n",
              "        const charts = await google.colab.kernel.invokeFunction(\n",
              "            'suggestCharts', [key], {});\n",
              "      } catch (error) {\n",
              "        console.error('Error during call to suggestCharts:', error);\n",
              "      }\n",
              "      quickchartButtonEl.classList.remove('colab-df-spinner');\n",
              "      quickchartButtonEl.classList.add('colab-df-quickchart-complete');\n",
              "    }\n",
              "    (() => {\n",
              "      let quickchartButtonEl =\n",
              "        document.querySelector('#df-308432b0-ecf1-4926-a23b-e2efd17f8647 button');\n",
              "      quickchartButtonEl.style.display =\n",
              "        google.colab.kernel.accessAllowed ? 'block' : 'none';\n",
              "    })();\n",
              "  </script>\n",
              "</div>\n",
              "\n",
              "    </div>\n",
              "  </div>\n"
            ],
            "application/vnd.google.colaboratory.intrinsic+json": {
              "type": "dataframe",
              "summary": "{\n  \"name\": \"movies_df[['genres']]\",\n  \"rows\": 5,\n  \"fields\": [\n    {\n      \"column\": \"genres\",\n      \"properties\": {\n        \"dtype\": \"object\",\n        \"semantic_type\": \"\",\n        \"description\": \"\"\n      }\n    }\n  ]\n}"
            }
          },
          "metadata": {},
          "execution_count": 22
        }
      ]
    },
    {
      "cell_type": "markdown",
      "source": [
        "### 1.3.4. Columna `production_countries`"
      ],
      "metadata": {
        "id": "UmGnodfVW20R"
      }
    },
    {
      "cell_type": "markdown",
      "source": [
        "Se crea la función `extraer_paises`, la cual está diseñada para extraer los nombres de los países de producción de una lista de diccionarios (o una cadena que representa una lista)"
      ],
      "metadata": {
        "id": "XP0xaP9VDMQF"
      }
    },
    {
      "cell_type": "code",
      "source": [
        "# Función para extraer los nombres de los países de producción\n",
        "def extraer_paises(production_countries):\n",
        "    # Nos aseguramos de que el input es una lista (puede estar en formato string)\n",
        "    if isinstance(production_countries, str):\n",
        "        production_countries = ast.literal_eval(production_countries)\n",
        "    if isinstance(production_countries, list):\n",
        "        return [country.get('name') for country in production_countries if isinstance(country, dict)]\n",
        "    return None"
      ],
      "metadata": {
        "id": "gO_X3Pr1Wf1y"
      },
      "execution_count": null,
      "outputs": []
    },
    {
      "cell_type": "code",
      "source": [
        "# Aplicamos la función a la columna 'production_countries'\n",
        "movies_df['production_countries'] = movies_df['production_countries'].apply(extraer_paises)\n"
      ],
      "metadata": {
        "id": "qgWEP5_LW9V1"
      },
      "execution_count": null,
      "outputs": []
    },
    {
      "cell_type": "code",
      "source": [
        "# Mostramos las primeras filas del DataFrame para verificar\n",
        "movies_df[['production_countries']].head()"
      ],
      "metadata": {
        "colab": {
          "base_uri": "https://localhost:8080/",
          "height": 206
        },
        "id": "trzG32wSXATX",
        "outputId": "caee6ab2-f7bd-41bc-dcf6-6d4571a1111e"
      },
      "execution_count": null,
      "outputs": [
        {
          "output_type": "execute_result",
          "data": {
            "text/plain": [
              "         production_countries\n",
              "0  [United States of America]\n",
              "1  [United States of America]\n",
              "2  [United States of America]\n",
              "3  [United States of America]\n",
              "4  [United States of America]"
            ],
            "text/html": [
              "\n",
              "  <div id=\"df-807c794d-a2d3-498b-9197-4e269d0d5a5e\" class=\"colab-df-container\">\n",
              "    <div>\n",
              "<style scoped>\n",
              "    .dataframe tbody tr th:only-of-type {\n",
              "        vertical-align: middle;\n",
              "    }\n",
              "\n",
              "    .dataframe tbody tr th {\n",
              "        vertical-align: top;\n",
              "    }\n",
              "\n",
              "    .dataframe thead th {\n",
              "        text-align: right;\n",
              "    }\n",
              "</style>\n",
              "<table border=\"1\" class=\"dataframe\">\n",
              "  <thead>\n",
              "    <tr style=\"text-align: right;\">\n",
              "      <th></th>\n",
              "      <th>production_countries</th>\n",
              "    </tr>\n",
              "  </thead>\n",
              "  <tbody>\n",
              "    <tr>\n",
              "      <th>0</th>\n",
              "      <td>[United States of America]</td>\n",
              "    </tr>\n",
              "    <tr>\n",
              "      <th>1</th>\n",
              "      <td>[United States of America]</td>\n",
              "    </tr>\n",
              "    <tr>\n",
              "      <th>2</th>\n",
              "      <td>[United States of America]</td>\n",
              "    </tr>\n",
              "    <tr>\n",
              "      <th>3</th>\n",
              "      <td>[United States of America]</td>\n",
              "    </tr>\n",
              "    <tr>\n",
              "      <th>4</th>\n",
              "      <td>[United States of America]</td>\n",
              "    </tr>\n",
              "  </tbody>\n",
              "</table>\n",
              "</div>\n",
              "    <div class=\"colab-df-buttons\">\n",
              "\n",
              "  <div class=\"colab-df-container\">\n",
              "    <button class=\"colab-df-convert\" onclick=\"convertToInteractive('df-807c794d-a2d3-498b-9197-4e269d0d5a5e')\"\n",
              "            title=\"Convert this dataframe to an interactive table.\"\n",
              "            style=\"display:none;\">\n",
              "\n",
              "  <svg xmlns=\"http://www.w3.org/2000/svg\" height=\"24px\" viewBox=\"0 -960 960 960\">\n",
              "    <path d=\"M120-120v-720h720v720H120Zm60-500h600v-160H180v160Zm220 220h160v-160H400v160Zm0 220h160v-160H400v160ZM180-400h160v-160H180v160Zm440 0h160v-160H620v160ZM180-180h160v-160H180v160Zm440 0h160v-160H620v160Z\"/>\n",
              "  </svg>\n",
              "    </button>\n",
              "\n",
              "  <style>\n",
              "    .colab-df-container {\n",
              "      display:flex;\n",
              "      gap: 12px;\n",
              "    }\n",
              "\n",
              "    .colab-df-convert {\n",
              "      background-color: #E8F0FE;\n",
              "      border: none;\n",
              "      border-radius: 50%;\n",
              "      cursor: pointer;\n",
              "      display: none;\n",
              "      fill: #1967D2;\n",
              "      height: 32px;\n",
              "      padding: 0 0 0 0;\n",
              "      width: 32px;\n",
              "    }\n",
              "\n",
              "    .colab-df-convert:hover {\n",
              "      background-color: #E2EBFA;\n",
              "      box-shadow: 0px 1px 2px rgba(60, 64, 67, 0.3), 0px 1px 3px 1px rgba(60, 64, 67, 0.15);\n",
              "      fill: #174EA6;\n",
              "    }\n",
              "\n",
              "    .colab-df-buttons div {\n",
              "      margin-bottom: 4px;\n",
              "    }\n",
              "\n",
              "    [theme=dark] .colab-df-convert {\n",
              "      background-color: #3B4455;\n",
              "      fill: #D2E3FC;\n",
              "    }\n",
              "\n",
              "    [theme=dark] .colab-df-convert:hover {\n",
              "      background-color: #434B5C;\n",
              "      box-shadow: 0px 1px 3px 1px rgba(0, 0, 0, 0.15);\n",
              "      filter: drop-shadow(0px 1px 2px rgba(0, 0, 0, 0.3));\n",
              "      fill: #FFFFFF;\n",
              "    }\n",
              "  </style>\n",
              "\n",
              "    <script>\n",
              "      const buttonEl =\n",
              "        document.querySelector('#df-807c794d-a2d3-498b-9197-4e269d0d5a5e button.colab-df-convert');\n",
              "      buttonEl.style.display =\n",
              "        google.colab.kernel.accessAllowed ? 'block' : 'none';\n",
              "\n",
              "      async function convertToInteractive(key) {\n",
              "        const element = document.querySelector('#df-807c794d-a2d3-498b-9197-4e269d0d5a5e');\n",
              "        const dataTable =\n",
              "          await google.colab.kernel.invokeFunction('convertToInteractive',\n",
              "                                                    [key], {});\n",
              "        if (!dataTable) return;\n",
              "\n",
              "        const docLinkHtml = 'Like what you see? Visit the ' +\n",
              "          '<a target=\"_blank\" href=https://colab.research.google.com/notebooks/data_table.ipynb>data table notebook</a>'\n",
              "          + ' to learn more about interactive tables.';\n",
              "        element.innerHTML = '';\n",
              "        dataTable['output_type'] = 'display_data';\n",
              "        await google.colab.output.renderOutput(dataTable, element);\n",
              "        const docLink = document.createElement('div');\n",
              "        docLink.innerHTML = docLinkHtml;\n",
              "        element.appendChild(docLink);\n",
              "      }\n",
              "    </script>\n",
              "  </div>\n",
              "\n",
              "\n",
              "<div id=\"df-ce159851-d1be-4e73-b597-1f2dfe6ce078\">\n",
              "  <button class=\"colab-df-quickchart\" onclick=\"quickchart('df-ce159851-d1be-4e73-b597-1f2dfe6ce078')\"\n",
              "            title=\"Suggest charts\"\n",
              "            style=\"display:none;\">\n",
              "\n",
              "<svg xmlns=\"http://www.w3.org/2000/svg\" height=\"24px\"viewBox=\"0 0 24 24\"\n",
              "     width=\"24px\">\n",
              "    <g>\n",
              "        <path d=\"M19 3H5c-1.1 0-2 .9-2 2v14c0 1.1.9 2 2 2h14c1.1 0 2-.9 2-2V5c0-1.1-.9-2-2-2zM9 17H7v-7h2v7zm4 0h-2V7h2v10zm4 0h-2v-4h2v4z\"/>\n",
              "    </g>\n",
              "</svg>\n",
              "  </button>\n",
              "\n",
              "<style>\n",
              "  .colab-df-quickchart {\n",
              "      --bg-color: #E8F0FE;\n",
              "      --fill-color: #1967D2;\n",
              "      --hover-bg-color: #E2EBFA;\n",
              "      --hover-fill-color: #174EA6;\n",
              "      --disabled-fill-color: #AAA;\n",
              "      --disabled-bg-color: #DDD;\n",
              "  }\n",
              "\n",
              "  [theme=dark] .colab-df-quickchart {\n",
              "      --bg-color: #3B4455;\n",
              "      --fill-color: #D2E3FC;\n",
              "      --hover-bg-color: #434B5C;\n",
              "      --hover-fill-color: #FFFFFF;\n",
              "      --disabled-bg-color: #3B4455;\n",
              "      --disabled-fill-color: #666;\n",
              "  }\n",
              "\n",
              "  .colab-df-quickchart {\n",
              "    background-color: var(--bg-color);\n",
              "    border: none;\n",
              "    border-radius: 50%;\n",
              "    cursor: pointer;\n",
              "    display: none;\n",
              "    fill: var(--fill-color);\n",
              "    height: 32px;\n",
              "    padding: 0;\n",
              "    width: 32px;\n",
              "  }\n",
              "\n",
              "  .colab-df-quickchart:hover {\n",
              "    background-color: var(--hover-bg-color);\n",
              "    box-shadow: 0 1px 2px rgba(60, 64, 67, 0.3), 0 1px 3px 1px rgba(60, 64, 67, 0.15);\n",
              "    fill: var(--button-hover-fill-color);\n",
              "  }\n",
              "\n",
              "  .colab-df-quickchart-complete:disabled,\n",
              "  .colab-df-quickchart-complete:disabled:hover {\n",
              "    background-color: var(--disabled-bg-color);\n",
              "    fill: var(--disabled-fill-color);\n",
              "    box-shadow: none;\n",
              "  }\n",
              "\n",
              "  .colab-df-spinner {\n",
              "    border: 2px solid var(--fill-color);\n",
              "    border-color: transparent;\n",
              "    border-bottom-color: var(--fill-color);\n",
              "    animation:\n",
              "      spin 1s steps(1) infinite;\n",
              "  }\n",
              "\n",
              "  @keyframes spin {\n",
              "    0% {\n",
              "      border-color: transparent;\n",
              "      border-bottom-color: var(--fill-color);\n",
              "      border-left-color: var(--fill-color);\n",
              "    }\n",
              "    20% {\n",
              "      border-color: transparent;\n",
              "      border-left-color: var(--fill-color);\n",
              "      border-top-color: var(--fill-color);\n",
              "    }\n",
              "    30% {\n",
              "      border-color: transparent;\n",
              "      border-left-color: var(--fill-color);\n",
              "      border-top-color: var(--fill-color);\n",
              "      border-right-color: var(--fill-color);\n",
              "    }\n",
              "    40% {\n",
              "      border-color: transparent;\n",
              "      border-right-color: var(--fill-color);\n",
              "      border-top-color: var(--fill-color);\n",
              "    }\n",
              "    60% {\n",
              "      border-color: transparent;\n",
              "      border-right-color: var(--fill-color);\n",
              "    }\n",
              "    80% {\n",
              "      border-color: transparent;\n",
              "      border-right-color: var(--fill-color);\n",
              "      border-bottom-color: var(--fill-color);\n",
              "    }\n",
              "    90% {\n",
              "      border-color: transparent;\n",
              "      border-bottom-color: var(--fill-color);\n",
              "    }\n",
              "  }\n",
              "</style>\n",
              "\n",
              "  <script>\n",
              "    async function quickchart(key) {\n",
              "      const quickchartButtonEl =\n",
              "        document.querySelector('#' + key + ' button');\n",
              "      quickchartButtonEl.disabled = true;  // To prevent multiple clicks.\n",
              "      quickchartButtonEl.classList.add('colab-df-spinner');\n",
              "      try {\n",
              "        const charts = await google.colab.kernel.invokeFunction(\n",
              "            'suggestCharts', [key], {});\n",
              "      } catch (error) {\n",
              "        console.error('Error during call to suggestCharts:', error);\n",
              "      }\n",
              "      quickchartButtonEl.classList.remove('colab-df-spinner');\n",
              "      quickchartButtonEl.classList.add('colab-df-quickchart-complete');\n",
              "    }\n",
              "    (() => {\n",
              "      let quickchartButtonEl =\n",
              "        document.querySelector('#df-ce159851-d1be-4e73-b597-1f2dfe6ce078 button');\n",
              "      quickchartButtonEl.style.display =\n",
              "        google.colab.kernel.accessAllowed ? 'block' : 'none';\n",
              "    })();\n",
              "  </script>\n",
              "</div>\n",
              "\n",
              "    </div>\n",
              "  </div>\n"
            ],
            "application/vnd.google.colaboratory.intrinsic+json": {
              "type": "dataframe",
              "summary": "{\n  \"name\": \"movies_df[['production_countries']]\",\n  \"rows\": 5,\n  \"fields\": [\n    {\n      \"column\": \"production_countries\",\n      \"properties\": {\n        \"dtype\": \"object\",\n        \"semantic_type\": \"\",\n        \"description\": \"\"\n      }\n    }\n  ]\n}"
            }
          },
          "metadata": {},
          "execution_count": 25
        }
      ]
    },
    {
      "cell_type": "markdown",
      "source": [
        "Visualizamos cómo quedaron las columnas desanidadas de `production_countries`"
      ],
      "metadata": {
        "id": "OREZzrFODhjm"
      }
    },
    {
      "cell_type": "code",
      "source": [
        "movies_df.info()"
      ],
      "metadata": {
        "colab": {
          "base_uri": "https://localhost:8080/"
        },
        "id": "TFLba9-z_FqP",
        "outputId": "a6f20df1-2b85-401e-8dde-5d95c7334dd5"
      },
      "execution_count": null,
      "outputs": [
        {
          "output_type": "stream",
          "name": "stdout",
          "text": [
            "<class 'pandas.core.frame.DataFrame'>\n",
            "RangeIndex: 45466 entries, 0 to 45465\n",
            "Data columns (total 27 columns):\n",
            " #   Column                               Non-Null Count  Dtype  \n",
            "---  ------                               --------------  -----  \n",
            " 0   adult                                45466 non-null  object \n",
            " 1   budget                               45466 non-null  object \n",
            " 2   genres                               45466 non-null  object \n",
            " 3   homepage                             7782 non-null   object \n",
            " 4   id                                   45466 non-null  object \n",
            " 5   imdb_id                              45449 non-null  object \n",
            " 6   original_language                    45455 non-null  object \n",
            " 7   original_title                       45466 non-null  object \n",
            " 8   overview                             44512 non-null  object \n",
            " 9   popularity                           45461 non-null  object \n",
            " 10  poster_path                          45080 non-null  object \n",
            " 11  production_companies                 45460 non-null  object \n",
            " 12  production_countries                 45460 non-null  object \n",
            " 13  release_date                         45379 non-null  object \n",
            " 14  revenue                              45460 non-null  float64\n",
            " 15  runtime                              45203 non-null  float64\n",
            " 16  spoken_languages                     45460 non-null  object \n",
            " 17  status                               45379 non-null  object \n",
            " 18  tagline                              20412 non-null  object \n",
            " 19  title                                45460 non-null  object \n",
            " 20  video                                45460 non-null  object \n",
            " 21  vote_average                         45460 non-null  float64\n",
            " 22  vote_count                           45460 non-null  float64\n",
            " 23  belongs_to_collection_id             4491 non-null   float64\n",
            " 24  belongs_to_collection_name           4491 non-null   object \n",
            " 25  belongs_to_collection_poster_path    3948 non-null   object \n",
            " 26  belongs_to_collection_backdrop_path  3263 non-null   object \n",
            "dtypes: float64(5), object(22)\n",
            "memory usage: 9.4+ MB\n"
          ]
        }
      ]
    },
    {
      "cell_type": "markdown",
      "source": [
        "### 1.3.4. Columna `spoken_languages`"
      ],
      "metadata": {
        "id": "rhi-BDzZXlFU"
      }
    },
    {
      "cell_type": "markdown",
      "source": [
        "Se crea la función `extraer_idiomas`, la cual está diseñada para extraer los nombres de los idiomas hablados a partir de una lista de diccionarios (o una cadena que representa dicha lista)"
      ],
      "metadata": {
        "id": "2nay8od5D8dT"
      }
    },
    {
      "cell_type": "code",
      "source": [
        "# Función para extraer los nombres de los idiomas hablados\n",
        "def extraer_idiomas(spoken_languages):\n",
        "    # Nos aseguramos de que el input es una lista (puede estar en formato string)\n",
        "    if isinstance(spoken_languages, str):\n",
        "        spoken_languages = ast.literal_eval(spoken_languages)\n",
        "    if isinstance(spoken_languages, list):\n",
        "        return [language.get('name') for language in spoken_languages if isinstance(language, dict)]\n",
        "    return None"
      ],
      "metadata": {
        "id": "KgtQK-SRXvri"
      },
      "execution_count": null,
      "outputs": []
    },
    {
      "cell_type": "code",
      "source": [
        "# Aplicamos la función a la columna 'spoken_languages'\n",
        "movies_df['spoken_languages'] = movies_df['spoken_languages'].apply(extraer_idiomas)"
      ],
      "metadata": {
        "id": "H9Ul9nWaXy_R"
      },
      "execution_count": null,
      "outputs": []
    },
    {
      "cell_type": "code",
      "source": [
        "# Mostramos las primeras filas del DataFrame para verificar\n",
        "movies_df[['spoken_languages']].head()"
      ],
      "metadata": {
        "colab": {
          "base_uri": "https://localhost:8080/",
          "height": 206
        },
        "id": "d_ScwXfjX0Vl",
        "outputId": "a84af3ee-e2f7-48c5-c3a8-2fc822978a54"
      },
      "execution_count": null,
      "outputs": [
        {
          "output_type": "execute_result",
          "data": {
            "text/plain": [
              "      spoken_languages\n",
              "0            [English]\n",
              "1  [English, Français]\n",
              "2            [English]\n",
              "3            [English]\n",
              "4            [English]"
            ],
            "text/html": [
              "\n",
              "  <div id=\"df-cbefafb8-7ed6-4212-9fe1-4bb77108ecde\" class=\"colab-df-container\">\n",
              "    <div>\n",
              "<style scoped>\n",
              "    .dataframe tbody tr th:only-of-type {\n",
              "        vertical-align: middle;\n",
              "    }\n",
              "\n",
              "    .dataframe tbody tr th {\n",
              "        vertical-align: top;\n",
              "    }\n",
              "\n",
              "    .dataframe thead th {\n",
              "        text-align: right;\n",
              "    }\n",
              "</style>\n",
              "<table border=\"1\" class=\"dataframe\">\n",
              "  <thead>\n",
              "    <tr style=\"text-align: right;\">\n",
              "      <th></th>\n",
              "      <th>spoken_languages</th>\n",
              "    </tr>\n",
              "  </thead>\n",
              "  <tbody>\n",
              "    <tr>\n",
              "      <th>0</th>\n",
              "      <td>[English]</td>\n",
              "    </tr>\n",
              "    <tr>\n",
              "      <th>1</th>\n",
              "      <td>[English, Français]</td>\n",
              "    </tr>\n",
              "    <tr>\n",
              "      <th>2</th>\n",
              "      <td>[English]</td>\n",
              "    </tr>\n",
              "    <tr>\n",
              "      <th>3</th>\n",
              "      <td>[English]</td>\n",
              "    </tr>\n",
              "    <tr>\n",
              "      <th>4</th>\n",
              "      <td>[English]</td>\n",
              "    </tr>\n",
              "  </tbody>\n",
              "</table>\n",
              "</div>\n",
              "    <div class=\"colab-df-buttons\">\n",
              "\n",
              "  <div class=\"colab-df-container\">\n",
              "    <button class=\"colab-df-convert\" onclick=\"convertToInteractive('df-cbefafb8-7ed6-4212-9fe1-4bb77108ecde')\"\n",
              "            title=\"Convert this dataframe to an interactive table.\"\n",
              "            style=\"display:none;\">\n",
              "\n",
              "  <svg xmlns=\"http://www.w3.org/2000/svg\" height=\"24px\" viewBox=\"0 -960 960 960\">\n",
              "    <path d=\"M120-120v-720h720v720H120Zm60-500h600v-160H180v160Zm220 220h160v-160H400v160Zm0 220h160v-160H400v160ZM180-400h160v-160H180v160Zm440 0h160v-160H620v160ZM180-180h160v-160H180v160Zm440 0h160v-160H620v160Z\"/>\n",
              "  </svg>\n",
              "    </button>\n",
              "\n",
              "  <style>\n",
              "    .colab-df-container {\n",
              "      display:flex;\n",
              "      gap: 12px;\n",
              "    }\n",
              "\n",
              "    .colab-df-convert {\n",
              "      background-color: #E8F0FE;\n",
              "      border: none;\n",
              "      border-radius: 50%;\n",
              "      cursor: pointer;\n",
              "      display: none;\n",
              "      fill: #1967D2;\n",
              "      height: 32px;\n",
              "      padding: 0 0 0 0;\n",
              "      width: 32px;\n",
              "    }\n",
              "\n",
              "    .colab-df-convert:hover {\n",
              "      background-color: #E2EBFA;\n",
              "      box-shadow: 0px 1px 2px rgba(60, 64, 67, 0.3), 0px 1px 3px 1px rgba(60, 64, 67, 0.15);\n",
              "      fill: #174EA6;\n",
              "    }\n",
              "\n",
              "    .colab-df-buttons div {\n",
              "      margin-bottom: 4px;\n",
              "    }\n",
              "\n",
              "    [theme=dark] .colab-df-convert {\n",
              "      background-color: #3B4455;\n",
              "      fill: #D2E3FC;\n",
              "    }\n",
              "\n",
              "    [theme=dark] .colab-df-convert:hover {\n",
              "      background-color: #434B5C;\n",
              "      box-shadow: 0px 1px 3px 1px rgba(0, 0, 0, 0.15);\n",
              "      filter: drop-shadow(0px 1px 2px rgba(0, 0, 0, 0.3));\n",
              "      fill: #FFFFFF;\n",
              "    }\n",
              "  </style>\n",
              "\n",
              "    <script>\n",
              "      const buttonEl =\n",
              "        document.querySelector('#df-cbefafb8-7ed6-4212-9fe1-4bb77108ecde button.colab-df-convert');\n",
              "      buttonEl.style.display =\n",
              "        google.colab.kernel.accessAllowed ? 'block' : 'none';\n",
              "\n",
              "      async function convertToInteractive(key) {\n",
              "        const element = document.querySelector('#df-cbefafb8-7ed6-4212-9fe1-4bb77108ecde');\n",
              "        const dataTable =\n",
              "          await google.colab.kernel.invokeFunction('convertToInteractive',\n",
              "                                                    [key], {});\n",
              "        if (!dataTable) return;\n",
              "\n",
              "        const docLinkHtml = 'Like what you see? Visit the ' +\n",
              "          '<a target=\"_blank\" href=https://colab.research.google.com/notebooks/data_table.ipynb>data table notebook</a>'\n",
              "          + ' to learn more about interactive tables.';\n",
              "        element.innerHTML = '';\n",
              "        dataTable['output_type'] = 'display_data';\n",
              "        await google.colab.output.renderOutput(dataTable, element);\n",
              "        const docLink = document.createElement('div');\n",
              "        docLink.innerHTML = docLinkHtml;\n",
              "        element.appendChild(docLink);\n",
              "      }\n",
              "    </script>\n",
              "  </div>\n",
              "\n",
              "\n",
              "<div id=\"df-fa2ea444-d331-4de9-8730-5b8d8df4f5cd\">\n",
              "  <button class=\"colab-df-quickchart\" onclick=\"quickchart('df-fa2ea444-d331-4de9-8730-5b8d8df4f5cd')\"\n",
              "            title=\"Suggest charts\"\n",
              "            style=\"display:none;\">\n",
              "\n",
              "<svg xmlns=\"http://www.w3.org/2000/svg\" height=\"24px\"viewBox=\"0 0 24 24\"\n",
              "     width=\"24px\">\n",
              "    <g>\n",
              "        <path d=\"M19 3H5c-1.1 0-2 .9-2 2v14c0 1.1.9 2 2 2h14c1.1 0 2-.9 2-2V5c0-1.1-.9-2-2-2zM9 17H7v-7h2v7zm4 0h-2V7h2v10zm4 0h-2v-4h2v4z\"/>\n",
              "    </g>\n",
              "</svg>\n",
              "  </button>\n",
              "\n",
              "<style>\n",
              "  .colab-df-quickchart {\n",
              "      --bg-color: #E8F0FE;\n",
              "      --fill-color: #1967D2;\n",
              "      --hover-bg-color: #E2EBFA;\n",
              "      --hover-fill-color: #174EA6;\n",
              "      --disabled-fill-color: #AAA;\n",
              "      --disabled-bg-color: #DDD;\n",
              "  }\n",
              "\n",
              "  [theme=dark] .colab-df-quickchart {\n",
              "      --bg-color: #3B4455;\n",
              "      --fill-color: #D2E3FC;\n",
              "      --hover-bg-color: #434B5C;\n",
              "      --hover-fill-color: #FFFFFF;\n",
              "      --disabled-bg-color: #3B4455;\n",
              "      --disabled-fill-color: #666;\n",
              "  }\n",
              "\n",
              "  .colab-df-quickchart {\n",
              "    background-color: var(--bg-color);\n",
              "    border: none;\n",
              "    border-radius: 50%;\n",
              "    cursor: pointer;\n",
              "    display: none;\n",
              "    fill: var(--fill-color);\n",
              "    height: 32px;\n",
              "    padding: 0;\n",
              "    width: 32px;\n",
              "  }\n",
              "\n",
              "  .colab-df-quickchart:hover {\n",
              "    background-color: var(--hover-bg-color);\n",
              "    box-shadow: 0 1px 2px rgba(60, 64, 67, 0.3), 0 1px 3px 1px rgba(60, 64, 67, 0.15);\n",
              "    fill: var(--button-hover-fill-color);\n",
              "  }\n",
              "\n",
              "  .colab-df-quickchart-complete:disabled,\n",
              "  .colab-df-quickchart-complete:disabled:hover {\n",
              "    background-color: var(--disabled-bg-color);\n",
              "    fill: var(--disabled-fill-color);\n",
              "    box-shadow: none;\n",
              "  }\n",
              "\n",
              "  .colab-df-spinner {\n",
              "    border: 2px solid var(--fill-color);\n",
              "    border-color: transparent;\n",
              "    border-bottom-color: var(--fill-color);\n",
              "    animation:\n",
              "      spin 1s steps(1) infinite;\n",
              "  }\n",
              "\n",
              "  @keyframes spin {\n",
              "    0% {\n",
              "      border-color: transparent;\n",
              "      border-bottom-color: var(--fill-color);\n",
              "      border-left-color: var(--fill-color);\n",
              "    }\n",
              "    20% {\n",
              "      border-color: transparent;\n",
              "      border-left-color: var(--fill-color);\n",
              "      border-top-color: var(--fill-color);\n",
              "    }\n",
              "    30% {\n",
              "      border-color: transparent;\n",
              "      border-left-color: var(--fill-color);\n",
              "      border-top-color: var(--fill-color);\n",
              "      border-right-color: var(--fill-color);\n",
              "    }\n",
              "    40% {\n",
              "      border-color: transparent;\n",
              "      border-right-color: var(--fill-color);\n",
              "      border-top-color: var(--fill-color);\n",
              "    }\n",
              "    60% {\n",
              "      border-color: transparent;\n",
              "      border-right-color: var(--fill-color);\n",
              "    }\n",
              "    80% {\n",
              "      border-color: transparent;\n",
              "      border-right-color: var(--fill-color);\n",
              "      border-bottom-color: var(--fill-color);\n",
              "    }\n",
              "    90% {\n",
              "      border-color: transparent;\n",
              "      border-bottom-color: var(--fill-color);\n",
              "    }\n",
              "  }\n",
              "</style>\n",
              "\n",
              "  <script>\n",
              "    async function quickchart(key) {\n",
              "      const quickchartButtonEl =\n",
              "        document.querySelector('#' + key + ' button');\n",
              "      quickchartButtonEl.disabled = true;  // To prevent multiple clicks.\n",
              "      quickchartButtonEl.classList.add('colab-df-spinner');\n",
              "      try {\n",
              "        const charts = await google.colab.kernel.invokeFunction(\n",
              "            'suggestCharts', [key], {});\n",
              "      } catch (error) {\n",
              "        console.error('Error during call to suggestCharts:', error);\n",
              "      }\n",
              "      quickchartButtonEl.classList.remove('colab-df-spinner');\n",
              "      quickchartButtonEl.classList.add('colab-df-quickchart-complete');\n",
              "    }\n",
              "    (() => {\n",
              "      let quickchartButtonEl =\n",
              "        document.querySelector('#df-fa2ea444-d331-4de9-8730-5b8d8df4f5cd button');\n",
              "      quickchartButtonEl.style.display =\n",
              "        google.colab.kernel.accessAllowed ? 'block' : 'none';\n",
              "    })();\n",
              "  </script>\n",
              "</div>\n",
              "\n",
              "    </div>\n",
              "  </div>\n"
            ],
            "application/vnd.google.colaboratory.intrinsic+json": {
              "type": "dataframe",
              "summary": "{\n  \"name\": \"movies_df[['spoken_languages']]\",\n  \"rows\": 5,\n  \"fields\": [\n    {\n      \"column\": \"spoken_languages\",\n      \"properties\": {\n        \"dtype\": \"object\",\n        \"semantic_type\": \"\",\n        \"description\": \"\"\n      }\n    }\n  ]\n}"
            }
          },
          "metadata": {},
          "execution_count": 29
        }
      ]
    },
    {
      "cell_type": "markdown",
      "source": [
        "### 1.3.4. Valores nulos de los campos `revenue` y `budget`"
      ],
      "metadata": {
        "id": "3BWV2342AjKO"
      }
    },
    {
      "cell_type": "code",
      "source": [
        "# Rellenar los valores nulos de las columnas 'revenue' y 'budget' con 0\n",
        "movies_df['revenue'].fillna(0, inplace=True)\n",
        "movies_df['budget'].fillna(0, inplace=True)"
      ],
      "metadata": {
        "id": "kGijhIV8ArHF"
      },
      "execution_count": null,
      "outputs": []
    },
    {
      "cell_type": "code",
      "source": [
        "# Verificamos que se hayan rellenado los valores nulos\n",
        "print(movies_df[['revenue', 'budget']].isnull().sum())"
      ],
      "metadata": {
        "colab": {
          "base_uri": "https://localhost:8080/"
        },
        "id": "cYEoU5BhBJuO",
        "outputId": "f028763e-f628-4a51-9eb2-f1cabc9f822a"
      },
      "execution_count": null,
      "outputs": [
        {
          "output_type": "stream",
          "name": "stdout",
          "text": [
            "revenue    0\n",
            "budget     0\n",
            "dtype: int64\n"
          ]
        }
      ]
    },
    {
      "cell_type": "markdown",
      "source": [
        "### 1.3.5. Valores nulos del campo `releas_date`"
      ],
      "metadata": {
        "id": "_7t2TCvDBh3J"
      }
    },
    {
      "cell_type": "code",
      "source": [
        "# Eliminamos las filas con valores nulos en la columna 'release_date'\n",
        "movies_df.dropna(subset=['release_date'], inplace=True)\n",
        "\n",
        "# Este método elimina todas las filas del DataFrame que tienen valores nulos en la columna release_date.\n",
        "# subset=['release_date']: Indica que solo se deben considerar los valores nulos en esta columna."
      ],
      "metadata": {
        "id": "oZ8PNYp2Bpo9"
      },
      "execution_count": null,
      "outputs": []
    },
    {
      "cell_type": "code",
      "source": [
        "# Verificamos que se hayan eliminado los valores nulos\n",
        "print(movies_df['release_date'].isnull().sum())"
      ],
      "metadata": {
        "colab": {
          "base_uri": "https://localhost:8080/"
        },
        "id": "M77VIs_WB514",
        "outputId": "35388edf-7fd3-461b-c658-f85fd3bef2f4"
      },
      "execution_count": null,
      "outputs": [
        {
          "output_type": "stream",
          "name": "stdout",
          "text": [
            "0\n"
          ]
        }
      ]
    },
    {
      "cell_type": "markdown",
      "source": [
        "### 1.3.6. Formato de fecha y creación de columna `release_year`"
      ],
      "metadata": {
        "id": "ra7pN7ZtCSpm"
      }
    },
    {
      "cell_type": "code",
      "source": [
        "# Revisamos el formato de la fecha\n",
        "movies_df.release_date"
      ],
      "metadata": {
        "colab": {
          "base_uri": "https://localhost:8080/",
          "height": 458
        },
        "id": "f9nTerneCeXg",
        "outputId": "cf108f3a-cd23-488d-9aba-f8a962812313"
      },
      "execution_count": null,
      "outputs": [
        {
          "output_type": "execute_result",
          "data": {
            "text/plain": [
              "0        1995-10-30\n",
              "1        1995-12-15\n",
              "2        1995-12-22\n",
              "3        1995-12-22\n",
              "4        1995-02-10\n",
              "            ...    \n",
              "45460    1991-05-13\n",
              "45462    2011-11-17\n",
              "45463    2003-08-01\n",
              "45464    1917-10-21\n",
              "45465    2017-06-09\n",
              "Name: release_date, Length: 45379, dtype: object"
            ],
            "text/html": [
              "<div>\n",
              "<style scoped>\n",
              "    .dataframe tbody tr th:only-of-type {\n",
              "        vertical-align: middle;\n",
              "    }\n",
              "\n",
              "    .dataframe tbody tr th {\n",
              "        vertical-align: top;\n",
              "    }\n",
              "\n",
              "    .dataframe thead th {\n",
              "        text-align: right;\n",
              "    }\n",
              "</style>\n",
              "<table border=\"1\" class=\"dataframe\">\n",
              "  <thead>\n",
              "    <tr style=\"text-align: right;\">\n",
              "      <th></th>\n",
              "      <th>release_date</th>\n",
              "    </tr>\n",
              "  </thead>\n",
              "  <tbody>\n",
              "    <tr>\n",
              "      <th>0</th>\n",
              "      <td>1995-10-30</td>\n",
              "    </tr>\n",
              "    <tr>\n",
              "      <th>1</th>\n",
              "      <td>1995-12-15</td>\n",
              "    </tr>\n",
              "    <tr>\n",
              "      <th>2</th>\n",
              "      <td>1995-12-22</td>\n",
              "    </tr>\n",
              "    <tr>\n",
              "      <th>3</th>\n",
              "      <td>1995-12-22</td>\n",
              "    </tr>\n",
              "    <tr>\n",
              "      <th>4</th>\n",
              "      <td>1995-02-10</td>\n",
              "    </tr>\n",
              "    <tr>\n",
              "      <th>...</th>\n",
              "      <td>...</td>\n",
              "    </tr>\n",
              "    <tr>\n",
              "      <th>45460</th>\n",
              "      <td>1991-05-13</td>\n",
              "    </tr>\n",
              "    <tr>\n",
              "      <th>45462</th>\n",
              "      <td>2011-11-17</td>\n",
              "    </tr>\n",
              "    <tr>\n",
              "      <th>45463</th>\n",
              "      <td>2003-08-01</td>\n",
              "    </tr>\n",
              "    <tr>\n",
              "      <th>45464</th>\n",
              "      <td>1917-10-21</td>\n",
              "    </tr>\n",
              "    <tr>\n",
              "      <th>45465</th>\n",
              "      <td>2017-06-09</td>\n",
              "    </tr>\n",
              "  </tbody>\n",
              "</table>\n",
              "<p>45379 rows × 1 columns</p>\n",
              "</div><br><label><b>dtype:</b> object</label>"
            ]
          },
          "metadata": {},
          "execution_count": 34
        }
      ]
    },
    {
      "cell_type": "code",
      "source": [
        "# Convertimos la columna 'release_date' a tipo datetime, forzando el formato\n",
        "movies_df['release_date'] = pd.to_datetime(movies_df['release_date'], format='%Y-%m-%d', errors='coerce')\n"
      ],
      "metadata": {
        "id": "QBRYlLoYDw8S"
      },
      "execution_count": null,
      "outputs": []
    },
    {
      "cell_type": "code",
      "source": [
        "# Verificamos si hay fechas no válidas\n",
        "if movies_df['release_date'].isnull().any():\n",
        "    print(\"Hay fechas no válidas en la columna 'release_date'.\")\n",
        "else:\n",
        "    print(\"Todas las fechas están en el formato AAAA-mm-dd.\")"
      ],
      "metadata": {
        "colab": {
          "base_uri": "https://localhost:8080/"
        },
        "id": "evD1tTUlDOds",
        "outputId": "4b26cc8e-f224-4ea2-df61-3fbf49243499"
      },
      "execution_count": null,
      "outputs": [
        {
          "output_type": "stream",
          "name": "stdout",
          "text": [
            "Hay fechas no válidas en la columna 'release_date'.\n"
          ]
        }
      ]
    },
    {
      "cell_type": "code",
      "source": [
        "# Extraemos el año y crear la nueva columna 'release_year'\n",
        "movies_df['release_year'] = movies_df['release_date'].dt.year"
      ],
      "metadata": {
        "id": "-3ac9i6dE5GC"
      },
      "execution_count": null,
      "outputs": []
    },
    {
      "cell_type": "code",
      "source": [
        "# Mostramos las primeras filas del DataFrame para verificar\n",
        "print(movies_df[['release_date', 'release_year']].head())"
      ],
      "metadata": {
        "colab": {
          "base_uri": "https://localhost:8080/"
        },
        "id": "CMww3KG8E_D2",
        "outputId": "6bd9c0f8-94f5-4b6f-f320-5795020e814d"
      },
      "execution_count": null,
      "outputs": [
        {
          "output_type": "stream",
          "name": "stdout",
          "text": [
            "  release_date  release_year\n",
            "0   1995-10-30        1995.0\n",
            "1   1995-12-15        1995.0\n",
            "2   1995-12-22        1995.0\n",
            "3   1995-12-22        1995.0\n",
            "4   1995-02-10        1995.0\n"
          ]
        }
      ]
    },
    {
      "cell_type": "markdown",
      "source": [
        "### 1.3.7. Columna `return`"
      ],
      "metadata": {
        "id": "kTgCpIXAFqec"
      }
    },
    {
      "cell_type": "code",
      "source": [
        "# Identificamos las filas donde 'budget' no es convertible a float\n",
        "invalid_budget = movies_df[~movies_df['budget'].apply(lambda x: str(x).replace('.', '', 1).isdigit())]\n",
        "\n",
        "# Mostrar las filas con valores inválidos en 'budget'\n",
        "print(invalid_budget[['budget']])"
      ],
      "metadata": {
        "colab": {
          "base_uri": "https://localhost:8080/"
        },
        "id": "mApjheEk4QzL",
        "outputId": "397c2f89-767a-4584-c53e-9f4a46044dd2"
      },
      "execution_count": null,
      "outputs": [
        {
          "output_type": "stream",
          "name": "stdout",
          "text": [
            "                                 budget\n",
            "19730  /ff9qCepilowshEtG2GYWwzt2bs4.jpg\n",
            "29503  /zV8bHuSL6WXoD6FWogP9j4x80bL.jpg\n",
            "35587  /zaSf5OG7V8X8gqFvly88zDdRm46.jpg\n"
          ]
        }
      ]
    },
    {
      "cell_type": "code",
      "source": [
        "# Reemplazamos los valores inválidos por 0\n",
        "movies_df['budget'] = movies_df['budget'].apply(lambda x: float(x) if str(x).replace('.', '', 1).isdigit() else 0)"
      ],
      "metadata": {
        "id": "8jyZwKBm4bRn"
      },
      "execution_count": null,
      "outputs": []
    },
    {
      "cell_type": "code",
      "source": [
        "# Nos aseguramos de que 'revenue' y 'budget' son del tipo correcto (float)\n",
        "movies_df['revenue'] = movies_df['revenue'].astype(float)\n",
        "movies_df['budget'] = movies_df['budget'].astype(float)"
      ],
      "metadata": {
        "id": "-PUfR4vJFxNh"
      },
      "execution_count": null,
      "outputs": []
    },
    {
      "cell_type": "code",
      "source": [
        "# Creamos la nueva columna 'return' calculando revenue / budget\n",
        "movies_df['return'] = movies_df.apply(                                                          # Se utiliza apply junto con una función lambda para calcular el retorno de inversión.\n",
        "    lambda row: row['revenue'] / row['budget'] if row['budget'] != 0 else 0, axis=1             # La función comprueba si budget es diferente de 0. Si es así, calcula revenue / budget; de lo contrario, asigna 0 a la nueva columna.\n",
        ")"
      ],
      "metadata": {
        "id": "iTJH_TE9F4zK"
      },
      "execution_count": null,
      "outputs": []
    },
    {
      "cell_type": "code",
      "source": [
        "# Verificamos las primeras filas del DataFrame para asegurarnos de que se haya creado la columna\n",
        "print(movies_df[['revenue', 'budget', 'return']].head())"
      ],
      "metadata": {
        "id": "HhxaGFnvGJxQ",
        "colab": {
          "base_uri": "https://localhost:8080/"
        },
        "outputId": "bbdf37e5-66b7-455a-ab3c-ca42c24e5838"
      },
      "execution_count": null,
      "outputs": [
        {
          "output_type": "stream",
          "name": "stdout",
          "text": [
            "       revenue      budget     return\n",
            "0  373554033.0  30000000.0  12.451801\n",
            "1  262797249.0  65000000.0   4.043035\n",
            "2          0.0         0.0   0.000000\n",
            "3   81452156.0  16000000.0   5.090760\n",
            "4   76578911.0         0.0   0.000000\n"
          ]
        }
      ]
    },
    {
      "cell_type": "markdown",
      "source": [
        "### 1.3.8. Eliminación de columnas"
      ],
      "metadata": {
        "id": "m1kn6ekJGs6o"
      }
    },
    {
      "cell_type": "code",
      "source": [
        "# Eliminamos las columnas especificadas\n",
        "columns_to_drop = ['video', 'imdb_id', 'adult', 'original_title', 'poster_path', 'homepage']\n",
        "movies_df.drop(columns=columns_to_drop, inplace=True)"
      ],
      "metadata": {
        "id": "F9B5Gr5pGxyi"
      },
      "execution_count": null,
      "outputs": []
    },
    {
      "cell_type": "code",
      "source": [
        "# Verificar que las columnas han sido eliminadas\n",
        "print(movies_df.info())"
      ],
      "metadata": {
        "id": "hq6JyhTeHLt1",
        "colab": {
          "base_uri": "https://localhost:8080/"
        },
        "outputId": "21c5292b-a829-4d7a-eebf-8eeb73391767"
      },
      "execution_count": null,
      "outputs": [
        {
          "output_type": "stream",
          "name": "stdout",
          "text": [
            "<class 'pandas.core.frame.DataFrame'>\n",
            "Index: 45379 entries, 0 to 45465\n",
            "Data columns (total 23 columns):\n",
            " #   Column                               Non-Null Count  Dtype         \n",
            "---  ------                               --------------  -----         \n",
            " 0   budget                               45379 non-null  float64       \n",
            " 1   genres                               45379 non-null  object        \n",
            " 2   id                                   45379 non-null  object        \n",
            " 3   original_language                    45368 non-null  object        \n",
            " 4   overview                             44438 non-null  object        \n",
            " 5   popularity                           45377 non-null  object        \n",
            " 6   production_companies                 45376 non-null  object        \n",
            " 7   production_countries                 45376 non-null  object        \n",
            " 8   release_date                         45376 non-null  datetime64[ns]\n",
            " 9   revenue                              45379 non-null  float64       \n",
            " 10  runtime                              45130 non-null  float64       \n",
            " 11  spoken_languages                     45376 non-null  object        \n",
            " 12  status                               45296 non-null  object        \n",
            " 13  tagline                              20398 non-null  object        \n",
            " 14  title                                45376 non-null  object        \n",
            " 15  vote_average                         45376 non-null  float64       \n",
            " 16  vote_count                           45376 non-null  float64       \n",
            " 17  belongs_to_collection_id             4488 non-null   float64       \n",
            " 18  belongs_to_collection_name           4488 non-null   object        \n",
            " 19  belongs_to_collection_poster_path    3945 non-null   object        \n",
            " 20  belongs_to_collection_backdrop_path  3260 non-null   object        \n",
            " 21  release_year                         45376 non-null  float64       \n",
            " 22  return                               45379 non-null  float64       \n",
            "dtypes: datetime64[ns](1), float64(8), object(14)\n",
            "memory usage: 8.3+ MB\n",
            "None\n"
          ]
        }
      ]
    },
    {
      "cell_type": "code",
      "source": [
        "# Exportamos el DataFrame a un archivo CSV\n",
        "# movies_df.to_csv('movies_df.csv', index=False)\n",
        "\n",
        "# Descargamos el archivo CSV\n",
        "# from google.colab import files\n",
        "# files.download('movies_df.csv')"
      ],
      "metadata": {
        "id": "Leep8MkqHyWn"
      },
      "execution_count": null,
      "outputs": []
    },
    {
      "cell_type": "markdown",
      "source": [
        "# 2. Transformación de la base `credits`"
      ],
      "metadata": {
        "id": "p9bU2mdyGFzm"
      }
    },
    {
      "cell_type": "markdown",
      "source": [
        "## 2.1. Cargando los datos"
      ],
      "metadata": {
        "id": "oAn9y-RFGfsW"
      }
    },
    {
      "cell_type": "markdown",
      "source": [
        " Se carga la base de datos `credits.csv` se debe tener en cuenta que hay datos que estan anidados (un diccionario o una lista como valores en la fila). [Data](https://drive.google.com/drive/folders/1X_LdCoGTHJDbD28_dJTxaD4fVuQC9Wt5)"
      ],
      "metadata": {
        "id": "ZJfRXzZyGwfX"
      }
    },
    {
      "cell_type": "code",
      "source": [
        "df = pd.read_csv('/content/credits.csv')"
      ],
      "metadata": {
        "id": "_FsHit1AGet4"
      },
      "execution_count": null,
      "outputs": []
    },
    {
      "cell_type": "markdown",
      "source": [
        "Se visualiza la información principal de la base"
      ],
      "metadata": {
        "id": "sXyr-Q17G9Aq"
      }
    },
    {
      "cell_type": "code",
      "source": [
        "df.info()"
      ],
      "metadata": {
        "colab": {
          "base_uri": "https://localhost:8080/"
        },
        "id": "lV9851DlHB3_",
        "outputId": "455fd00b-3d8a-4c7f-f652-1b2f72071283"
      },
      "execution_count": null,
      "outputs": [
        {
          "output_type": "stream",
          "name": "stdout",
          "text": [
            "<class 'pandas.core.frame.DataFrame'>\n",
            "RangeIndex: 45476 entries, 0 to 45475\n",
            "Data columns (total 3 columns):\n",
            " #   Column  Non-Null Count  Dtype \n",
            "---  ------  --------------  ----- \n",
            " 0   cast    45476 non-null  object\n",
            " 1   crew    45476 non-null  object\n",
            " 2   id      45476 non-null  int64 \n",
            "dtypes: int64(1), object(2)\n",
            "memory usage: 1.0+ MB\n"
          ]
        }
      ]
    },
    {
      "cell_type": "markdown",
      "source": [
        "Se visualizan las primeras 5 filas del DataFrame, para hacerse una idea de la data."
      ],
      "metadata": {
        "id": "GtxrQu7ZG4xD"
      }
    },
    {
      "cell_type": "code",
      "source": [
        "df.head()"
      ],
      "metadata": {
        "colab": {
          "base_uri": "https://localhost:8080/"
        },
        "id": "fXD7mNJdG5sI",
        "outputId": "b0bfe5ea-5273-4a22-f600-0c79813ed754"
      },
      "execution_count": null,
      "outputs": [
        {
          "output_type": "execute_result",
          "data": {
            "text/plain": [
              "                                                cast  \\\n",
              "0  [{'cast_id': 14, 'character': 'Woody (voice)',...   \n",
              "1  [{'cast_id': 1, 'character': 'Alan Parrish', '...   \n",
              "2  [{'cast_id': 2, 'character': 'Max Goldman', 'c...   \n",
              "3  [{'cast_id': 1, 'character': \"Savannah 'Vannah...   \n",
              "4  [{'cast_id': 1, 'character': 'George Banks', '...   \n",
              "\n",
              "                                                crew     id  \n",
              "0  [{'credit_id': '52fe4284c3a36847f8024f49', 'de...    862  \n",
              "1  [{'credit_id': '52fe44bfc3a36847f80a7cd1', 'de...   8844  \n",
              "2  [{'credit_id': '52fe466a9251416c75077a89', 'de...  15602  \n",
              "3  [{'credit_id': '52fe44779251416c91011acb', 'de...  31357  \n",
              "4  [{'credit_id': '52fe44959251416c75039ed7', 'de...  11862  "
            ],
            "text/html": [
              "\n",
              "  <div id=\"df-4472c923-a322-4059-a03c-b47b9df5f550\" class=\"colab-df-container\">\n",
              "    <div>\n",
              "<style scoped>\n",
              "    .dataframe tbody tr th:only-of-type {\n",
              "        vertical-align: middle;\n",
              "    }\n",
              "\n",
              "    .dataframe tbody tr th {\n",
              "        vertical-align: top;\n",
              "    }\n",
              "\n",
              "    .dataframe thead th {\n",
              "        text-align: right;\n",
              "    }\n",
              "</style>\n",
              "<table border=\"1\" class=\"dataframe\">\n",
              "  <thead>\n",
              "    <tr style=\"text-align: right;\">\n",
              "      <th></th>\n",
              "      <th>cast</th>\n",
              "      <th>crew</th>\n",
              "      <th>id</th>\n",
              "    </tr>\n",
              "  </thead>\n",
              "  <tbody>\n",
              "    <tr>\n",
              "      <th>0</th>\n",
              "      <td>[{'cast_id': 14, 'character': 'Woody (voice)',...</td>\n",
              "      <td>[{'credit_id': '52fe4284c3a36847f8024f49', 'de...</td>\n",
              "      <td>862</td>\n",
              "    </tr>\n",
              "    <tr>\n",
              "      <th>1</th>\n",
              "      <td>[{'cast_id': 1, 'character': 'Alan Parrish', '...</td>\n",
              "      <td>[{'credit_id': '52fe44bfc3a36847f80a7cd1', 'de...</td>\n",
              "      <td>8844</td>\n",
              "    </tr>\n",
              "    <tr>\n",
              "      <th>2</th>\n",
              "      <td>[{'cast_id': 2, 'character': 'Max Goldman', 'c...</td>\n",
              "      <td>[{'credit_id': '52fe466a9251416c75077a89', 'de...</td>\n",
              "      <td>15602</td>\n",
              "    </tr>\n",
              "    <tr>\n",
              "      <th>3</th>\n",
              "      <td>[{'cast_id': 1, 'character': \"Savannah 'Vannah...</td>\n",
              "      <td>[{'credit_id': '52fe44779251416c91011acb', 'de...</td>\n",
              "      <td>31357</td>\n",
              "    </tr>\n",
              "    <tr>\n",
              "      <th>4</th>\n",
              "      <td>[{'cast_id': 1, 'character': 'George Banks', '...</td>\n",
              "      <td>[{'credit_id': '52fe44959251416c75039ed7', 'de...</td>\n",
              "      <td>11862</td>\n",
              "    </tr>\n",
              "  </tbody>\n",
              "</table>\n",
              "</div>\n",
              "    <div class=\"colab-df-buttons\">\n",
              "\n",
              "  <div class=\"colab-df-container\">\n",
              "    <button class=\"colab-df-convert\" onclick=\"convertToInteractive('df-4472c923-a322-4059-a03c-b47b9df5f550')\"\n",
              "            title=\"Convert this dataframe to an interactive table.\"\n",
              "            style=\"display:none;\">\n",
              "\n",
              "  <svg xmlns=\"http://www.w3.org/2000/svg\" height=\"24px\" viewBox=\"0 -960 960 960\">\n",
              "    <path d=\"M120-120v-720h720v720H120Zm60-500h600v-160H180v160Zm220 220h160v-160H400v160Zm0 220h160v-160H400v160ZM180-400h160v-160H180v160Zm440 0h160v-160H620v160ZM180-180h160v-160H180v160Zm440 0h160v-160H620v160Z\"/>\n",
              "  </svg>\n",
              "    </button>\n",
              "\n",
              "  <style>\n",
              "    .colab-df-container {\n",
              "      display:flex;\n",
              "      gap: 12px;\n",
              "    }\n",
              "\n",
              "    .colab-df-convert {\n",
              "      background-color: #E8F0FE;\n",
              "      border: none;\n",
              "      border-radius: 50%;\n",
              "      cursor: pointer;\n",
              "      display: none;\n",
              "      fill: #1967D2;\n",
              "      height: 32px;\n",
              "      padding: 0 0 0 0;\n",
              "      width: 32px;\n",
              "    }\n",
              "\n",
              "    .colab-df-convert:hover {\n",
              "      background-color: #E2EBFA;\n",
              "      box-shadow: 0px 1px 2px rgba(60, 64, 67, 0.3), 0px 1px 3px 1px rgba(60, 64, 67, 0.15);\n",
              "      fill: #174EA6;\n",
              "    }\n",
              "\n",
              "    .colab-df-buttons div {\n",
              "      margin-bottom: 4px;\n",
              "    }\n",
              "\n",
              "    [theme=dark] .colab-df-convert {\n",
              "      background-color: #3B4455;\n",
              "      fill: #D2E3FC;\n",
              "    }\n",
              "\n",
              "    [theme=dark] .colab-df-convert:hover {\n",
              "      background-color: #434B5C;\n",
              "      box-shadow: 0px 1px 3px 1px rgba(0, 0, 0, 0.15);\n",
              "      filter: drop-shadow(0px 1px 2px rgba(0, 0, 0, 0.3));\n",
              "      fill: #FFFFFF;\n",
              "    }\n",
              "  </style>\n",
              "\n",
              "    <script>\n",
              "      const buttonEl =\n",
              "        document.querySelector('#df-4472c923-a322-4059-a03c-b47b9df5f550 button.colab-df-convert');\n",
              "      buttonEl.style.display =\n",
              "        google.colab.kernel.accessAllowed ? 'block' : 'none';\n",
              "\n",
              "      async function convertToInteractive(key) {\n",
              "        const element = document.querySelector('#df-4472c923-a322-4059-a03c-b47b9df5f550');\n",
              "        const dataTable =\n",
              "          await google.colab.kernel.invokeFunction('convertToInteractive',\n",
              "                                                    [key], {});\n",
              "        if (!dataTable) return;\n",
              "\n",
              "        const docLinkHtml = 'Like what you see? Visit the ' +\n",
              "          '<a target=\"_blank\" href=https://colab.research.google.com/notebooks/data_table.ipynb>data table notebook</a>'\n",
              "          + ' to learn more about interactive tables.';\n",
              "        element.innerHTML = '';\n",
              "        dataTable['output_type'] = 'display_data';\n",
              "        await google.colab.output.renderOutput(dataTable, element);\n",
              "        const docLink = document.createElement('div');\n",
              "        docLink.innerHTML = docLinkHtml;\n",
              "        element.appendChild(docLink);\n",
              "      }\n",
              "    </script>\n",
              "  </div>\n",
              "\n",
              "\n",
              "<div id=\"df-77a9c44c-ca67-40d4-b264-f48ca38c984e\">\n",
              "  <button class=\"colab-df-quickchart\" onclick=\"quickchart('df-77a9c44c-ca67-40d4-b264-f48ca38c984e')\"\n",
              "            title=\"Suggest charts\"\n",
              "            style=\"display:none;\">\n",
              "\n",
              "<svg xmlns=\"http://www.w3.org/2000/svg\" height=\"24px\"viewBox=\"0 0 24 24\"\n",
              "     width=\"24px\">\n",
              "    <g>\n",
              "        <path d=\"M19 3H5c-1.1 0-2 .9-2 2v14c0 1.1.9 2 2 2h14c1.1 0 2-.9 2-2V5c0-1.1-.9-2-2-2zM9 17H7v-7h2v7zm4 0h-2V7h2v10zm4 0h-2v-4h2v4z\"/>\n",
              "    </g>\n",
              "</svg>\n",
              "  </button>\n",
              "\n",
              "<style>\n",
              "  .colab-df-quickchart {\n",
              "      --bg-color: #E8F0FE;\n",
              "      --fill-color: #1967D2;\n",
              "      --hover-bg-color: #E2EBFA;\n",
              "      --hover-fill-color: #174EA6;\n",
              "      --disabled-fill-color: #AAA;\n",
              "      --disabled-bg-color: #DDD;\n",
              "  }\n",
              "\n",
              "  [theme=dark] .colab-df-quickchart {\n",
              "      --bg-color: #3B4455;\n",
              "      --fill-color: #D2E3FC;\n",
              "      --hover-bg-color: #434B5C;\n",
              "      --hover-fill-color: #FFFFFF;\n",
              "      --disabled-bg-color: #3B4455;\n",
              "      --disabled-fill-color: #666;\n",
              "  }\n",
              "\n",
              "  .colab-df-quickchart {\n",
              "    background-color: var(--bg-color);\n",
              "    border: none;\n",
              "    border-radius: 50%;\n",
              "    cursor: pointer;\n",
              "    display: none;\n",
              "    fill: var(--fill-color);\n",
              "    height: 32px;\n",
              "    padding: 0;\n",
              "    width: 32px;\n",
              "  }\n",
              "\n",
              "  .colab-df-quickchart:hover {\n",
              "    background-color: var(--hover-bg-color);\n",
              "    box-shadow: 0 1px 2px rgba(60, 64, 67, 0.3), 0 1px 3px 1px rgba(60, 64, 67, 0.15);\n",
              "    fill: var(--button-hover-fill-color);\n",
              "  }\n",
              "\n",
              "  .colab-df-quickchart-complete:disabled,\n",
              "  .colab-df-quickchart-complete:disabled:hover {\n",
              "    background-color: var(--disabled-bg-color);\n",
              "    fill: var(--disabled-fill-color);\n",
              "    box-shadow: none;\n",
              "  }\n",
              "\n",
              "  .colab-df-spinner {\n",
              "    border: 2px solid var(--fill-color);\n",
              "    border-color: transparent;\n",
              "    border-bottom-color: var(--fill-color);\n",
              "    animation:\n",
              "      spin 1s steps(1) infinite;\n",
              "  }\n",
              "\n",
              "  @keyframes spin {\n",
              "    0% {\n",
              "      border-color: transparent;\n",
              "      border-bottom-color: var(--fill-color);\n",
              "      border-left-color: var(--fill-color);\n",
              "    }\n",
              "    20% {\n",
              "      border-color: transparent;\n",
              "      border-left-color: var(--fill-color);\n",
              "      border-top-color: var(--fill-color);\n",
              "    }\n",
              "    30% {\n",
              "      border-color: transparent;\n",
              "      border-left-color: var(--fill-color);\n",
              "      border-top-color: var(--fill-color);\n",
              "      border-right-color: var(--fill-color);\n",
              "    }\n",
              "    40% {\n",
              "      border-color: transparent;\n",
              "      border-right-color: var(--fill-color);\n",
              "      border-top-color: var(--fill-color);\n",
              "    }\n",
              "    60% {\n",
              "      border-color: transparent;\n",
              "      border-right-color: var(--fill-color);\n",
              "    }\n",
              "    80% {\n",
              "      border-color: transparent;\n",
              "      border-right-color: var(--fill-color);\n",
              "      border-bottom-color: var(--fill-color);\n",
              "    }\n",
              "    90% {\n",
              "      border-color: transparent;\n",
              "      border-bottom-color: var(--fill-color);\n",
              "    }\n",
              "  }\n",
              "</style>\n",
              "\n",
              "  <script>\n",
              "    async function quickchart(key) {\n",
              "      const quickchartButtonEl =\n",
              "        document.querySelector('#' + key + ' button');\n",
              "      quickchartButtonEl.disabled = true;  // To prevent multiple clicks.\n",
              "      quickchartButtonEl.classList.add('colab-df-spinner');\n",
              "      try {\n",
              "        const charts = await google.colab.kernel.invokeFunction(\n",
              "            'suggestCharts', [key], {});\n",
              "      } catch (error) {\n",
              "        console.error('Error during call to suggestCharts:', error);\n",
              "      }\n",
              "      quickchartButtonEl.classList.remove('colab-df-spinner');\n",
              "      quickchartButtonEl.classList.add('colab-df-quickchart-complete');\n",
              "    }\n",
              "    (() => {\n",
              "      let quickchartButtonEl =\n",
              "        document.querySelector('#df-77a9c44c-ca67-40d4-b264-f48ca38c984e button');\n",
              "      quickchartButtonEl.style.display =\n",
              "        google.colab.kernel.accessAllowed ? 'block' : 'none';\n",
              "    })();\n",
              "  </script>\n",
              "</div>\n",
              "\n",
              "    </div>\n",
              "  </div>\n"
            ],
            "application/vnd.google.colaboratory.intrinsic+json": {
              "type": "dataframe",
              "variable_name": "df",
              "summary": "{\n  \"name\": \"df\",\n  \"rows\": 45476,\n  \"fields\": [\n    {\n      \"column\": \"cast\",\n      \"properties\": {\n        \"dtype\": \"string\",\n        \"num_unique_values\": 43019,\n        \"samples\": [\n          \"[{'cast_id': 2, 'character': 'Lazar Peacock/Sabata', 'credit_id': '52fe4bca9251416c7510e195', 'gender': 2, 'id': 20581, 'name': 'Jack Betts', 'order': 0, 'profile_path': '/f03shMGYcbPG2EyjkIVAR0YA1RA.jpg'}, {'cast_id': 3, 'character': 'Blonde', 'credit_id': '52fe4bca9251416c7510e199', 'gender': 0, 'id': 100683, 'name': 'Franco Borelli', 'order': 1, 'profile_path': None}, {'cast_id': 4, 'character': 'Roger Murdock', 'credit_id': '52fe4bca9251416c7510e19d', 'gender': 2, 'id': 30898, 'name': 'Gordon Mitchell', 'order': 2, 'profile_path': '/szzvsqfFlkHBUJEiZtRquIhxHqn.jpg'}, {'cast_id': 5, 'character': 'Maya', 'credit_id': '52fe4bca9251416c7510e1a1', 'gender': 1, 'id': 30902, 'name': 'Simonetta Vitelli', 'order': 3, 'profile_path': '/jMnRUMgLV3l6lyB26bd8t9b11m5.jpg'}]\",\n          \"[{'cast_id': 2, 'character': 'Charles', 'credit_id': '590cf25dc3a36864c60039ff', 'gender': 2, 'id': 11276, 'name': 'Tim Pigott-Smith', 'order': 1, 'profile_path': '/yC5fQ2HYxzD5JqnXZKMJ6giExrU.jpg'}, {'cast_id': 3, 'character': 'Kate Middleton', 'credit_id': '590cf268c3a36864fc003a3b', 'gender': 1, 'id': 115679, 'name': 'Charlotte Riley', 'order': 2, 'profile_path': '/pkiZKysfb0oXvaBBm6zWQkWSvVu.jpg'}, {'cast_id': 4, 'character': 'William', 'credit_id': '590cf2769251414e85003b16', 'gender': 2, 'id': 31739, 'name': 'Oliver Chris', 'order': 3, 'profile_path': '/xTnUMtP5MREaHD86XfJ5mYibawq.jpg'}, {'cast_id': 5, 'character': 'Prime Minister Tristram Evans', 'credit_id': '590cf284c3a36864c6003a15', 'gender': 2, 'id': 47933, 'name': 'Adam James', 'order': 4, 'profile_path': '/4dSIRIEEnK2tC1OrgjEykUvOeFw.jpg'}, {'cast_id': 7, 'character': 'Harry', 'credit_id': '590cf2bd9251414e8d0038d1', 'gender': 0, 'id': 1409393, 'name': 'Richard Goulding', 'order': 6, 'profile_path': '/3vM6hrfcU4NLBvWoRxyo8nkPsDU.jpg'}, {'cast_id': 8, 'character': 'Coottsey', 'credit_id': '590cf2e5c3a36864ec0036e3', 'gender': 2, 'id': 1428460, 'name': 'Max Bennett', 'order': 7, 'profile_path': '/fthD8U3aGnQioWAiwvFPcdDQJRV.jpg'}, {'cast_id': 9, 'character': 'Jess', 'credit_id': '590ef2e29251414ead01c7d5', 'gender': 0, 'id': 1595457, 'name': 'Tamara Lawrance', 'order': 8, 'profile_path': None}, {'cast_id': 10, 'character': 'Camilla', 'credit_id': '590ef2f79251414eca01c988', 'gender': 1, 'id': 192933, 'name': 'Margot Leicester', 'order': 9, 'profile_path': '/M2PEeYUdkrd4VjI1D0lsHbiG8t.jpg'}, {'cast_id': 11, 'character': 'James Reiss', 'credit_id': '590ef30fc3a36864d401e229', 'gender': 2, 'id': 15740, 'name': 'Tim McMullan', 'order': 10, 'profile_path': '/8se9JhmD9LE6tiibkGiV51M8rdD.jpg'}, {'cast_id': 12, 'character': 'Mrs Stevens', 'credit_id': '590ef326c3a36864fc01d3f7', 'gender': 0, 'id': 62968, 'name': 'Priyanga Burford', 'order': 11, 'profile_path': '/yTxLb30QwUAs5aoErhnYsnGawG5.jpg'}, {'cast_id': 13, 'character': 'Diana', 'credit_id': '590ef334c3a36864fc01d3ff', 'gender': 1, 'id': 1528819, 'name': 'Katie Brayben', 'order': 12, 'profile_path': '/m7oOBu4cfamQ9wixTyWXNaH9sgn.jpg'}, {'cast_id': 14, 'character': 'Archbishop of Canterbury', 'credit_id': '590ef372c3a368650a01c818', 'gender': 2, 'id': 940, 'name': 'John Shrapnel', 'order': 13, 'profile_path': '/nDIK01IoVNx7cfYOrKqGugItqO9.jpg'}, {'cast_id': 15, 'character': 'Spencer', 'credit_id': '590ef37e9251414ead01c82c', 'gender': 0, 'id': 1455682, 'name': 'Parth Thakerar', 'order': 14, 'profile_path': None}]\",\n          \"[{'cast_id': 1, 'character': 'Himself', 'credit_id': '52fe4a9bc3a368484e15d20d', 'gender': 0, 'id': 1078721, 'name': 'Armand Leroi', 'order': 0, 'profile_path': None}]\"\n        ],\n        \"semantic_type\": \"\",\n        \"description\": \"\"\n      }\n    },\n    {\n      \"column\": \"crew\",\n      \"properties\": {\n        \"dtype\": \"string\",\n        \"num_unique_values\": 44669,\n        \"samples\": [\n          \"[{'credit_id': '52fe461ac3a36847f80eccfd', 'department': 'Directing', 'gender': 2, 'id': 107463, 'job': 'Director', 'name': 'Del Tenney', 'profile_path': None}, {'credit_id': '52fe461ac3a36847f80ecd13', 'department': 'Writing', 'gender': 0, 'id': 107464, 'job': 'Screenplay', 'name': 'Richard Hilliard', 'profile_path': None}, {'credit_id': '52fe461ac3a36847f80ecd19', 'department': 'Production', 'gender': 2, 'id': 107463, 'job': 'Producer', 'name': 'Del Tenney', 'profile_path': None}]\",\n          \"[{'credit_id': '52fe45439251416c9102c5bd', 'department': 'Directing', 'gender': 2, 'id': 93975, 'job': 'Director', 'name': 'Lewis Allen', 'profile_path': None}, {'credit_id': '52fe45439251416c9102c5c3', 'department': 'Writing', 'gender': 0, 'id': 111580, 'job': 'Novel', 'name': 'Tiffany Thayer', 'profile_path': None}, {'credit_id': '52fe45439251416c9102c5c9', 'department': 'Writing', 'gender': 2, 'id': 10148, 'job': 'Writer', 'name': 'Warren Duff', 'profile_path': None}, {'credit_id': '52fe45439251416c9102c5cf', 'department': 'Production', 'gender': 2, 'id': 50311, 'job': 'Producer', 'name': 'Robert Fellows', 'profile_path': None}, {'credit_id': '52fe45439251416c9102c5d5', 'department': 'Sound', 'gender': 2, 'id': 26026, 'job': 'Original Music Composer', 'name': 'Victor Young', 'profile_path': None}, {'credit_id': '52fe45439251416c9102c5db', 'department': 'Camera', 'gender': 2, 'id': 8620, 'job': 'Director of Photography', 'name': 'John F. Seitz', 'profile_path': '/6hvivkKP5H5NpPcAViAfUMFgqsu.jpg'}, {'credit_id': '52fe45439251416c9102c5e1', 'department': 'Editing', 'gender': 2, 'id': 30013, 'job': 'Editor', 'name': 'LeRoy Stone', 'profile_path': None}]\",\n          \"[{'credit_id': '52fe45319251416c7504eab9', 'department': 'Writing', 'gender': 2, 'id': 14999, 'job': 'Screenplay', 'name': 'George A. Romero', 'profile_path': '/zNP7wdy48eNNJAAmM0pYbSelUAd.jpg'}, {'credit_id': '52fe45319251416c7504ea8b', 'department': 'Directing', 'gender': 2, 'id': 14999, 'job': 'Director', 'name': 'George A. Romero', 'profile_path': '/zNP7wdy48eNNJAAmM0pYbSelUAd.jpg'}]\"\n        ],\n        \"semantic_type\": \"\",\n        \"description\": \"\"\n      }\n    },\n    {\n      \"column\": \"id\",\n      \"properties\": {\n        \"dtype\": \"number\",\n        \"std\": 112443,\n        \"min\": 2,\n        \"max\": 469172,\n        \"num_unique_values\": 45432,\n        \"samples\": [\n          43942,\n          30139,\n          85389\n        ],\n        \"semantic_type\": \"\",\n        \"description\": \"\"\n      }\n    }\n  ]\n}"
            }
          },
          "metadata": {},
          "execution_count": 49
        }
      ]
    },
    {
      "cell_type": "markdown",
      "source": [
        "Se visualiza una fila en particular de la columna `crew`"
      ],
      "metadata": {
        "id": "M55Uh6JrHK2-"
      }
    },
    {
      "cell_type": "code",
      "source": [
        "df['crew'][1]"
      ],
      "metadata": {
        "colab": {
          "base_uri": "https://localhost:8080/"
        },
        "id": "hwB4y-DiHRm6",
        "outputId": "8567253a-f0a2-4ff5-f60b-a26377b69563"
      },
      "execution_count": null,
      "outputs": [
        {
          "output_type": "execute_result",
          "data": {
            "text/plain": [
              "\"[{'credit_id': '52fe44bfc3a36847f80a7cd1', 'department': 'Production', 'gender': 2, 'id': 511, 'job': 'Executive Producer', 'name': 'Larry J. Franco', 'profile_path': None}, {'credit_id': '52fe44bfc3a36847f80a7c89', 'department': 'Writing', 'gender': 2, 'id': 876, 'job': 'Screenplay', 'name': 'Jonathan Hensleigh', 'profile_path': '/l1c4UFD3g0HVWj5f0CxXAvMAGiT.jpg'}, {'credit_id': '52fe44bfc3a36847f80a7cdd', 'department': 'Sound', 'gender': 2, 'id': 1729, 'job': 'Original Music Composer', 'name': 'James Horner', 'profile_path': '/oLOtXxXsYk8X4qq0ud4xVypXudi.jpg'}, {'credit_id': '52fe44bfc3a36847f80a7c7d', 'department': 'Directing', 'gender': 2, 'id': 4945, 'job': 'Director', 'name': 'Joe Johnston', 'profile_path': '/fok4jaO62v5IP6hkpaaAcXuw2H.jpg'}, {'credit_id': '52fe44bfc3a36847f80a7cd7', 'department': 'Editing', 'gender': 2, 'id': 4951, 'job': 'Editor', 'name': 'Robert Dalva', 'profile_path': None}, {'credit_id': '573523bec3a368025100062c', 'department': 'Production', 'gender': 0, 'id': 4952, 'job': 'Casting', 'name': 'Nancy Foy', 'profile_path': '/blCkmS4dqNsbPGuQfozHE6wgWBw.jpg'}, {'credit_id': '5722a924c3a3682d1e000b41', 'department': 'Visual Effects', 'gender': 0, 'id': 8023, 'job': 'Animation Supervisor', 'name': 'Kyle Balda', 'profile_path': '/jR8iAP6uC0V42KbUG87qBIUO3Hj.jpg'}, {'credit_id': '52fe44c0c3a36847f80a7ce3', 'department': 'Art', 'gender': 2, 'id': 9967, 'job': 'Production Design', 'name': 'James D. Bissell', 'profile_path': None}, {'credit_id': '52fe44bfc3a36847f80a7cb9', 'department': 'Production', 'gender': 2, 'id': 9184, 'job': 'Producer', 'name': 'Scott Kroopf', 'profile_path': None}, {'credit_id': '52fe44bfc3a36847f80a7ccb', 'department': 'Production', 'gender': 2, 'id': 9196, 'job': 'Executive Producer', 'name': 'Ted Field', 'profile_path': '/qmB7sZcgRUq7mRFBSTlSsVXh7sH.jpg'}, {'credit_id': '52fe44bfc3a36847f80a7cc5', 'department': 'Production', 'gender': 2, 'id': 18389, 'job': 'Executive Producer', 'name': 'Robert W. Cort', 'profile_path': None}, {'credit_id': '52fe44bfc3a36847f80a7cbf', 'department': 'Camera', 'gender': 2, 'id': 11371, 'job': 'Director of Photography', 'name': 'Thomas E. Ackerman', 'profile_path': '/xFDbxk53icM1ofL4iCIwB4GkUxN.jpg'}, {'credit_id': '52fe44bfc3a36847f80a7c83', 'department': 'Writing', 'gender': 2, 'id': 42356, 'job': 'Novel', 'name': 'Chris van Allsburg', 'profile_path': None}, {'credit_id': '52fe44bfc3a36847f80a7cb3', 'department': 'Production', 'gender': 2, 'id': 42357, 'job': 'Producer', 'name': 'William Teitler', 'profile_path': None}, {'credit_id': '52fe44bfc3a36847f80a7c8f', 'department': 'Writing', 'gender': 2, 'id': 56520, 'job': 'Screenplay', 'name': 'Greg Taylor', 'profile_path': None}, {'credit_id': '52fe44bfc3a36847f80a7c95', 'department': 'Writing', 'gender': 2, 'id': 56521, 'job': 'Screenplay', 'name': 'Jim Strain', 'profile_path': None}]\""
            ],
            "application/vnd.google.colaboratory.intrinsic+json": {
              "type": "string"
            }
          },
          "metadata": {},
          "execution_count": 50
        }
      ]
    },
    {
      "cell_type": "markdown",
      "source": [
        "## 2.2. Tratamiento de datos iniciales"
      ],
      "metadata": {
        "id": "lsURO9AuHbXi"
      }
    },
    {
      "cell_type": "markdown",
      "source": [
        "### 2.2.1. Columna `cast`"
      ],
      "metadata": {
        "id": "QqxyeTjkH2PX"
      }
    },
    {
      "cell_type": "markdown",
      "source": [
        "Convertimos la columna `cast` de cadenas a listas de diccionarios."
      ],
      "metadata": {
        "id": "t1Pgq6I3ICbC"
      }
    },
    {
      "cell_type": "code",
      "source": [
        "df['cast'] = df['cast'].apply(ast.literal_eval)"
      ],
      "metadata": {
        "id": "CaeLkUHTIOEv"
      },
      "execution_count": null,
      "outputs": []
    },
    {
      "cell_type": "markdown",
      "source": [
        "Extraemos los nombres de los actores de esas listas y los almacenamos en una nueva columna llamada `reparto`"
      ],
      "metadata": {
        "id": "LUC2InUUITNW"
      }
    },
    {
      "cell_type": "code",
      "source": [
        "df['reparto'] = df['cast'].apply(lambda x: [actor['name'] for actor in x])"
      ],
      "metadata": {
        "id": "6p6ArDn7IZ9U"
      },
      "execution_count": null,
      "outputs": []
    },
    {
      "cell_type": "markdown",
      "source": [
        "Mostramos las columnas `id` y `reparto` del DataFrame, para visualizar la relación entre los identificadores de las películas y sus respectivos repartos."
      ],
      "metadata": {
        "id": "fVqMxBCSH5Au"
      }
    },
    {
      "cell_type": "code",
      "source": [
        "df[['id', 'reparto']]"
      ],
      "metadata": {
        "colab": {
          "base_uri": "https://localhost:8080/"
        },
        "id": "GeJvssCjIsb1",
        "outputId": "82f18372-4a6a-4d2a-a80d-516e3e37aee5"
      },
      "execution_count": null,
      "outputs": [
        {
          "output_type": "execute_result",
          "data": {
            "text/plain": [
              "           id                                            reparto\n",
              "0         862  [Tom Hanks, Tim Allen, Don Rickles, Jim Varney...\n",
              "1        8844  [Robin Williams, Jonathan Hyde, Kirsten Dunst,...\n",
              "2       15602  [Walter Matthau, Jack Lemmon, Ann-Margret, Sop...\n",
              "3       31357  [Whitney Houston, Angela Bassett, Loretta Devi...\n",
              "4       11862  [Steve Martin, Diane Keaton, Martin Short, Kim...\n",
              "...       ...                                                ...\n",
              "45471  439050        [Leila Hatami, Kourosh Tahami, Elham Korda]\n",
              "45472  111109  [Angel Aquino, Perry Dizon, Hazel Orencio, Joe...\n",
              "45473   67758  [Erika Eleniak, Adam Baldwin, Julie du Page, J...\n",
              "45474  227506  [Iwan Mosschuchin, Nathalie Lissenko, Pavel Pa...\n",
              "45475  461257                                                 []\n",
              "\n",
              "[45476 rows x 2 columns]"
            ],
            "text/html": [
              "\n",
              "  <div id=\"df-d45b474c-b31a-448d-8435-fbad2b540e0f\" class=\"colab-df-container\">\n",
              "    <div>\n",
              "<style scoped>\n",
              "    .dataframe tbody tr th:only-of-type {\n",
              "        vertical-align: middle;\n",
              "    }\n",
              "\n",
              "    .dataframe tbody tr th {\n",
              "        vertical-align: top;\n",
              "    }\n",
              "\n",
              "    .dataframe thead th {\n",
              "        text-align: right;\n",
              "    }\n",
              "</style>\n",
              "<table border=\"1\" class=\"dataframe\">\n",
              "  <thead>\n",
              "    <tr style=\"text-align: right;\">\n",
              "      <th></th>\n",
              "      <th>id</th>\n",
              "      <th>reparto</th>\n",
              "    </tr>\n",
              "  </thead>\n",
              "  <tbody>\n",
              "    <tr>\n",
              "      <th>0</th>\n",
              "      <td>862</td>\n",
              "      <td>[Tom Hanks, Tim Allen, Don Rickles, Jim Varney...</td>\n",
              "    </tr>\n",
              "    <tr>\n",
              "      <th>1</th>\n",
              "      <td>8844</td>\n",
              "      <td>[Robin Williams, Jonathan Hyde, Kirsten Dunst,...</td>\n",
              "    </tr>\n",
              "    <tr>\n",
              "      <th>2</th>\n",
              "      <td>15602</td>\n",
              "      <td>[Walter Matthau, Jack Lemmon, Ann-Margret, Sop...</td>\n",
              "    </tr>\n",
              "    <tr>\n",
              "      <th>3</th>\n",
              "      <td>31357</td>\n",
              "      <td>[Whitney Houston, Angela Bassett, Loretta Devi...</td>\n",
              "    </tr>\n",
              "    <tr>\n",
              "      <th>4</th>\n",
              "      <td>11862</td>\n",
              "      <td>[Steve Martin, Diane Keaton, Martin Short, Kim...</td>\n",
              "    </tr>\n",
              "    <tr>\n",
              "      <th>...</th>\n",
              "      <td>...</td>\n",
              "      <td>...</td>\n",
              "    </tr>\n",
              "    <tr>\n",
              "      <th>45471</th>\n",
              "      <td>439050</td>\n",
              "      <td>[Leila Hatami, Kourosh Tahami, Elham Korda]</td>\n",
              "    </tr>\n",
              "    <tr>\n",
              "      <th>45472</th>\n",
              "      <td>111109</td>\n",
              "      <td>[Angel Aquino, Perry Dizon, Hazel Orencio, Joe...</td>\n",
              "    </tr>\n",
              "    <tr>\n",
              "      <th>45473</th>\n",
              "      <td>67758</td>\n",
              "      <td>[Erika Eleniak, Adam Baldwin, Julie du Page, J...</td>\n",
              "    </tr>\n",
              "    <tr>\n",
              "      <th>45474</th>\n",
              "      <td>227506</td>\n",
              "      <td>[Iwan Mosschuchin, Nathalie Lissenko, Pavel Pa...</td>\n",
              "    </tr>\n",
              "    <tr>\n",
              "      <th>45475</th>\n",
              "      <td>461257</td>\n",
              "      <td>[]</td>\n",
              "    </tr>\n",
              "  </tbody>\n",
              "</table>\n",
              "<p>45476 rows × 2 columns</p>\n",
              "</div>\n",
              "    <div class=\"colab-df-buttons\">\n",
              "\n",
              "  <div class=\"colab-df-container\">\n",
              "    <button class=\"colab-df-convert\" onclick=\"convertToInteractive('df-d45b474c-b31a-448d-8435-fbad2b540e0f')\"\n",
              "            title=\"Convert this dataframe to an interactive table.\"\n",
              "            style=\"display:none;\">\n",
              "\n",
              "  <svg xmlns=\"http://www.w3.org/2000/svg\" height=\"24px\" viewBox=\"0 -960 960 960\">\n",
              "    <path d=\"M120-120v-720h720v720H120Zm60-500h600v-160H180v160Zm220 220h160v-160H400v160Zm0 220h160v-160H400v160ZM180-400h160v-160H180v160Zm440 0h160v-160H620v160ZM180-180h160v-160H180v160Zm440 0h160v-160H620v160Z\"/>\n",
              "  </svg>\n",
              "    </button>\n",
              "\n",
              "  <style>\n",
              "    .colab-df-container {\n",
              "      display:flex;\n",
              "      gap: 12px;\n",
              "    }\n",
              "\n",
              "    .colab-df-convert {\n",
              "      background-color: #E8F0FE;\n",
              "      border: none;\n",
              "      border-radius: 50%;\n",
              "      cursor: pointer;\n",
              "      display: none;\n",
              "      fill: #1967D2;\n",
              "      height: 32px;\n",
              "      padding: 0 0 0 0;\n",
              "      width: 32px;\n",
              "    }\n",
              "\n",
              "    .colab-df-convert:hover {\n",
              "      background-color: #E2EBFA;\n",
              "      box-shadow: 0px 1px 2px rgba(60, 64, 67, 0.3), 0px 1px 3px 1px rgba(60, 64, 67, 0.15);\n",
              "      fill: #174EA6;\n",
              "    }\n",
              "\n",
              "    .colab-df-buttons div {\n",
              "      margin-bottom: 4px;\n",
              "    }\n",
              "\n",
              "    [theme=dark] .colab-df-convert {\n",
              "      background-color: #3B4455;\n",
              "      fill: #D2E3FC;\n",
              "    }\n",
              "\n",
              "    [theme=dark] .colab-df-convert:hover {\n",
              "      background-color: #434B5C;\n",
              "      box-shadow: 0px 1px 3px 1px rgba(0, 0, 0, 0.15);\n",
              "      filter: drop-shadow(0px 1px 2px rgba(0, 0, 0, 0.3));\n",
              "      fill: #FFFFFF;\n",
              "    }\n",
              "  </style>\n",
              "\n",
              "    <script>\n",
              "      const buttonEl =\n",
              "        document.querySelector('#df-d45b474c-b31a-448d-8435-fbad2b540e0f button.colab-df-convert');\n",
              "      buttonEl.style.display =\n",
              "        google.colab.kernel.accessAllowed ? 'block' : 'none';\n",
              "\n",
              "      async function convertToInteractive(key) {\n",
              "        const element = document.querySelector('#df-d45b474c-b31a-448d-8435-fbad2b540e0f');\n",
              "        const dataTable =\n",
              "          await google.colab.kernel.invokeFunction('convertToInteractive',\n",
              "                                                    [key], {});\n",
              "        if (!dataTable) return;\n",
              "\n",
              "        const docLinkHtml = 'Like what you see? Visit the ' +\n",
              "          '<a target=\"_blank\" href=https://colab.research.google.com/notebooks/data_table.ipynb>data table notebook</a>'\n",
              "          + ' to learn more about interactive tables.';\n",
              "        element.innerHTML = '';\n",
              "        dataTable['output_type'] = 'display_data';\n",
              "        await google.colab.output.renderOutput(dataTable, element);\n",
              "        const docLink = document.createElement('div');\n",
              "        docLink.innerHTML = docLinkHtml;\n",
              "        element.appendChild(docLink);\n",
              "      }\n",
              "    </script>\n",
              "  </div>\n",
              "\n",
              "\n",
              "<div id=\"df-e5d56168-fe82-4890-a135-b9ed085381f0\">\n",
              "  <button class=\"colab-df-quickchart\" onclick=\"quickchart('df-e5d56168-fe82-4890-a135-b9ed085381f0')\"\n",
              "            title=\"Suggest charts\"\n",
              "            style=\"display:none;\">\n",
              "\n",
              "<svg xmlns=\"http://www.w3.org/2000/svg\" height=\"24px\"viewBox=\"0 0 24 24\"\n",
              "     width=\"24px\">\n",
              "    <g>\n",
              "        <path d=\"M19 3H5c-1.1 0-2 .9-2 2v14c0 1.1.9 2 2 2h14c1.1 0 2-.9 2-2V5c0-1.1-.9-2-2-2zM9 17H7v-7h2v7zm4 0h-2V7h2v10zm4 0h-2v-4h2v4z\"/>\n",
              "    </g>\n",
              "</svg>\n",
              "  </button>\n",
              "\n",
              "<style>\n",
              "  .colab-df-quickchart {\n",
              "      --bg-color: #E8F0FE;\n",
              "      --fill-color: #1967D2;\n",
              "      --hover-bg-color: #E2EBFA;\n",
              "      --hover-fill-color: #174EA6;\n",
              "      --disabled-fill-color: #AAA;\n",
              "      --disabled-bg-color: #DDD;\n",
              "  }\n",
              "\n",
              "  [theme=dark] .colab-df-quickchart {\n",
              "      --bg-color: #3B4455;\n",
              "      --fill-color: #D2E3FC;\n",
              "      --hover-bg-color: #434B5C;\n",
              "      --hover-fill-color: #FFFFFF;\n",
              "      --disabled-bg-color: #3B4455;\n",
              "      --disabled-fill-color: #666;\n",
              "  }\n",
              "\n",
              "  .colab-df-quickchart {\n",
              "    background-color: var(--bg-color);\n",
              "    border: none;\n",
              "    border-radius: 50%;\n",
              "    cursor: pointer;\n",
              "    display: none;\n",
              "    fill: var(--fill-color);\n",
              "    height: 32px;\n",
              "    padding: 0;\n",
              "    width: 32px;\n",
              "  }\n",
              "\n",
              "  .colab-df-quickchart:hover {\n",
              "    background-color: var(--hover-bg-color);\n",
              "    box-shadow: 0 1px 2px rgba(60, 64, 67, 0.3), 0 1px 3px 1px rgba(60, 64, 67, 0.15);\n",
              "    fill: var(--button-hover-fill-color);\n",
              "  }\n",
              "\n",
              "  .colab-df-quickchart-complete:disabled,\n",
              "  .colab-df-quickchart-complete:disabled:hover {\n",
              "    background-color: var(--disabled-bg-color);\n",
              "    fill: var(--disabled-fill-color);\n",
              "    box-shadow: none;\n",
              "  }\n",
              "\n",
              "  .colab-df-spinner {\n",
              "    border: 2px solid var(--fill-color);\n",
              "    border-color: transparent;\n",
              "    border-bottom-color: var(--fill-color);\n",
              "    animation:\n",
              "      spin 1s steps(1) infinite;\n",
              "  }\n",
              "\n",
              "  @keyframes spin {\n",
              "    0% {\n",
              "      border-color: transparent;\n",
              "      border-bottom-color: var(--fill-color);\n",
              "      border-left-color: var(--fill-color);\n",
              "    }\n",
              "    20% {\n",
              "      border-color: transparent;\n",
              "      border-left-color: var(--fill-color);\n",
              "      border-top-color: var(--fill-color);\n",
              "    }\n",
              "    30% {\n",
              "      border-color: transparent;\n",
              "      border-left-color: var(--fill-color);\n",
              "      border-top-color: var(--fill-color);\n",
              "      border-right-color: var(--fill-color);\n",
              "    }\n",
              "    40% {\n",
              "      border-color: transparent;\n",
              "      border-right-color: var(--fill-color);\n",
              "      border-top-color: var(--fill-color);\n",
              "    }\n",
              "    60% {\n",
              "      border-color: transparent;\n",
              "      border-right-color: var(--fill-color);\n",
              "    }\n",
              "    80% {\n",
              "      border-color: transparent;\n",
              "      border-right-color: var(--fill-color);\n",
              "      border-bottom-color: var(--fill-color);\n",
              "    }\n",
              "    90% {\n",
              "      border-color: transparent;\n",
              "      border-bottom-color: var(--fill-color);\n",
              "    }\n",
              "  }\n",
              "</style>\n",
              "\n",
              "  <script>\n",
              "    async function quickchart(key) {\n",
              "      const quickchartButtonEl =\n",
              "        document.querySelector('#' + key + ' button');\n",
              "      quickchartButtonEl.disabled = true;  // To prevent multiple clicks.\n",
              "      quickchartButtonEl.classList.add('colab-df-spinner');\n",
              "      try {\n",
              "        const charts = await google.colab.kernel.invokeFunction(\n",
              "            'suggestCharts', [key], {});\n",
              "      } catch (error) {\n",
              "        console.error('Error during call to suggestCharts:', error);\n",
              "      }\n",
              "      quickchartButtonEl.classList.remove('colab-df-spinner');\n",
              "      quickchartButtonEl.classList.add('colab-df-quickchart-complete');\n",
              "    }\n",
              "    (() => {\n",
              "      let quickchartButtonEl =\n",
              "        document.querySelector('#df-e5d56168-fe82-4890-a135-b9ed085381f0 button');\n",
              "      quickchartButtonEl.style.display =\n",
              "        google.colab.kernel.accessAllowed ? 'block' : 'none';\n",
              "    })();\n",
              "  </script>\n",
              "</div>\n",
              "\n",
              "    </div>\n",
              "  </div>\n"
            ],
            "application/vnd.google.colaboratory.intrinsic+json": {
              "type": "dataframe",
              "summary": "{\n  \"name\": \"df[['id', 'reparto']]\",\n  \"rows\": 45476,\n  \"fields\": [\n    {\n      \"column\": \"id\",\n      \"properties\": {\n        \"dtype\": \"number\",\n        \"std\": 112443,\n        \"min\": 2,\n        \"max\": 469172,\n        \"num_unique_values\": 45432,\n        \"samples\": [\n          43942,\n          30139,\n          85389\n        ],\n        \"semantic_type\": \"\",\n        \"description\": \"\"\n      }\n    },\n    {\n      \"column\": \"reparto\",\n      \"properties\": {\n        \"dtype\": \"object\",\n        \"semantic_type\": \"\",\n        \"description\": \"\"\n      }\n    }\n  ]\n}"
            }
          },
          "metadata": {},
          "execution_count": 53
        }
      ]
    },
    {
      "cell_type": "markdown",
      "source": [
        "Observamos una fila en particular de la nueva columna `reparto`"
      ],
      "metadata": {
        "id": "k11sbyMDIzB7"
      }
    },
    {
      "cell_type": "code",
      "source": [
        "df['reparto'][0]"
      ],
      "metadata": {
        "colab": {
          "base_uri": "https://localhost:8080/"
        },
        "id": "CdzSCWg4I5hG",
        "outputId": "2ffef099-4a33-41fb-beca-dc0bf0b256c8"
      },
      "execution_count": null,
      "outputs": [
        {
          "output_type": "execute_result",
          "data": {
            "text/plain": [
              "['Tom Hanks',\n",
              " 'Tim Allen',\n",
              " 'Don Rickles',\n",
              " 'Jim Varney',\n",
              " 'Wallace Shawn',\n",
              " 'John Ratzenberger',\n",
              " 'Annie Potts',\n",
              " 'John Morris',\n",
              " 'Erik von Detten',\n",
              " 'Laurie Metcalf',\n",
              " 'R. Lee Ermey',\n",
              " 'Sarah Freeman',\n",
              " 'Penn Jillette']"
            ]
          },
          "metadata": {},
          "execution_count": 54
        }
      ]
    },
    {
      "cell_type": "markdown",
      "source": [
        "### 2.2.2. Columna `crew`"
      ],
      "metadata": {
        "id": "L1YTrgJzJLuo"
      }
    },
    {
      "cell_type": "markdown",
      "source": [
        "Convertimos la columna `crew` de cadenas a listas de diccionarios."
      ],
      "metadata": {
        "id": "H0NwBPFyJWaE"
      }
    },
    {
      "cell_type": "code",
      "source": [
        "df['crew'] = df['crew'].apply(lambda x: ast.literal_eval(x) if isinstance(x, str) else x)"
      ],
      "metadata": {
        "id": "7sDDgo6uJYDT"
      },
      "execution_count": null,
      "outputs": []
    },
    {
      "cell_type": "markdown",
      "source": [
        "Extraemos el nombre del director de cada lista y lo almacenamos en una nueva columna llamada `Director`"
      ],
      "metadata": {
        "id": "bubUi4EyJhUU"
      }
    },
    {
      "cell_type": "code",
      "source": [
        "df['Director'] = df['crew'].apply(lambda x: next((member['name'] for member in x if isinstance(member, dict) and member.get('job') == 'Director'), None) if isinstance(x, list) else None)"
      ],
      "metadata": {
        "id": "q3rfqVK-Jmof"
      },
      "execution_count": null,
      "outputs": []
    },
    {
      "cell_type": "markdown",
      "source": [
        "Mostramos las columnas `id` y `director` del DataFrame, para visualizar la relación entre los identificadores de las películas y sus respectivos directores."
      ],
      "metadata": {
        "id": "r9m3vvRJJunW"
      }
    },
    {
      "cell_type": "code",
      "source": [
        "df[['id', 'Director']]"
      ],
      "metadata": {
        "colab": {
          "base_uri": "https://localhost:8080/"
        },
        "id": "ePilfD9BJ7-g",
        "outputId": "e01a90fe-a8c9-461d-a6be-cf4c158d1afc"
      },
      "execution_count": null,
      "outputs": [
        {
          "output_type": "execute_result",
          "data": {
            "text/plain": [
              "           id          Director\n",
              "0         862     John Lasseter\n",
              "1        8844      Joe Johnston\n",
              "2       15602     Howard Deutch\n",
              "3       31357   Forest Whitaker\n",
              "4       11862     Charles Shyer\n",
              "...       ...               ...\n",
              "45471  439050  Hamid Nematollah\n",
              "45472  111109          Lav Diaz\n",
              "45473   67758    Mark L. Lester\n",
              "45474  227506  Yakov Protazanov\n",
              "45475  461257     Daisy Asquith\n",
              "\n",
              "[45476 rows x 2 columns]"
            ],
            "text/html": [
              "\n",
              "  <div id=\"df-dc87413d-7051-4119-91fb-768988d339f2\" class=\"colab-df-container\">\n",
              "    <div>\n",
              "<style scoped>\n",
              "    .dataframe tbody tr th:only-of-type {\n",
              "        vertical-align: middle;\n",
              "    }\n",
              "\n",
              "    .dataframe tbody tr th {\n",
              "        vertical-align: top;\n",
              "    }\n",
              "\n",
              "    .dataframe thead th {\n",
              "        text-align: right;\n",
              "    }\n",
              "</style>\n",
              "<table border=\"1\" class=\"dataframe\">\n",
              "  <thead>\n",
              "    <tr style=\"text-align: right;\">\n",
              "      <th></th>\n",
              "      <th>id</th>\n",
              "      <th>Director</th>\n",
              "    </tr>\n",
              "  </thead>\n",
              "  <tbody>\n",
              "    <tr>\n",
              "      <th>0</th>\n",
              "      <td>862</td>\n",
              "      <td>John Lasseter</td>\n",
              "    </tr>\n",
              "    <tr>\n",
              "      <th>1</th>\n",
              "      <td>8844</td>\n",
              "      <td>Joe Johnston</td>\n",
              "    </tr>\n",
              "    <tr>\n",
              "      <th>2</th>\n",
              "      <td>15602</td>\n",
              "      <td>Howard Deutch</td>\n",
              "    </tr>\n",
              "    <tr>\n",
              "      <th>3</th>\n",
              "      <td>31357</td>\n",
              "      <td>Forest Whitaker</td>\n",
              "    </tr>\n",
              "    <tr>\n",
              "      <th>4</th>\n",
              "      <td>11862</td>\n",
              "      <td>Charles Shyer</td>\n",
              "    </tr>\n",
              "    <tr>\n",
              "      <th>...</th>\n",
              "      <td>...</td>\n",
              "      <td>...</td>\n",
              "    </tr>\n",
              "    <tr>\n",
              "      <th>45471</th>\n",
              "      <td>439050</td>\n",
              "      <td>Hamid Nematollah</td>\n",
              "    </tr>\n",
              "    <tr>\n",
              "      <th>45472</th>\n",
              "      <td>111109</td>\n",
              "      <td>Lav Diaz</td>\n",
              "    </tr>\n",
              "    <tr>\n",
              "      <th>45473</th>\n",
              "      <td>67758</td>\n",
              "      <td>Mark L. Lester</td>\n",
              "    </tr>\n",
              "    <tr>\n",
              "      <th>45474</th>\n",
              "      <td>227506</td>\n",
              "      <td>Yakov Protazanov</td>\n",
              "    </tr>\n",
              "    <tr>\n",
              "      <th>45475</th>\n",
              "      <td>461257</td>\n",
              "      <td>Daisy Asquith</td>\n",
              "    </tr>\n",
              "  </tbody>\n",
              "</table>\n",
              "<p>45476 rows × 2 columns</p>\n",
              "</div>\n",
              "    <div class=\"colab-df-buttons\">\n",
              "\n",
              "  <div class=\"colab-df-container\">\n",
              "    <button class=\"colab-df-convert\" onclick=\"convertToInteractive('df-dc87413d-7051-4119-91fb-768988d339f2')\"\n",
              "            title=\"Convert this dataframe to an interactive table.\"\n",
              "            style=\"display:none;\">\n",
              "\n",
              "  <svg xmlns=\"http://www.w3.org/2000/svg\" height=\"24px\" viewBox=\"0 -960 960 960\">\n",
              "    <path d=\"M120-120v-720h720v720H120Zm60-500h600v-160H180v160Zm220 220h160v-160H400v160Zm0 220h160v-160H400v160ZM180-400h160v-160H180v160Zm440 0h160v-160H620v160ZM180-180h160v-160H180v160Zm440 0h160v-160H620v160Z\"/>\n",
              "  </svg>\n",
              "    </button>\n",
              "\n",
              "  <style>\n",
              "    .colab-df-container {\n",
              "      display:flex;\n",
              "      gap: 12px;\n",
              "    }\n",
              "\n",
              "    .colab-df-convert {\n",
              "      background-color: #E8F0FE;\n",
              "      border: none;\n",
              "      border-radius: 50%;\n",
              "      cursor: pointer;\n",
              "      display: none;\n",
              "      fill: #1967D2;\n",
              "      height: 32px;\n",
              "      padding: 0 0 0 0;\n",
              "      width: 32px;\n",
              "    }\n",
              "\n",
              "    .colab-df-convert:hover {\n",
              "      background-color: #E2EBFA;\n",
              "      box-shadow: 0px 1px 2px rgba(60, 64, 67, 0.3), 0px 1px 3px 1px rgba(60, 64, 67, 0.15);\n",
              "      fill: #174EA6;\n",
              "    }\n",
              "\n",
              "    .colab-df-buttons div {\n",
              "      margin-bottom: 4px;\n",
              "    }\n",
              "\n",
              "    [theme=dark] .colab-df-convert {\n",
              "      background-color: #3B4455;\n",
              "      fill: #D2E3FC;\n",
              "    }\n",
              "\n",
              "    [theme=dark] .colab-df-convert:hover {\n",
              "      background-color: #434B5C;\n",
              "      box-shadow: 0px 1px 3px 1px rgba(0, 0, 0, 0.15);\n",
              "      filter: drop-shadow(0px 1px 2px rgba(0, 0, 0, 0.3));\n",
              "      fill: #FFFFFF;\n",
              "    }\n",
              "  </style>\n",
              "\n",
              "    <script>\n",
              "      const buttonEl =\n",
              "        document.querySelector('#df-dc87413d-7051-4119-91fb-768988d339f2 button.colab-df-convert');\n",
              "      buttonEl.style.display =\n",
              "        google.colab.kernel.accessAllowed ? 'block' : 'none';\n",
              "\n",
              "      async function convertToInteractive(key) {\n",
              "        const element = document.querySelector('#df-dc87413d-7051-4119-91fb-768988d339f2');\n",
              "        const dataTable =\n",
              "          await google.colab.kernel.invokeFunction('convertToInteractive',\n",
              "                                                    [key], {});\n",
              "        if (!dataTable) return;\n",
              "\n",
              "        const docLinkHtml = 'Like what you see? Visit the ' +\n",
              "          '<a target=\"_blank\" href=https://colab.research.google.com/notebooks/data_table.ipynb>data table notebook</a>'\n",
              "          + ' to learn more about interactive tables.';\n",
              "        element.innerHTML = '';\n",
              "        dataTable['output_type'] = 'display_data';\n",
              "        await google.colab.output.renderOutput(dataTable, element);\n",
              "        const docLink = document.createElement('div');\n",
              "        docLink.innerHTML = docLinkHtml;\n",
              "        element.appendChild(docLink);\n",
              "      }\n",
              "    </script>\n",
              "  </div>\n",
              "\n",
              "\n",
              "<div id=\"df-5853348e-2599-4aaf-9dba-50d4fadd41ef\">\n",
              "  <button class=\"colab-df-quickchart\" onclick=\"quickchart('df-5853348e-2599-4aaf-9dba-50d4fadd41ef')\"\n",
              "            title=\"Suggest charts\"\n",
              "            style=\"display:none;\">\n",
              "\n",
              "<svg xmlns=\"http://www.w3.org/2000/svg\" height=\"24px\"viewBox=\"0 0 24 24\"\n",
              "     width=\"24px\">\n",
              "    <g>\n",
              "        <path d=\"M19 3H5c-1.1 0-2 .9-2 2v14c0 1.1.9 2 2 2h14c1.1 0 2-.9 2-2V5c0-1.1-.9-2-2-2zM9 17H7v-7h2v7zm4 0h-2V7h2v10zm4 0h-2v-4h2v4z\"/>\n",
              "    </g>\n",
              "</svg>\n",
              "  </button>\n",
              "\n",
              "<style>\n",
              "  .colab-df-quickchart {\n",
              "      --bg-color: #E8F0FE;\n",
              "      --fill-color: #1967D2;\n",
              "      --hover-bg-color: #E2EBFA;\n",
              "      --hover-fill-color: #174EA6;\n",
              "      --disabled-fill-color: #AAA;\n",
              "      --disabled-bg-color: #DDD;\n",
              "  }\n",
              "\n",
              "  [theme=dark] .colab-df-quickchart {\n",
              "      --bg-color: #3B4455;\n",
              "      --fill-color: #D2E3FC;\n",
              "      --hover-bg-color: #434B5C;\n",
              "      --hover-fill-color: #FFFFFF;\n",
              "      --disabled-bg-color: #3B4455;\n",
              "      --disabled-fill-color: #666;\n",
              "  }\n",
              "\n",
              "  .colab-df-quickchart {\n",
              "    background-color: var(--bg-color);\n",
              "    border: none;\n",
              "    border-radius: 50%;\n",
              "    cursor: pointer;\n",
              "    display: none;\n",
              "    fill: var(--fill-color);\n",
              "    height: 32px;\n",
              "    padding: 0;\n",
              "    width: 32px;\n",
              "  }\n",
              "\n",
              "  .colab-df-quickchart:hover {\n",
              "    background-color: var(--hover-bg-color);\n",
              "    box-shadow: 0 1px 2px rgba(60, 64, 67, 0.3), 0 1px 3px 1px rgba(60, 64, 67, 0.15);\n",
              "    fill: var(--button-hover-fill-color);\n",
              "  }\n",
              "\n",
              "  .colab-df-quickchart-complete:disabled,\n",
              "  .colab-df-quickchart-complete:disabled:hover {\n",
              "    background-color: var(--disabled-bg-color);\n",
              "    fill: var(--disabled-fill-color);\n",
              "    box-shadow: none;\n",
              "  }\n",
              "\n",
              "  .colab-df-spinner {\n",
              "    border: 2px solid var(--fill-color);\n",
              "    border-color: transparent;\n",
              "    border-bottom-color: var(--fill-color);\n",
              "    animation:\n",
              "      spin 1s steps(1) infinite;\n",
              "  }\n",
              "\n",
              "  @keyframes spin {\n",
              "    0% {\n",
              "      border-color: transparent;\n",
              "      border-bottom-color: var(--fill-color);\n",
              "      border-left-color: var(--fill-color);\n",
              "    }\n",
              "    20% {\n",
              "      border-color: transparent;\n",
              "      border-left-color: var(--fill-color);\n",
              "      border-top-color: var(--fill-color);\n",
              "    }\n",
              "    30% {\n",
              "      border-color: transparent;\n",
              "      border-left-color: var(--fill-color);\n",
              "      border-top-color: var(--fill-color);\n",
              "      border-right-color: var(--fill-color);\n",
              "    }\n",
              "    40% {\n",
              "      border-color: transparent;\n",
              "      border-right-color: var(--fill-color);\n",
              "      border-top-color: var(--fill-color);\n",
              "    }\n",
              "    60% {\n",
              "      border-color: transparent;\n",
              "      border-right-color: var(--fill-color);\n",
              "    }\n",
              "    80% {\n",
              "      border-color: transparent;\n",
              "      border-right-color: var(--fill-color);\n",
              "      border-bottom-color: var(--fill-color);\n",
              "    }\n",
              "    90% {\n",
              "      border-color: transparent;\n",
              "      border-bottom-color: var(--fill-color);\n",
              "    }\n",
              "  }\n",
              "</style>\n",
              "\n",
              "  <script>\n",
              "    async function quickchart(key) {\n",
              "      const quickchartButtonEl =\n",
              "        document.querySelector('#' + key + ' button');\n",
              "      quickchartButtonEl.disabled = true;  // To prevent multiple clicks.\n",
              "      quickchartButtonEl.classList.add('colab-df-spinner');\n",
              "      try {\n",
              "        const charts = await google.colab.kernel.invokeFunction(\n",
              "            'suggestCharts', [key], {});\n",
              "      } catch (error) {\n",
              "        console.error('Error during call to suggestCharts:', error);\n",
              "      }\n",
              "      quickchartButtonEl.classList.remove('colab-df-spinner');\n",
              "      quickchartButtonEl.classList.add('colab-df-quickchart-complete');\n",
              "    }\n",
              "    (() => {\n",
              "      let quickchartButtonEl =\n",
              "        document.querySelector('#df-5853348e-2599-4aaf-9dba-50d4fadd41ef button');\n",
              "      quickchartButtonEl.style.display =\n",
              "        google.colab.kernel.accessAllowed ? 'block' : 'none';\n",
              "    })();\n",
              "  </script>\n",
              "</div>\n",
              "\n",
              "    </div>\n",
              "  </div>\n"
            ],
            "application/vnd.google.colaboratory.intrinsic+json": {
              "type": "dataframe",
              "summary": "{\n  \"name\": \"df[['id', 'Director']]\",\n  \"rows\": 45476,\n  \"fields\": [\n    {\n      \"column\": \"id\",\n      \"properties\": {\n        \"dtype\": \"number\",\n        \"std\": 112443,\n        \"min\": 2,\n        \"max\": 469172,\n        \"num_unique_values\": 45432,\n        \"samples\": [\n          43942,\n          30139,\n          85389\n        ],\n        \"semantic_type\": \"\",\n        \"description\": \"\"\n      }\n    },\n    {\n      \"column\": \"Director\",\n      \"properties\": {\n        \"dtype\": \"category\",\n        \"num_unique_values\": 17572,\n        \"samples\": [\n          \"Ben van Lieshout\",\n          \"Maur\\u00edcio Farias\",\n          \"Djo Munga\"\n        ],\n        \"semantic_type\": \"\",\n        \"description\": \"\"\n      }\n    }\n  ]\n}"
            }
          },
          "metadata": {},
          "execution_count": 57
        }
      ]
    },
    {
      "cell_type": "markdown",
      "source": [
        "Filtramos el DataFrame para mantener solo las columnas `id`, `reparto`, y `Director`"
      ],
      "metadata": {
        "id": "dEAfjyYKJ_7h"
      }
    },
    {
      "cell_type": "code",
      "source": [
        "df = df[['id', 'reparto', 'Director']]\n"
      ],
      "metadata": {
        "id": "OsV0TH8RKAgP"
      },
      "execution_count": null,
      "outputs": []
    },
    {
      "cell_type": "markdown",
      "source": [
        "Mostramos la información general sobre el DataFrame resultante."
      ],
      "metadata": {
        "id": "I5x-gCDyKNDs"
      }
    },
    {
      "cell_type": "code",
      "source": [
        "df.info()"
      ],
      "metadata": {
        "colab": {
          "base_uri": "https://localhost:8080/"
        },
        "id": "_1ue78b8KQKP",
        "outputId": "9fa23ab6-6ddb-44b1-90d4-a7bc948833d3"
      },
      "execution_count": null,
      "outputs": [
        {
          "output_type": "stream",
          "name": "stdout",
          "text": [
            "<class 'pandas.core.frame.DataFrame'>\n",
            "RangeIndex: 45476 entries, 0 to 45475\n",
            "Data columns (total 3 columns):\n",
            " #   Column    Non-Null Count  Dtype \n",
            "---  ------    --------------  ----- \n",
            " 0   id        45476 non-null  int64 \n",
            " 1   reparto   45476 non-null  object\n",
            " 2   Director  44589 non-null  object\n",
            "dtypes: int64(1), object(2)\n",
            "memory usage: 1.0+ MB\n"
          ]
        }
      ]
    },
    {
      "cell_type": "markdown",
      "source": [
        "2.2.3. Muestra final de `credits`"
      ],
      "metadata": {
        "id": "LhjW1jI3Lm3m"
      }
    },
    {
      "cell_type": "markdown",
      "source": [
        "Debido al tamaño del archivo se tienen complicación para generar los modelos y luego correr la API en Render, por ello se determina tomar una muestra aleatoria de 30.000 filas."
      ],
      "metadata": {
        "id": "fGceYVtILomt"
      }
    },
    {
      "cell_type": "code",
      "source": [
        "muestra_credit_df = df.sample(n=30000, random_state=1)"
      ],
      "metadata": {
        "id": "p7m8dU-bLn4h"
      },
      "execution_count": null,
      "outputs": []
    },
    {
      "cell_type": "markdown",
      "source": [
        "Se revisa la información principal de la muestra"
      ],
      "metadata": {
        "id": "jDI_BrVpMLTN"
      }
    },
    {
      "cell_type": "code",
      "source": [
        "muestra_credit_df.info()"
      ],
      "metadata": {
        "colab": {
          "base_uri": "https://localhost:8080/"
        },
        "id": "_Lb38tpQMIhP",
        "outputId": "14614dde-a930-4fcd-dbb6-7ec19de66f08"
      },
      "execution_count": null,
      "outputs": [
        {
          "output_type": "stream",
          "name": "stdout",
          "text": [
            "<class 'pandas.core.frame.DataFrame'>\n",
            "Index: 30000 entries, 17654 to 25944\n",
            "Data columns (total 3 columns):\n",
            " #   Column    Non-Null Count  Dtype \n",
            "---  ------    --------------  ----- \n",
            " 0   id        30000 non-null  int64 \n",
            " 1   reparto   30000 non-null  object\n",
            " 2   Director  29424 non-null  object\n",
            "dtypes: int64(1), object(2)\n",
            "memory usage: 937.5+ KB\n"
          ]
        }
      ]
    },
    {
      "cell_type": "markdown",
      "source": [
        "Se descarga la muestra"
      ],
      "metadata": {
        "id": "BhVg7GtXMPcn"
      }
    },
    {
      "cell_type": "code",
      "source": [
        "#from google.colab import files\n",
        "\n",
        "# Guardar el DataFrame como un archivo CSV\n",
        "#muestra_credit_df.to_csv('muestra_credit_df.csv', index=False)\n",
        "\n",
        "# Descargar el archivo\n",
        "#files.download('muestra_credit_df.csv')\n"
      ],
      "metadata": {
        "id": "uy_LSG6yMRsn"
      },
      "execution_count": null,
      "outputs": []
    },
    {
      "cell_type": "markdown",
      "source": [
        "# 3. EDA"
      ],
      "metadata": {
        "id": "qr6ZlTSn2fMR"
      }
    },
    {
      "cell_type": "markdown",
      "source": [
        "El EDA (Exploratory Data Analysis o Análisis Exploratorio de Datos), tiene como objetivo comprender las principales características del conjunto de datos antes de aplicar los modelos predictivos o realizar análisis estadísticos más profundos. El EDA permite descubrir patrones, detectar anomalías, verificar supuestos y probar hipótesis."
      ],
      "metadata": {
        "id": "_p6e-oDyab8b"
      }
    },
    {
      "cell_type": "markdown",
      "source": [
        "## 3.1. Resumen de los datos"
      ],
      "metadata": {
        "id": "GvGxVXnp5swW"
      }
    },
    {
      "cell_type": "code",
      "source": [
        "movies_df.info()"
      ],
      "metadata": {
        "colab": {
          "base_uri": "https://localhost:8080/"
        },
        "id": "dKgnZSFT4xA4",
        "outputId": "46c68f8f-82d6-4878-98dd-6a0a8ab35279"
      },
      "execution_count": null,
      "outputs": [
        {
          "output_type": "stream",
          "name": "stdout",
          "text": [
            "<class 'pandas.core.frame.DataFrame'>\n",
            "Index: 45379 entries, 0 to 45465\n",
            "Data columns (total 23 columns):\n",
            " #   Column                               Non-Null Count  Dtype         \n",
            "---  ------                               --------------  -----         \n",
            " 0   budget                               45379 non-null  float64       \n",
            " 1   genres                               45379 non-null  object        \n",
            " 2   id                                   45379 non-null  object        \n",
            " 3   original_language                    45368 non-null  object        \n",
            " 4   overview                             44438 non-null  object        \n",
            " 5   popularity                           45377 non-null  object        \n",
            " 6   production_companies                 45376 non-null  object        \n",
            " 7   production_countries                 45376 non-null  object        \n",
            " 8   release_date                         45376 non-null  datetime64[ns]\n",
            " 9   revenue                              45379 non-null  float64       \n",
            " 10  runtime                              45130 non-null  float64       \n",
            " 11  spoken_languages                     45376 non-null  object        \n",
            " 12  status                               45296 non-null  object        \n",
            " 13  tagline                              20398 non-null  object        \n",
            " 14  title                                45376 non-null  object        \n",
            " 15  vote_average                         45376 non-null  float64       \n",
            " 16  vote_count                           45376 non-null  float64       \n",
            " 17  belongs_to_collection_id             4488 non-null   float64       \n",
            " 18  belongs_to_collection_name           4488 non-null   object        \n",
            " 19  belongs_to_collection_poster_path    3945 non-null   object        \n",
            " 20  belongs_to_collection_backdrop_path  3260 non-null   object        \n",
            " 21  release_year                         45376 non-null  float64       \n",
            " 22  return                               45379 non-null  float64       \n",
            "dtypes: datetime64[ns](1), float64(8), object(14)\n",
            "memory usage: 8.3+ MB\n"
          ]
        }
      ]
    },
    {
      "cell_type": "code",
      "source": [
        "# Resumen general de las columnas numéricas\n",
        "numerical_summary = movies_df.describe()\n",
        "print(numerical_summary)"
      ],
      "metadata": {
        "colab": {
          "base_uri": "https://localhost:8080/"
        },
        "id": "xloe0RaV5xED",
        "outputId": "d8909a2f-d5aa-490e-a8a2-322fe9bc6bab"
      },
      "execution_count": null,
      "outputs": [
        {
          "output_type": "stream",
          "name": "stdout",
          "text": [
            "             budget                   release_date       revenue  \\\n",
            "count  4.537900e+04                          45376  4.537900e+04   \n",
            "mean   4.232325e+06  1992-05-15 17:10:50.564174848  1.122936e+07   \n",
            "min    0.000000e+00            1874-12-09 00:00:00  0.000000e+00   \n",
            "25%    0.000000e+00            1978-10-06 00:00:00  0.000000e+00   \n",
            "50%    0.000000e+00            2001-08-30 00:00:00  0.000000e+00   \n",
            "75%    0.000000e+00            2010-12-17 00:00:00  0.000000e+00   \n",
            "max    3.800000e+08            2020-12-16 00:00:00  2.787965e+09   \n",
            "std    1.743932e+07                            NaN  6.438789e+07   \n",
            "\n",
            "            runtime  vote_average    vote_count  belongs_to_collection_id  \\\n",
            "count  45130.000000  45376.000000  45376.000000               4488.000000   \n",
            "mean      94.181675      5.624070    110.096439             184073.408868   \n",
            "min        0.000000      0.000000      0.000000                 10.000000   \n",
            "25%       85.000000      5.000000      3.000000              86026.250000   \n",
            "50%       95.000000      6.000000     10.000000             141531.500000   \n",
            "75%      107.000000      6.800000     34.000000             294172.000000   \n",
            "max     1256.000000     10.000000  14075.000000             480160.000000   \n",
            "std       38.341059      1.915423    491.742894             141630.530505   \n",
            "\n",
            "       release_year        return  \n",
            "count  45376.000000  4.537900e+04  \n",
            "mean    1991.881193  6.599991e+02  \n",
            "min     1874.000000  0.000000e+00  \n",
            "25%     1978.000000  0.000000e+00  \n",
            "50%     2001.000000  0.000000e+00  \n",
            "75%     2010.000000  0.000000e+00  \n",
            "max     2020.000000  1.239638e+07  \n",
            "std       24.055360  7.469083e+04  \n"
          ]
        }
      ]
    },
    {
      "cell_type": "markdown",
      "source": [
        "**Budget (Presupuesto)**\n",
        "\n",
        "- **Media:** El presupuesto promedio es de aproximadamente \\$ $4.23$ millones, pero la mediana es $0$, lo que sugiere que una gran parte de las películas en el conjunto de datos no tiene presupuesto registrado.\n",
        "\n",
        "- **Mínimo:** Hay películas con presupuesto de \\$ $0$, lo que podría indicar películas de bajo presupuesto o independientes.\n",
        "\n",
        "- **Máximo:** La película con el mayor presupuesto tiene un costo de \\$ $380$ millones, lo que indica que hay algunas grandes producciones en el conjunto de datos.\n",
        "\n",
        "- **Desviación estándar:** La desviación estándar es bastante alta (aproximadamente \\$ $17.44$ millones), lo que sugiere una gran variabilidad en los presupuestos."
      ],
      "metadata": {
        "id": "yjIWX2MXNCCS"
      }
    },
    {
      "cell_type": "markdown",
      "source": [
        "**Release Date (Fecha de Estreno)**\n",
        "\n",
        "- **Rango de Fechas:** Las fechas de estreno van desde el 9 de diciembre de 1874 hasta el 16 de diciembre de 2020, lo que abarca una amplia gama de películas, desde clásicos hasta producciones más recientes."
      ],
      "metadata": {
        "id": "8M-F0N28OEQ-"
      }
    },
    {
      "cell_type": "markdown",
      "source": [
        "**Revenue (Ingresos)**\n",
        "\n",
        "- **Media:** Los ingresos promedio son aproximadamente \\$ $11.23$ millones, pero, al igual que el presupuesto, la mediana es $0$. Esto sugiere que muchas películas no generaron ingresos o que los datos de ingresos están incompletos.\n",
        "\n",
        "- **Mínimo:** También hay ingresos de \\$ $0$, lo que puede indicar fracasos comerciales o datos no reportados.\n",
        "\n",
        "- **Máximo:** El ingreso máximo es de aproximadamente \\$ $2.79$ mil millones, lo que indica la presencia de películas de gran éxito en la muestra.\n",
        "\n",
        "- **Desviación estándar:** La desviación estándar es alta (aproximadamente \\$ $64.39$ millones), lo que indica una gran variabilidad en los ingresos generados por las películas."
      ],
      "metadata": {
        "id": "MO3mcNkpOVdK"
      }
    },
    {
      "cell_type": "markdown",
      "source": [
        "**Runtime (Duración)**\n",
        "\n",
        "- **Media:** La duración promedio de las películas es de aproximadamente $94$ minutos, que es un tiempo razonable para películas de longitud estándar. Martin Scorsese (director, guionista y productor de cine estadounidense), ha mencionado que una longitud de tiempo razonable para una película suele estar entre $90$ y $120$ minutos.\n",
        "\n",
        "- **Máximo:** Hay una película con una duración de $1256$ minutos, lo que parece anómalo y podría indicar un error o que se trata de una colección o documental extenso.\n",
        "\n",
        "- **Desviación estándar:** La desviación estándar es aproximadamente $38.34$ minutos, lo que sugiere una variedad en la duración de las películas."
      ],
      "metadata": {
        "id": "1rRBP4W_O2IJ"
      }
    },
    {
      "cell_type": "markdown",
      "source": [
        "**Vote Average (Promedio de Votación)**\n",
        "\n",
        "- **Media:** Un promedio de $5.62$ indica que la mayoría de las películas tienen calificaciones en la mitad de la escala, sugiriendo que no son particularmente bien valoradas en general.\n",
        "\n",
        "- **Mínimo:** Hay películas con una calificación de $0$, lo que podría significar que no han recibido votos.\n",
        "\n",
        "- **Máximo:** La calificación máxima es $10$, que es el tope de la escala de calificaciones, indicando que algunas películas han sido muy bien recibidas."
      ],
      "metadata": {
        "id": "9BbZkTo0PyV6"
      }
    },
    {
      "cell_type": "markdown",
      "source": [
        "**Vote Count (Número de Votos)**\n",
        "\n",
        "- **Media:** El número promedio de votos es de aproximadamente $110$, lo que puede sugerir que solo un número limitado de personas vota por las películas, o que muchas películas son relativamente desconocidas.\n",
        "\n",
        "- **Máximo:** Un recuento máximo de $14,075$ votos sugiere que algunas películas han sido vistas y evaluadas por un gran número de personas."
      ],
      "metadata": {
        "id": "B_zyELhiQDBW"
      }
    },
    {
      "cell_type": "markdown",
      "source": [
        "**Return (Retorno de Inversión)**\n",
        "\n",
        "- **Media:** Un retorno promedio de aproximadamente \\$ $660$ indica que, en promedio, las películas generan un retorno positivo sobre su presupuesto.\n",
        "\n",
        "- **Mínimo:** Hay un retorno de \\$ $0$, lo que indica que algunas películas no han recuperado su inversión o no tienen este dato reportado.\n",
        "\n",
        "- **Máximo:** Un retorno máximo de aproximadamente \\$ $12.4$ millones sugiere que algunas películas han tenido un éxito financiero significativo.\n",
        "\n",
        "- **Desviación estándar:** Una desviación estándar alta (aproximadamente $74,690$) indica variabilidad en los retornos."
      ],
      "metadata": {
        "id": "mjtbNZvtQTqG"
      }
    },
    {
      "cell_type": "markdown",
      "source": [
        "## 3.2. Valores faltantes"
      ],
      "metadata": {
        "id": "5NJ99-Av8naY"
      }
    },
    {
      "cell_type": "code",
      "source": [
        "# Revisión de valores faltantes\n",
        "valores_faltantes = movies_df.isnull().sum()\n",
        "print(valores_faltantes)"
      ],
      "metadata": {
        "colab": {
          "base_uri": "https://localhost:8080/"
        },
        "id": "ZpOUT9O46WUQ",
        "outputId": "58790e50-54e5-40d1-860b-3f5481bf5ee7"
      },
      "execution_count": null,
      "outputs": [
        {
          "output_type": "stream",
          "name": "stdout",
          "text": [
            "budget                                     0\n",
            "genres                                     0\n",
            "id                                         0\n",
            "original_language                         11\n",
            "overview                                 941\n",
            "popularity                                 2\n",
            "production_companies                       3\n",
            "production_countries                       3\n",
            "release_date                               3\n",
            "revenue                                    0\n",
            "runtime                                  249\n",
            "spoken_languages                           3\n",
            "status                                    83\n",
            "tagline                                24981\n",
            "title                                      3\n",
            "vote_average                               3\n",
            "vote_count                                 3\n",
            "belongs_to_collection_id               40891\n",
            "belongs_to_collection_name             40891\n",
            "belongs_to_collection_poster_path      41434\n",
            "belongs_to_collection_backdrop_path    42119\n",
            "release_year                               3\n",
            "return                                     0\n",
            "dtype: int64\n"
          ]
        }
      ]
    },
    {
      "cell_type": "markdown",
      "source": [
        "- **budget, genres, id, revenue, return:** Estas columnas tienen cero valores faltantes. Esto es positivo, ya que son variables que son indispensables para llevar acabo los endpoints y el sistema de recomendación.\n",
        "\n",
        "- **production_companies y production_countries (3 faltantes cada uno):** Estos valores faltantes son manejables, y es posible completarlos a partir de datos relacionados o imputar con valores comunes.\n",
        "\n",
        "- **release_date ($3$ faltantes):** Este es un campo importante para la temporalidad de los datos. Sin embargo la cantidad de faltantes es mínima comparado con el tamaño de la data.\n",
        "\n",
        "- **runtime ($249$ faltantes):** La duración de las películas es relevante para entender el formato y el tipo de producción. Podría considerarse la imputación media o la media por género, pero se debe tener cuidado al hacerlo, ya que la duración puede ser específica de cada película.\n",
        "\n",
        "- **overview ($941$ faltantes):** Esta columna es crucial para entender el contenido de las películas. Las entradas sin un resumen pueden limitar el análisis de texto o modelos de NLP que se basan en la descripción de las películas. Se puede considerar la imputación basada en el análisis de otras características, aunque el llenado de datos faltantes de este tipo puede ser complicado. Algo favorable es que estos datos faltantes son apenas un $2,1 \\%$ de la data.\n",
        "\n",
        "- **tagline ($24,981$ faltantes):** Con la mayoría de las entradas faltantes en esta columna, es posible que se considere irrelevante para el análisis general, ya que no todas las películas tienen un lema. Puede ser beneficioso eliminar esta columna o marcarla como \"desconocido\".\n",
        "\n",
        "- **belongs_to_collection_id, belongs_to_collection_name, belongs_to_collection_poster_path, belongs_to_collection_backdrop_path:** Con más del $90 \\%$ de datos faltantes, estas columnas son prácticamente irrelevantes para el análisis. Se debe considerar la eliminación de estas columnas, ya que la mayoría de las películas no pertenecen a ninguna colección."
      ],
      "metadata": {
        "id": "_Oc6TbqbRJun"
      }
    },
    {
      "cell_type": "code",
      "source": [
        "# Debido a que no todas las películas pertenecen a franquicias o series de películas tenemos valores faltantes que\n",
        "# superan el 90% por ende procedemos a eliminar las columnas asociadas a belongs_to_collection\n",
        "\n",
        "movies_df = movies_df.drop(columns=[\n",
        "    'belongs_to_collection_id',\n",
        "    'belongs_to_collection_name',\n",
        "    'belongs_to_collection_poster_path',\n",
        "    'belongs_to_collection_backdrop_path'\n",
        "])\n",
        "\n"
      ],
      "metadata": {
        "id": "v2SXbslT7So-"
      },
      "execution_count": null,
      "outputs": []
    },
    {
      "cell_type": "code",
      "source": [
        "# Verificar que las columnas hayan sido eliminadas\n",
        "movies_df.info()"
      ],
      "metadata": {
        "colab": {
          "base_uri": "https://localhost:8080/"
        },
        "id": "kjSzsEq98XPc",
        "outputId": "8f4f6e9e-bf1d-4830-a845-cf1b2aab9130"
      },
      "execution_count": null,
      "outputs": [
        {
          "output_type": "stream",
          "name": "stdout",
          "text": [
            "<class 'pandas.core.frame.DataFrame'>\n",
            "Index: 45379 entries, 0 to 45465\n",
            "Data columns (total 19 columns):\n",
            " #   Column                Non-Null Count  Dtype         \n",
            "---  ------                --------------  -----         \n",
            " 0   budget                45379 non-null  float64       \n",
            " 1   genres                45379 non-null  object        \n",
            " 2   id                    45379 non-null  object        \n",
            " 3   original_language     45368 non-null  object        \n",
            " 4   overview              44438 non-null  object        \n",
            " 5   popularity            45377 non-null  object        \n",
            " 6   production_companies  45376 non-null  object        \n",
            " 7   production_countries  45376 non-null  object        \n",
            " 8   release_date          45376 non-null  datetime64[ns]\n",
            " 9   revenue               45379 non-null  float64       \n",
            " 10  runtime               45130 non-null  float64       \n",
            " 11  spoken_languages      45376 non-null  object        \n",
            " 12  status                45296 non-null  object        \n",
            " 13  tagline               20398 non-null  object        \n",
            " 14  title                 45376 non-null  object        \n",
            " 15  vote_average          45376 non-null  float64       \n",
            " 16  vote_count            45376 non-null  float64       \n",
            " 17  release_year          45376 non-null  float64       \n",
            " 18  return                45379 non-null  float64       \n",
            "dtypes: datetime64[ns](1), float64(7), object(11)\n",
            "memory usage: 6.9+ MB\n"
          ]
        }
      ]
    },
    {
      "cell_type": "code",
      "source": [
        "# Teniendo en cuenta que los valores faltantes de la columna overview y original_language son apenas un 2,1%\n",
        "# un 0,02% respectivamente, se eliminarán las filas de estos valores faltantes, pero se dejan las columnas\n",
        "# porque podrían ser valiosas para el sistema de recomendación\n",
        "\n",
        "# Eliminar las filas con valores faltantes en las columnas 'overview' y 'original_language'\n",
        "movies_df = movies_df.dropna(subset=['overview', 'original_language'])\n",
        "\n",
        "# Verificar que las filas han sido eliminadas\n",
        "movies_df.info()\n",
        "\n"
      ],
      "metadata": {
        "colab": {
          "base_uri": "https://localhost:8080/"
        },
        "id": "WmHOs3jC-aNk",
        "outputId": "c28a45c4-be05-44e3-fbd2-50e14f3f48fb"
      },
      "execution_count": null,
      "outputs": [
        {
          "output_type": "stream",
          "name": "stdout",
          "text": [
            "<class 'pandas.core.frame.DataFrame'>\n",
            "Index: 44428 entries, 0 to 45465\n",
            "Data columns (total 19 columns):\n",
            " #   Column                Non-Null Count  Dtype         \n",
            "---  ------                --------------  -----         \n",
            " 0   budget                44428 non-null  float64       \n",
            " 1   genres                44428 non-null  object        \n",
            " 2   id                    44428 non-null  object        \n",
            " 3   original_language     44428 non-null  object        \n",
            " 4   overview              44428 non-null  object        \n",
            " 5   popularity            44426 non-null  object        \n",
            " 6   production_companies  44425 non-null  object        \n",
            " 7   production_countries  44425 non-null  object        \n",
            " 8   release_date          44425 non-null  datetime64[ns]\n",
            " 9   revenue               44428 non-null  float64       \n",
            " 10  runtime               44425 non-null  float64       \n",
            " 11  spoken_languages      44425 non-null  object        \n",
            " 12  status                44361 non-null  object        \n",
            " 13  tagline               20390 non-null  object        \n",
            " 14  title                 44425 non-null  object        \n",
            " 15  vote_average          44425 non-null  float64       \n",
            " 16  vote_count            44425 non-null  float64       \n",
            " 17  release_year          44425 non-null  float64       \n",
            " 18  return                44428 non-null  float64       \n",
            "dtypes: datetime64[ns](1), float64(7), object(11)\n",
            "memory usage: 6.8+ MB\n"
          ]
        }
      ]
    },
    {
      "cell_type": "code",
      "source": [
        "# Revisión de valores faltantes\n",
        "valores_faltantes = movies_df.isnull().sum()\n",
        "print(valores_faltantes)"
      ],
      "metadata": {
        "colab": {
          "base_uri": "https://localhost:8080/"
        },
        "id": "zueKOAsKG8E6",
        "outputId": "d8464570-974d-4e77-e7d7-0f03a1c8ae15"
      },
      "execution_count": null,
      "outputs": [
        {
          "output_type": "stream",
          "name": "stdout",
          "text": [
            "budget                      0\n",
            "genres                      0\n",
            "id                          0\n",
            "original_language           0\n",
            "overview                    0\n",
            "popularity                  2\n",
            "production_companies        3\n",
            "production_countries        3\n",
            "release_date                3\n",
            "revenue                     0\n",
            "runtime                     3\n",
            "spoken_languages            3\n",
            "status                     67\n",
            "tagline                 24038\n",
            "title                       3\n",
            "vote_average                3\n",
            "vote_count                  3\n",
            "release_year                3\n",
            "return                      0\n",
            "dtype: int64\n"
          ]
        }
      ]
    },
    {
      "cell_type": "code",
      "source": [
        "# La columna tagline, la cual nos proporciona una frase célebre de la pelícuka cuenta con un 54,1% de datos faltantes,\n",
        "# Esto y junto a lo subjetivo de la frase célebre son los motivos por los cuales se elimina dicha columna\n",
        "\n",
        "# Eliminar la columna 'tagline' del DataFrame\n",
        "movies_df = movies_df.drop(columns=['tagline'])"
      ],
      "metadata": {
        "id": "p36hr_1zHF4Z"
      },
      "execution_count": null,
      "outputs": []
    },
    {
      "cell_type": "code",
      "source": [
        "# Finalmente se eliminaran las filas de los valores faltantes de: popularity, production_companies, release_date,,\n",
        "# runtime, spoken_languages, status, title, vote_average, vote_count  y release_year que sumados no superan el 0,2% del dataset\n",
        "\n",
        "movies_df = movies_df.dropna(subset=[\n",
        "    'popularity',\n",
        "    'production_companies',\n",
        "    'release_date',\n",
        "    'runtime',\n",
        "    'spoken_languages',\n",
        "    'status',\n",
        "    'title',\n",
        "    'vote_average',\n",
        "    'vote_count',\n",
        "    'release_year'\n",
        "])\n"
      ],
      "metadata": {
        "id": "g844Zp8tH0pH"
      },
      "execution_count": null,
      "outputs": []
    },
    {
      "cell_type": "code",
      "source": [
        "# Revisión de valores faltantes\n",
        "valores_faltantes = movies_df.isnull().sum()\n",
        "print(valores_faltantes)"
      ],
      "metadata": {
        "colab": {
          "base_uri": "https://localhost:8080/"
        },
        "id": "HLDMCYdEI7_u",
        "outputId": "e317a93e-85eb-4b3e-9feb-6b0aea0bb615"
      },
      "execution_count": null,
      "outputs": [
        {
          "output_type": "stream",
          "name": "stdout",
          "text": [
            "budget                  0\n",
            "genres                  0\n",
            "id                      0\n",
            "original_language       0\n",
            "overview                0\n",
            "popularity              0\n",
            "production_companies    0\n",
            "production_countries    0\n",
            "release_date            0\n",
            "revenue                 0\n",
            "runtime                 0\n",
            "spoken_languages        0\n",
            "status                  0\n",
            "title                   0\n",
            "vote_average            0\n",
            "vote_count              0\n",
            "release_year            0\n",
            "return                  0\n",
            "dtype: int64\n"
          ]
        }
      ]
    },
    {
      "cell_type": "code",
      "source": [
        "movies_df.info()"
      ],
      "metadata": {
        "colab": {
          "base_uri": "https://localhost:8080/"
        },
        "id": "Wnrf19hqJAAm",
        "outputId": "d85b956a-4aff-4ddf-c69c-906a22b43188"
      },
      "execution_count": null,
      "outputs": [
        {
          "output_type": "stream",
          "name": "stdout",
          "text": [
            "<class 'pandas.core.frame.DataFrame'>\n",
            "Index: 44361 entries, 0 to 45465\n",
            "Data columns (total 18 columns):\n",
            " #   Column                Non-Null Count  Dtype         \n",
            "---  ------                --------------  -----         \n",
            " 0   budget                44361 non-null  float64       \n",
            " 1   genres                44361 non-null  object        \n",
            " 2   id                    44361 non-null  object        \n",
            " 3   original_language     44361 non-null  object        \n",
            " 4   overview              44361 non-null  object        \n",
            " 5   popularity            44361 non-null  object        \n",
            " 6   production_companies  44361 non-null  object        \n",
            " 7   production_countries  44361 non-null  object        \n",
            " 8   release_date          44361 non-null  datetime64[ns]\n",
            " 9   revenue               44361 non-null  float64       \n",
            " 10  runtime               44361 non-null  float64       \n",
            " 11  spoken_languages      44361 non-null  object        \n",
            " 12  status                44361 non-null  object        \n",
            " 13  title                 44361 non-null  object        \n",
            " 14  vote_average          44361 non-null  float64       \n",
            " 15  vote_count            44361 non-null  float64       \n",
            " 16  release_year          44361 non-null  float64       \n",
            " 17  return                44361 non-null  float64       \n",
            "dtypes: datetime64[ns](1), float64(7), object(10)\n",
            "memory usage: 6.4+ MB\n"
          ]
        }
      ]
    },
    {
      "cell_type": "markdown",
      "source": [
        "## 3.3. Distribución de variables numéricas"
      ],
      "metadata": {
        "id": "HDdSJIXY7RzN"
      }
    },
    {
      "cell_type": "code",
      "source": [
        "import matplotlib.pyplot as plt\n",
        "import seaborn as sns\n",
        "\n",
        "# Distribuciones de variables numéricas\n",
        "numerical_columns = ['budget', 'revenue', 'runtime', 'vote_average', 'vote_count', 'return']\n",
        "movies_df[numerical_columns].hist(bins=30, figsize=(15,10))\n",
        "plt.show()"
      ],
      "metadata": {
        "colab": {
          "base_uri": "https://localhost:8080/",
          "height": 736
        },
        "id": "m4-Y7Kv6_RU0",
        "outputId": "9680f366-879a-420a-c6ba-919df4253e0e"
      },
      "execution_count": null,
      "outputs": [
        {
          "output_type": "display_data",
          "data": {
            "text/plain": [
              "<Figure size 1500x1000 with 6 Axes>"
            ],
            "image/png": "[encoded data removed]"
          },
          "metadata": {}
        }
      ]
    },
    {
      "cell_type": "markdown",
      "source": [
        "**Budget (Presupuesto):**\n",
        "\n",
        "La distribución del presupuesto está bastante sesgada hacia la izquierda. La gran mayoría de las películas tienen un presupuesto bajo, mientras que solo unas pocas películas tienen presupuestos muy elevados (más de $100$ millones).\n",
        "Existe una gran cantidad de películas cuyo presupuesto es cercano a $0$, lo que puede implicar datos faltantes o películas de bajo presupuesto."
      ],
      "metadata": {
        "id": "0Rmt7CZTXbLl"
      }
    },
    {
      "cell_type": "markdown",
      "source": [
        "**Revenue (Ingresos):**\n",
        "\n",
        "La distribución de los ingresos es similar a la del presupuesto, donde la mayoría de las películas generan ingresos bajos y solo un pequeño número de películas generan cantidades muy grandes (hasta alrededor de $2.5$ mil millones).\n",
        "De nuevo, parece haber una concentración alta de películas con ingresos muy bajos, lo cual puede reflejar películas que no tuvieron éxito comercial o datos faltantes."
      ],
      "metadata": {
        "id": "22RL_o8gbcL3"
      }
    },
    {
      "cell_type": "markdown",
      "source": [],
      "metadata": {
        "id": "2k0liJ3tXg_7"
      }
    },
    {
      "cell_type": "markdown",
      "source": [
        "**Runtime (Duración):**\n",
        "\n",
        "La duración de las películas tiene una distribución más concentrada, con la mayoría de las películas durando entre $75$ y $150$ minutos.\n",
        "Hay algunas pocas películas con duraciones muy altas (más de 200 minutos), pero son excepciones."
      ],
      "metadata": {
        "id": "SPPMLB8Gblmj"
      }
    },
    {
      "cell_type": "markdown",
      "source": [
        "**Vote Average (Promedio de Votos):**\n",
        "\n",
        "La distribución del promedio de votos es más uniforme en comparación con otras variables. La mayoría de las películas tienen calificaciones entre $5$ y $7$, con un pico en torno a los $6$ puntos.\n",
        "Hay algunas películas con calificaciones bajas cercanas a $0$ y otras que alcanzan los $9$ o $10$, pero son menos frecuentes."
      ],
      "metadata": {
        "id": "-J5GBWV5b7wg"
      }
    },
    {
      "cell_type": "markdown",
      "source": [
        "**Vote Count (Cantidad de Votos):**\n",
        "\n",
        "La cantidad de votos está muy concentrada en números bajos. La mayoría de las películas tienen menos de $1000$ votos, con unas pocas excepciones que tienen una cantidad de votos extremadamente alta (más de $10,000$).\n",
        "Esta distribución sugiere que solo unas pocas películas muy populares obtienen una gran cantidad de votos."
      ],
      "metadata": {
        "id": "L99z0XSQgcXi"
      }
    },
    {
      "cell_type": "markdown",
      "source": [
        "**Return (Retorno de Inversión):**\n",
        "\n",
        "El retorno de inversión (que se calcula como `revenue` / `budget`) tiene una distribución muy concentrada cerca de cero, lo que implica que muchas películas no lograron recuperar el costo de producción.\n",
        "Algunas pocas películas muestran un retorno muy alto, lo que significa que fueron sumamente rentables en relación con su presupuesto."
      ],
      "metadata": {
        "id": "eDvyHbT6gpeb"
      }
    },
    {
      "cell_type": "code",
      "source": [
        "## 2.4. Relaciones entre variables"
      ],
      "metadata": {
        "id": "rMKXW6FCKV3_"
      },
      "execution_count": null,
      "outputs": []
    },
    {
      "cell_type": "code",
      "source": [
        "# Exploremos las relaciones entre las variables numéricas.\n",
        "\n",
        "# Seleccionar solo las columnas numéricas\n",
        "numerical_columns = movies_df.select_dtypes(include=['float64', 'int64']).columns\n",
        "\n",
        "# Mapa de calor de correlación\n",
        "plt.figure(figsize=(10, 8))\n",
        "sns.heatmap(movies_df[numerical_columns].corr(), annot=True, cmap='coolwarm', linewidths=0.5)\n",
        "plt.show()"
      ],
      "metadata": {
        "colab": {
          "base_uri": "https://localhost:8080/",
          "height": 682
        },
        "id": "LZBBTODZKXNB",
        "outputId": "5ffd60e5-b514-4759-a4c4-89f4fbda5665"
      },
      "execution_count": null,
      "outputs": [
        {
          "output_type": "display_data",
          "data": {
            "text/plain": [
              "<Figure size 1000x800 with 2 Axes>"
            ],
            "image/png": "[encoded data removed]"
          },
          "metadata": {}
        }
      ]
    },
    {
      "cell_type": "markdown",
      "source": [
        "La correlación positiva de $0.81$ entre `vote_count` y `revenue` sugiere que a medida que aumenta el número de votos que recibe una película, su recaudación también tiende a aumentar. Esto podría indicar que las películas que son bien recibidas o que generan mucho interés (y, por lo tanto, reciben más votos) tienden a tener un rendimiento financiero más alto."
      ],
      "metadata": {
        "id": "jWriVwVMM8bN"
      }
    },
    {
      "cell_type": "markdown",
      "source": [
        "La correlación positiva de $0,77$ entre `revenue` y `budget` sugiere que a medida que aumenta el presupuesto de una película, también tiende a aumentar su recaudación (`revenue`). Esto puede indicar que las películas con mayores presupuestos suelen tener más recursos para marketing, mejores efectos especiales, y en general, más capacidad para atraer a una audiencia mayor."
      ],
      "metadata": {
        "id": "cQ_FTdAYMZhw"
      }
    },
    {
      "cell_type": "markdown",
      "source": [
        "La correlación positiva de $0,68$ entre `vote_count` y `budget` indica una relación positiva fuerte, lo que sugiere que las películas con presupuestos más altos tienden a recibir más votos. Esto podría ser porque las películas más costosas suelen tener un mayor alcance y son vistas por más personas, lo que resulta en un mayor número de votos."
      ],
      "metadata": {
        "id": "BxE6Tk28MtgN"
      }
    },
    {
      "cell_type": "markdown",
      "source": [
        "## 3.4. Análisis de variables categóricas"
      ],
      "metadata": {
        "id": "3GOWsLiWNIt7"
      }
    },
    {
      "cell_type": "code",
      "source": [
        "# Revisaremos la distribución de las variables categóricas. Visualizaremos las más relevantes.\n"
      ],
      "metadata": {
        "id": "Moix_z1ZNNkG"
      },
      "execution_count": null,
      "outputs": []
    },
    {
      "cell_type": "markdown",
      "source": [
        "Columna `original_language`"
      ],
      "metadata": {
        "id": "HjlJUif0a4bq"
      }
    },
    {
      "cell_type": "code",
      "source": [
        "# Obtener los valores únicos de la columna 'original_language'\n",
        "unique_languages = movies_df['original_language'].unique()\n",
        "\n",
        "# Mostrar la lista de valores únicos\n",
        "print(unique_languages)\n"
      ],
      "metadata": {
        "colab": {
          "base_uri": "https://localhost:8080/"
        },
        "id": "D01i4tgFbCyV",
        "outputId": "48a5883c-fe54-4e4d-efc6-8955f39697f5"
      },
      "execution_count": null,
      "outputs": [
        {
          "output_type": "stream",
          "name": "stdout",
          "text": [
            "['en' 'fr' 'zh' 'it' 'fa' 'nl' 'de' 'cn' 'ar' 'es' 'ru' 'ja' 'sv' 'ko'\n",
            " 'sr' 'bn' 'pt' 'wo' 'ro' 'hu' 'cy' 'vi' 'cs' 'da' 'no' 'nb' 'pl' 'el'\n",
            " 'sh' 'xx' 'mk' 'bo' 'ca' 'fi' 'th' 'sk' 'bs' 'he' 'hi' 'tr' 'is' 'ps'\n",
            " 'ab' 'eo' 'ka' 'mn' 'bm' 'zu' 'uk' 'af' 'la' 'et' 'ku' 'fy' 'lv' 'ta'\n",
            " 'sl' 'tl' 'ur' 'rw' 'id' 'bg' 'mr' 'lt' 'kk' 'ms' 'sq' 'qu' 'te' 'am'\n",
            " 'jv' 'tg' 'ml' 'hr' 'lo' 'ay' 'kn' 'eu' 'ne' 'pa' 'ky' 'gl' 'uz' 'sm'\n",
            " 'mt' 'hy' 'iu' 'lb' 'si']\n"
          ]
        }
      ]
    },
    {
      "cell_type": "code",
      "source": [
        "codigo_idioma = {\n",
        "    'en': 'Inglés',\n",
        "    'fr': 'Francés',\n",
        "    'zh': 'Chino',\n",
        "    'it': 'Italiano',\n",
        "    'fa': 'Persa',\n",
        "    'nl': 'Neerlandés',\n",
        "    'de': 'Alemán',\n",
        "    'cn': 'Chino',\n",
        "    'ar': 'Árabe',\n",
        "    'es': 'Español',\n",
        "    'ru': 'Ruso',\n",
        "    'ja': 'Japonés',\n",
        "    'sv': 'Sueco',\n",
        "    'ko': 'Coreano',\n",
        "    'sr': 'Serbio',\n",
        "    'bn': 'Bengalí',\n",
        "    'pt': 'Portugués',\n",
        "    'wo': 'Wolof',\n",
        "    'ro': 'Rumano',\n",
        "    'hu': 'Húngaro',\n",
        "    'cy': 'Galés',\n",
        "    'vi': 'Vietnamita',\n",
        "    'cs': 'Checo',\n",
        "    'da': 'Danés',\n",
        "    'no': 'Noruego',\n",
        "    'nb': 'Noruego Bokmål',\n",
        "    'pl': 'Polaco',\n",
        "    'el': 'Griego',\n",
        "    'sh': 'Serbocroata',\n",
        "    'xx': 'Indeterminado',\n",
        "    'mk': 'Macedonio',\n",
        "    'bo': 'Tibetano',\n",
        "    'ca': 'Catalán',\n",
        "    'fi': 'Finlandés',\n",
        "    'th': 'Tailandés',\n",
        "    'sk': 'Eslovaco',\n",
        "    'bs': 'Bosnio',\n",
        "    'he': 'Hebreo',\n",
        "    'hi': 'Hindi',\n",
        "    'tr': 'Turco',\n",
        "    'is': 'Islandés',\n",
        "    'ps': 'Pastún',\n",
        "    'ab': 'Abjasio',\n",
        "    'eo': 'Esperanto',\n",
        "    'ka': 'Georgiano',\n",
        "    'mn': 'Mongol',\n",
        "    'bm': 'Bambara',\n",
        "    'zu': 'Zulu',\n",
        "    'uk': 'Ucraniano',\n",
        "    'af': 'Afrikáans',\n",
        "    'la': 'Latín',\n",
        "    'et': 'Estonio',\n",
        "    'ku': 'Kurdo',\n",
        "    'fy': 'Frisio',\n",
        "    'lv': 'Letón',\n",
        "    'ta': 'Tamil',\n",
        "    'sl': 'Esloveno',\n",
        "    'tl': 'Tagalo',\n",
        "    'ur': 'Urdu',\n",
        "    'rw': 'Kinyarwanda',\n",
        "    'id': 'Indonesio',\n",
        "    'bg': 'Búlgaro',\n",
        "    'mr': 'Marathi',\n",
        "    'lt': 'Lituano',\n",
        "    'kk': 'Kazajo',\n",
        "    'ms': 'Malayo',\n",
        "    'sq': 'Albanés',\n",
        "    'qu': 'Quechua',\n",
        "    'te': 'Telugu',\n",
        "    'am': 'Amárico',\n",
        "    'jv': 'Javanés',\n",
        "    'tg': 'Tayiko',\n",
        "    'ml': 'Malayalam',\n",
        "    'hr': 'Croata',\n",
        "    'lo': 'Laosiano',\n",
        "    'ay': 'Aymara',\n",
        "    'kn': 'Canarés',\n",
        "    'eu': 'Euskera',\n",
        "    'ne': 'Nepalí',\n",
        "    'pa': 'Panjabi',\n",
        "    'ky': 'Kirguís',\n",
        "    'gl': 'Gallego',\n",
        "    'uz': 'Uzbeko',\n",
        "    'sm': 'Samoano',\n",
        "    'mt': 'Maltés',\n",
        "    'hy': 'Armenio',\n",
        "    'iu': 'Inuktitut',\n",
        "    'lb': 'Luxemburgués',\n",
        "    'si': 'Cingalés'\n",
        "}"
      ],
      "metadata": {
        "id": "_8j1WKQfbISh"
      },
      "execution_count": null,
      "outputs": []
    },
    {
      "cell_type": "code",
      "source": [
        "# Función para reemplazar los códigos de idioma por nombres completos\n",
        "def reemplazar_idioma(codigo):\n",
        "    return codigo_idioma.get(codigo, codigo)  # Devuelve el código original si no está en el diccionario"
      ],
      "metadata": {
        "id": "HDHaUJA5bMxO"
      },
      "execution_count": null,
      "outputs": []
    },
    {
      "cell_type": "code",
      "source": [
        "# Aplicamos la función a la columna 'original_language'\n",
        "movies_df['original_language'] = movies_df['original_language'].apply(reemplazar_idioma)\n",
        "\n",
        "# Mostramos las primeras filas del DataFrame para verificar\n",
        "movies_df[['original_language']].head()"
      ],
      "metadata": {
        "colab": {
          "base_uri": "https://localhost:8080/",
          "height": 206
        },
        "id": "EXBGc5a1bXwp",
        "outputId": "fd26ce29-f232-4d64-ead4-3527a00cdd51"
      },
      "execution_count": null,
      "outputs": [
        {
          "output_type": "execute_result",
          "data": {
            "text/plain": [
              "  original_language\n",
              "0            Inglés\n",
              "1            Inglés\n",
              "2            Inglés\n",
              "3            Inglés\n",
              "4            Inglés"
            ],
            "text/html": [
              "\n",
              "  <div id=\"df-08007c42-d738-474a-baed-0ef5b131a320\" class=\"colab-df-container\">\n",
              "    <div>\n",
              "<style scoped>\n",
              "    .dataframe tbody tr th:only-of-type {\n",
              "        vertical-align: middle;\n",
              "    }\n",
              "\n",
              "    .dataframe tbody tr th {\n",
              "        vertical-align: top;\n",
              "    }\n",
              "\n",
              "    .dataframe thead th {\n",
              "        text-align: right;\n",
              "    }\n",
              "</style>\n",
              "<table border=\"1\" class=\"dataframe\">\n",
              "  <thead>\n",
              "    <tr style=\"text-align: right;\">\n",
              "      <th></th>\n",
              "      <th>original_language</th>\n",
              "    </tr>\n",
              "  </thead>\n",
              "  <tbody>\n",
              "    <tr>\n",
              "      <th>0</th>\n",
              "      <td>Inglés</td>\n",
              "    </tr>\n",
              "    <tr>\n",
              "      <th>1</th>\n",
              "      <td>Inglés</td>\n",
              "    </tr>\n",
              "    <tr>\n",
              "      <th>2</th>\n",
              "      <td>Inglés</td>\n",
              "    </tr>\n",
              "    <tr>\n",
              "      <th>3</th>\n",
              "      <td>Inglés</td>\n",
              "    </tr>\n",
              "    <tr>\n",
              "      <th>4</th>\n",
              "      <td>Inglés</td>\n",
              "    </tr>\n",
              "  </tbody>\n",
              "</table>\n",
              "</div>\n",
              "    <div class=\"colab-df-buttons\">\n",
              "\n",
              "  <div class=\"colab-df-container\">\n",
              "    <button class=\"colab-df-convert\" onclick=\"convertToInteractive('df-08007c42-d738-474a-baed-0ef5b131a320')\"\n",
              "            title=\"Convert this dataframe to an interactive table.\"\n",
              "            style=\"display:none;\">\n",
              "\n",
              "  <svg xmlns=\"http://www.w3.org/2000/svg\" height=\"24px\" viewBox=\"0 -960 960 960\">\n",
              "    <path d=\"M120-120v-720h720v720H120Zm60-500h600v-160H180v160Zm220 220h160v-160H400v160Zm0 220h160v-160H400v160ZM180-400h160v-160H180v160Zm440 0h160v-160H620v160ZM180-180h160v-160H180v160Zm440 0h160v-160H620v160Z\"/>\n",
              "  </svg>\n",
              "    </button>\n",
              "\n",
              "  <style>\n",
              "    .colab-df-container {\n",
              "      display:flex;\n",
              "      gap: 12px;\n",
              "    }\n",
              "\n",
              "    .colab-df-convert {\n",
              "      background-color: #E8F0FE;\n",
              "      border: none;\n",
              "      border-radius: 50%;\n",
              "      cursor: pointer;\n",
              "      display: none;\n",
              "      fill: #1967D2;\n",
              "      height: 32px;\n",
              "      padding: 0 0 0 0;\n",
              "      width: 32px;\n",
              "    }\n",
              "\n",
              "    .colab-df-convert:hover {\n",
              "      background-color: #E2EBFA;\n",
              "      box-shadow: 0px 1px 2px rgba(60, 64, 67, 0.3), 0px 1px 3px 1px rgba(60, 64, 67, 0.15);\n",
              "      fill: #174EA6;\n",
              "    }\n",
              "\n",
              "    .colab-df-buttons div {\n",
              "      margin-bottom: 4px;\n",
              "    }\n",
              "\n",
              "    [theme=dark] .colab-df-convert {\n",
              "      background-color: #3B4455;\n",
              "      fill: #D2E3FC;\n",
              "    }\n",
              "\n",
              "    [theme=dark] .colab-df-convert:hover {\n",
              "      background-color: #434B5C;\n",
              "      box-shadow: 0px 1px 3px 1px rgba(0, 0, 0, 0.15);\n",
              "      filter: drop-shadow(0px 1px 2px rgba(0, 0, 0, 0.3));\n",
              "      fill: #FFFFFF;\n",
              "    }\n",
              "  </style>\n",
              "\n",
              "    <script>\n",
              "      const buttonEl =\n",
              "        document.querySelector('#df-08007c42-d738-474a-baed-0ef5b131a320 button.colab-df-convert');\n",
              "      buttonEl.style.display =\n",
              "        google.colab.kernel.accessAllowed ? 'block' : 'none';\n",
              "\n",
              "      async function convertToInteractive(key) {\n",
              "        const element = document.querySelector('#df-08007c42-d738-474a-baed-0ef5b131a320');\n",
              "        const dataTable =\n",
              "          await google.colab.kernel.invokeFunction('convertToInteractive',\n",
              "                                                    [key], {});\n",
              "        if (!dataTable) return;\n",
              "\n",
              "        const docLinkHtml = 'Like what you see? Visit the ' +\n",
              "          '<a target=\"_blank\" href=https://colab.research.google.com/notebooks/data_table.ipynb>data table notebook</a>'\n",
              "          + ' to learn more about interactive tables.';\n",
              "        element.innerHTML = '';\n",
              "        dataTable['output_type'] = 'display_data';\n",
              "        await google.colab.output.renderOutput(dataTable, element);\n",
              "        const docLink = document.createElement('div');\n",
              "        docLink.innerHTML = docLinkHtml;\n",
              "        element.appendChild(docLink);\n",
              "      }\n",
              "    </script>\n",
              "  </div>\n",
              "\n",
              "\n",
              "<div id=\"df-e613decf-6e2f-4dc5-af4a-ab474b8869f6\">\n",
              "  <button class=\"colab-df-quickchart\" onclick=\"quickchart('df-e613decf-6e2f-4dc5-af4a-ab474b8869f6')\"\n",
              "            title=\"Suggest charts\"\n",
              "            style=\"display:none;\">\n",
              "\n",
              "<svg xmlns=\"http://www.w3.org/2000/svg\" height=\"24px\"viewBox=\"0 0 24 24\"\n",
              "     width=\"24px\">\n",
              "    <g>\n",
              "        <path d=\"M19 3H5c-1.1 0-2 .9-2 2v14c0 1.1.9 2 2 2h14c1.1 0 2-.9 2-2V5c0-1.1-.9-2-2-2zM9 17H7v-7h2v7zm4 0h-2V7h2v10zm4 0h-2v-4h2v4z\"/>\n",
              "    </g>\n",
              "</svg>\n",
              "  </button>\n",
              "\n",
              "<style>\n",
              "  .colab-df-quickchart {\n",
              "      --bg-color: #E8F0FE;\n",
              "      --fill-color: #1967D2;\n",
              "      --hover-bg-color: #E2EBFA;\n",
              "      --hover-fill-color: #174EA6;\n",
              "      --disabled-fill-color: #AAA;\n",
              "      --disabled-bg-color: #DDD;\n",
              "  }\n",
              "\n",
              "  [theme=dark] .colab-df-quickchart {\n",
              "      --bg-color: #3B4455;\n",
              "      --fill-color: #D2E3FC;\n",
              "      --hover-bg-color: #434B5C;\n",
              "      --hover-fill-color: #FFFFFF;\n",
              "      --disabled-bg-color: #3B4455;\n",
              "      --disabled-fill-color: #666;\n",
              "  }\n",
              "\n",
              "  .colab-df-quickchart {\n",
              "    background-color: var(--bg-color);\n",
              "    border: none;\n",
              "    border-radius: 50%;\n",
              "    cursor: pointer;\n",
              "    display: none;\n",
              "    fill: var(--fill-color);\n",
              "    height: 32px;\n",
              "    padding: 0;\n",
              "    width: 32px;\n",
              "  }\n",
              "\n",
              "  .colab-df-quickchart:hover {\n",
              "    background-color: var(--hover-bg-color);\n",
              "    box-shadow: 0 1px 2px rgba(60, 64, 67, 0.3), 0 1px 3px 1px rgba(60, 64, 67, 0.15);\n",
              "    fill: var(--button-hover-fill-color);\n",
              "  }\n",
              "\n",
              "  .colab-df-quickchart-complete:disabled,\n",
              "  .colab-df-quickchart-complete:disabled:hover {\n",
              "    background-color: var(--disabled-bg-color);\n",
              "    fill: var(--disabled-fill-color);\n",
              "    box-shadow: none;\n",
              "  }\n",
              "\n",
              "  .colab-df-spinner {\n",
              "    border: 2px solid var(--fill-color);\n",
              "    border-color: transparent;\n",
              "    border-bottom-color: var(--fill-color);\n",
              "    animation:\n",
              "      spin 1s steps(1) infinite;\n",
              "  }\n",
              "\n",
              "  @keyframes spin {\n",
              "    0% {\n",
              "      border-color: transparent;\n",
              "      border-bottom-color: var(--fill-color);\n",
              "      border-left-color: var(--fill-color);\n",
              "    }\n",
              "    20% {\n",
              "      border-color: transparent;\n",
              "      border-left-color: var(--fill-color);\n",
              "      border-top-color: var(--fill-color);\n",
              "    }\n",
              "    30% {\n",
              "      border-color: transparent;\n",
              "      border-left-color: var(--fill-color);\n",
              "      border-top-color: var(--fill-color);\n",
              "      border-right-color: var(--fill-color);\n",
              "    }\n",
              "    40% {\n",
              "      border-color: transparent;\n",
              "      border-right-color: var(--fill-color);\n",
              "      border-top-color: var(--fill-color);\n",
              "    }\n",
              "    60% {\n",
              "      border-color: transparent;\n",
              "      border-right-color: var(--fill-color);\n",
              "    }\n",
              "    80% {\n",
              "      border-color: transparent;\n",
              "      border-right-color: var(--fill-color);\n",
              "      border-bottom-color: var(--fill-color);\n",
              "    }\n",
              "    90% {\n",
              "      border-color: transparent;\n",
              "      border-bottom-color: var(--fill-color);\n",
              "    }\n",
              "  }\n",
              "</style>\n",
              "\n",
              "  <script>\n",
              "    async function quickchart(key) {\n",
              "      const quickchartButtonEl =\n",
              "        document.querySelector('#' + key + ' button');\n",
              "      quickchartButtonEl.disabled = true;  // To prevent multiple clicks.\n",
              "      quickchartButtonEl.classList.add('colab-df-spinner');\n",
              "      try {\n",
              "        const charts = await google.colab.kernel.invokeFunction(\n",
              "            'suggestCharts', [key], {});\n",
              "      } catch (error) {\n",
              "        console.error('Error during call to suggestCharts:', error);\n",
              "      }\n",
              "      quickchartButtonEl.classList.remove('colab-df-spinner');\n",
              "      quickchartButtonEl.classList.add('colab-df-quickchart-complete');\n",
              "    }\n",
              "    (() => {\n",
              "      let quickchartButtonEl =\n",
              "        document.querySelector('#df-e613decf-6e2f-4dc5-af4a-ab474b8869f6 button');\n",
              "      quickchartButtonEl.style.display =\n",
              "        google.colab.kernel.accessAllowed ? 'block' : 'none';\n",
              "    })();\n",
              "  </script>\n",
              "</div>\n",
              "\n",
              "    </div>\n",
              "  </div>\n"
            ],
            "application/vnd.google.colaboratory.intrinsic+json": {
              "type": "dataframe",
              "summary": "{\n  \"name\": \"movies_df[['original_language']]\",\n  \"rows\": 5,\n  \"fields\": [\n    {\n      \"column\": \"original_language\",\n      \"properties\": {\n        \"dtype\": \"category\",\n        \"num_unique_values\": 1,\n        \"samples\": [\n          \"Ingl\\u00e9s\"\n        ],\n        \"semantic_type\": \"\",\n        \"description\": \"\"\n      }\n    }\n  ]\n}"
            }
          },
          "metadata": {},
          "execution_count": 81
        }
      ]
    },
    {
      "cell_type": "code",
      "source": [
        "import seaborn as sns\n",
        "\n",
        "# Contar las ocurrencias de cada idioma\n",
        "language_counts = movies_df['original_language'].value_counts()\n",
        "\n",
        "# Seleccionar los primeros 15 idiomas con mayor conteo\n",
        "top_languages = language_counts.head(15)\n",
        "\n",
        "# Crear el gráfico de barras\n",
        "plt.figure(figsize=(12, 6))\n",
        "sns.barplot(x=top_languages.index, y=top_languages.values, palette='viridis')\n",
        "plt.title('Top 15 Idiomas Originales de Películas')\n",
        "plt.xlabel('Idioma Original')\n",
        "plt.ylabel('Conteo de Películas')\n",
        "plt.xticks(rotation=45)\n",
        "plt.show()"
      ],
      "metadata": {
        "colab": {
          "base_uri": "https://localhost:8080/",
          "height": 726
        },
        "id": "cLhmSVlHa6L_",
        "outputId": "7049935b-b99e-4b7c-81d8-effe05e24ccd"
      },
      "execution_count": null,
      "outputs": [
        {
          "output_type": "stream",
          "name": "stderr",
          "text": [
            "<ipython-input-82-91f0d450ee3d>:11: FutureWarning: \n",
            "\n",
            "Passing `palette` without assigning `hue` is deprecated and will be removed in v0.14.0. Assign the `x` variable to `hue` and set `legend=False` for the same effect.\n",
            "\n",
            "  sns.barplot(x=top_languages.index, y=top_languages.values, palette='viridis')\n"
          ]
        },
        {
          "output_type": "display_data",
          "data": {
            "text/plain": [
              "<Figure size 1200x600 with 1 Axes>"
            ],
            "image/png": "[encoded data removed]"
          },
          "metadata": {}
        }
      ]
    },
    {
      "cell_type": "markdown",
      "source": [
        "Podemos apreciar en esta gráfica lo siguiente:\n",
        "\n",
        "- La barra que representa el idioma inglés es extremadamente alta en comparación con los otros $14$ idiomas mostrados, lo que indica que la mayoría de las películas en el dataset tienen el inglés como idioma original.\n",
        "\n",
        "- El número de películas en inglés supera las 30,000, muy por encima de cualquier otro idioma.\n",
        "\n",
        "- Idiomas como chino, hindi, coreano, sueco, portugués, neerlandés, finlandés y danés aparecen, pero con un número muy reducido de películas, probablemente por debajo de las 500 películas cada uno."
      ],
      "metadata": {
        "id": "FsbMPuL6H2yj"
      }
    },
    {
      "cell_type": "markdown",
      "source": [
        "Columna `Status`"
      ],
      "metadata": {
        "id": "i7uW4T8EbG5u"
      }
    },
    {
      "cell_type": "code",
      "source": [
        "# Contamos las ocurrencias de cada estado\n",
        "status_counts = movies_df['status'].value_counts()\n",
        "\n",
        "# Crear el gráfico de barras\n",
        "plt.figure(figsize=(8, 6))\n",
        "sns.barplot(x=status_counts.index, y=status_counts.values, palette='magma')\n",
        "plt.title('Conteo de Estados de Películas')\n",
        "plt.xlabel('Estado')\n",
        "plt.ylabel('Conteo de Películas')\n",
        "plt.xticks(rotation=45)\n",
        "plt.show()"
      ],
      "metadata": {
        "colab": {
          "base_uri": "https://localhost:8080/",
          "height": 746
        },
        "id": "wbuXt7SyOL5d",
        "outputId": "23bd2869-454f-4142-d063-43cc3b27227d"
      },
      "execution_count": null,
      "outputs": [
        {
          "output_type": "stream",
          "name": "stderr",
          "text": [
            "<ipython-input-84-d4019edb9116>:6: FutureWarning: \n",
            "\n",
            "Passing `palette` without assigning `hue` is deprecated and will be removed in v0.14.0. Assign the `x` variable to `hue` and set `legend=False` for the same effect.\n",
            "\n",
            "  sns.barplot(x=status_counts.index, y=status_counts.values, palette='magma')\n"
          ]
        },
        {
          "output_type": "display_data",
          "data": {
            "text/plain": [
              "<Figure size 800x600 with 1 Axes>"
            ],
            "image/png": "[encoded data removed]"
          },
          "metadata": {}
        }
      ]
    },
    {
      "cell_type": "markdown",
      "source": [
        "El estado Released (lanzadas) es, con diferencia, el más común. Se observa que supera las $40,000$ películas, lo que indica que la gran mayoría de las películas en tu dataset han sido completadas y lanzadas oficialmente."
      ],
      "metadata": {
        "id": "zPf0-2e2I6sx"
      }
    },
    {
      "cell_type": "code",
      "source": [
        "# Contamos las ocurrencias de cada estado\n",
        "status_counts = movies_df['status'].value_counts()\n",
        "print(status_counts)\n"
      ],
      "metadata": {
        "colab": {
          "base_uri": "https://localhost:8080/"
        },
        "id": "_IuXMXngPQQH",
        "outputId": "baf2a0ca-e8dd-44fb-a974-736fd89762fd"
      },
      "execution_count": null,
      "outputs": [
        {
          "output_type": "stream",
          "name": "stdout",
          "text": [
            "status\n",
            "Released           44020\n",
            "Rumored              216\n",
            "Post Production       96\n",
            "In Production         16\n",
            "Planned               12\n",
            "Canceled               1\n",
            "Name: count, dtype: int64\n"
          ]
        }
      ]
    },
    {
      "cell_type": "code",
      "source": [
        "# Dado que la gran mayoria de los status se encuentran en la categoría \"Released\"\n",
        "# Se aprecia que esta columna no varía mucho, luego parece no aportar valor significativo\n",
        "# a un sistema de recomendación basado en similitud de contenido, es viable prescindir\n",
        "# de ella para el modelo\n",
        "\n",
        "movies_df.drop(columns=['status'], inplace=True)"
      ],
      "metadata": {
        "id": "FtvguPEBPraw"
      },
      "execution_count": null,
      "outputs": []
    },
    {
      "cell_type": "markdown",
      "source": [
        "Columna `genres`"
      ],
      "metadata": {
        "id": "IqrgqoV8bqx8"
      }
    },
    {
      "cell_type": "code",
      "source": [
        "# Desanidar los géneros\n",
        "all_genres = movies_df['genres'].explode()\n",
        "\n",
        "# Contar las ocurrencias de cada género\n",
        "genre_counts = all_genres.value_counts()\n",
        "\n",
        "# Crear el gráfico de barras\n",
        "plt.figure(figsize=(15, 8))\n",
        "barplot = sns.barplot(x=genre_counts.index, y=genre_counts.values, palette='viridis')\n",
        "\n",
        "# Mostrar valores en la parte superior de las barras\n",
        "for i in barplot.containers:\n",
        "    barplot.bar_label(i, label_type='edge', fontsize=10)\n",
        "\n",
        "# Configurar el gráfico\n",
        "plt.title('Conteo de Todos los Géneros de Películas')\n",
        "plt.xlabel('Género')\n",
        "plt.ylabel('Conteo de Películas')\n",
        "plt.xticks(rotation=40)  # Ajuste de la rotación de las etiquetas del eje X\n",
        "\n",
        "plt.show()"
      ],
      "metadata": {
        "colab": {
          "base_uri": "https://localhost:8080/",
          "height": 760
        },
        "id": "AXVV2-ESOZA1",
        "outputId": "616b7141-17ef-4118-d9dd-11edce587bac"
      },
      "execution_count": null,
      "outputs": [
        {
          "output_type": "stream",
          "name": "stderr",
          "text": [
            "<ipython-input-89-0cde1652a0e3>:9: FutureWarning: \n",
            "\n",
            "Passing `palette` without assigning `hue` is deprecated and will be removed in v0.14.0. Assign the `x` variable to `hue` and set `legend=False` for the same effect.\n",
            "\n",
            "  barplot = sns.barplot(x=genre_counts.index, y=genre_counts.values, palette='viridis')\n"
          ]
        },
        {
          "output_type": "display_data",
          "data": {
            "text/plain": [
              "<Figure size 1500x800 with 1 Axes>"
            ],
            "image/png": "[encoded data removed]"
          },
          "metadata": {}
        }
      ]
    },
    {
      "cell_type": "markdown",
      "source": [
        "**Géneros más representados:**\n",
        "\n",
        "Drama es el género más común con apróximadamente $20,000$ películas, seguido por Comedy (Comedia) y Thriller, ambos con un número significativo de películas (alrededor de $12,000$ y $8,000$ respectivamente).Esto sugiere que el dataset está fuertemente sesgado hacia géneros más dramáticos y cómicos.\n",
        "\n",
        "**Géneros menos representados:**\n",
        "\n",
        "Hacia el final de la gráfica, géneros como Western, War, y TV Movie tienen una representación mucho menor, con menos de $1,000$ películas cada uno. Esto podría deberse a la naturaleza del dataset, donde estos géneros son menos frecuentes.\n",
        "\n",
        "**Distribución equilibrada en la parte media:**\n",
        "\n",
        "Géneros como Action, Horror, Crime, y Documentary tienen una distribución más cercana entre sí, con un número de películas en el rango de $4,000$ a $6,000$."
      ],
      "metadata": {
        "id": "ZibjAohtJchv"
      }
    },
    {
      "cell_type": "markdown",
      "source": [
        "Columna `popularity`"
      ],
      "metadata": {
        "id": "GxcMiMuLbs4u"
      }
    },
    {
      "cell_type": "code",
      "source": [
        "# Convertir la columna 'popularity' a tipo numérico, forzando errores a NaN\n",
        "movies_df['popularity'] = pd.to_numeric(movies_df['popularity'], errors='coerce')\n",
        "\n",
        "# Opcional: verificar cuántos valores se convirtieron a NaN\n",
        "print(movies_df['popularity'].isna().sum())"
      ],
      "metadata": {
        "colab": {
          "base_uri": "https://localhost:8080/"
        },
        "id": "OIKuif4ncAho",
        "outputId": "79fcb0ae-1e86-4dc5-a59b-07a0576d950d"
      },
      "execution_count": null,
      "outputs": [
        {
          "output_type": "stream",
          "name": "stdout",
          "text": [
            "0\n"
          ]
        }
      ]
    },
    {
      "cell_type": "code",
      "source": [
        "# Seleccionamos las 20 películas más populares\n",
        "top_20_populares = movies_df.nlargest(20, 'popularity')[['title', 'popularity']]\n",
        "\n",
        "# Configuramos el gráfico\n",
        "plt.figure(figsize=(12, 8))\n",
        "sns.barplot(data=top_20_populares, x='popularity', y='title', palette='viridis')\n",
        "\n",
        "# Añadimos título y etiquetas\n",
        "plt.title('Top 20 Películas Más Populares')\n",
        "plt.xlabel('Popularidad')\n",
        "plt.ylabel('Título de la Película')\n",
        "\n",
        "# Mostramos el gráfico\n",
        "plt.show()"
      ],
      "metadata": {
        "colab": {
          "base_uri": "https://localhost:8080/",
          "height": 682
        },
        "id": "50w9MHmWcZ6G",
        "outputId": "001e480a-6b84-4b90-a028-82963fe86462"
      },
      "execution_count": null,
      "outputs": [
        {
          "output_type": "stream",
          "name": "stderr",
          "text": [
            "<ipython-input-91-78aff9eeddf4>:6: FutureWarning: \n",
            "\n",
            "Passing `palette` without assigning `hue` is deprecated and will be removed in v0.14.0. Assign the `y` variable to `hue` and set `legend=False` for the same effect.\n",
            "\n",
            "  sns.barplot(data=top_20_populares, x='popularity', y='title', palette='viridis')\n"
          ]
        },
        {
          "output_type": "display_data",
          "data": {
            "text/plain": [
              "<Figure size 1200x800 with 1 Axes>"
            ],
            "image/png": "[encoded data removed]"
          },
          "metadata": {}
        }
      ]
    },
    {
      "cell_type": "markdown",
      "source": [
        "- *Minions* es la película que tiene la popularidad más alta, destacándose mucho más que las otras películas, con un valor de popularidad por encima de 500.\n",
        "\n",
        "- *Wonder Woman* y *Beauty* and the Beast siguen en el ranking con popularidades también altas, aunque significativamente por debajo de Minions. Estas dos películas están por encima del valor de 300.\n",
        "\n",
        "- La popularidad de las películas parece decrecer de manera gradual. Después de las tres primeras, las demás películas presentan una distribución más pareja entre sí en términos de popularidad.\n",
        "\n",
        "- Las películas del ranking mostradi pertenecen a una amplia gama de géneros, desde animación (Minions, Big Hero 6), superhéroes (Wonder Woman, Captain America), acción (John Wick), ciencia ficción (Avatar, Blade Runner), hasta clásicos del cine (Pulp Fiction)."
      ],
      "metadata": {
        "id": "yrS8YULkLIWe"
      }
    },
    {
      "cell_type": "markdown",
      "source": [
        "Columna `spoken_languages`"
      ],
      "metadata": {
        "id": "-i8DJMo_eNQ1"
      }
    },
    {
      "cell_type": "code",
      "source": [
        "# Obtener todos los idiomas únicos en la columna 'spoken_languages'\n",
        "all_languages = []\n",
        "for languages in movies_df['spoken_languages'].dropna():\n",
        "  if isinstance(languages, list):\n",
        "    all_languages.extend(languages)\n",
        "\n",
        "# Obtener los valores únicos\n",
        "unique_languages = set(all_languages)\n",
        "\n",
        "# Imprimir la lista de valores únicos\n",
        "print(list(unique_languages))\n"
      ],
      "metadata": {
        "colab": {
          "base_uri": "https://localhost:8080/"
        },
        "id": "APvhFspwePFa",
        "outputId": "b619d97a-2cf8-4b2f-a758-6e3c0085f9a3"
      },
      "execution_count": 92,
      "outputs": [
        {
          "output_type": "stream",
          "name": "stdout",
          "text": [
            "['', 'Norsk', 'ਪੰਜਾਬੀ', 'فارسی', 'Gaeilge', 'Português', 'বাংলা', 'Hrvatski', 'ελληνικά', 'Український', 'euskera', 'العربية', 'Malti', 'isiZulu', 'ozbek', 'Galego', '?????', 'Srpski', '한국어/조선말', 'ქართული', 'Latin', 'Bokmål', 'اردو', 'Cymraeg', '日本語', 'Español', 'Nederlands', 'Pусский', 'Kiswahili', 'Fulfulde', 'English', 'Français', 'Türkçe', 'Bamanankan', 'svenska', 'Català', 'Magyar', 'Bosanski', 'עִבְרִית', 'Hausa', 'Lietuvi\\x9akai', 'Eesti', 'Esperanto', 'Azərbaycan', 'ภาษาไทย', 'suomi', 'Somali', 'தமிழ்', 'Slovenčina', 'हिन्दी', 'پښتو', 'shqip', 'Bahasa melayu', '广州话 / 廣州話', 'Dansk', 'Bahasa indonesia', 'Tiếng Việt', 'Íslenska', 'No Language', 'қазақ', 'Slovenščina', '??????', '普通话', 'Polski', 'Český', 'Latviešu', 'Afrikaans', 'беларуская мова', 'Kinyarwanda', 'Română', 'Wolof', 'Deutsch', 'తెలుగు', 'Italiano', 'български език']\n"
          ]
        }
      ]
    },
    {
      "cell_type": "code",
      "source": [
        "# Diccionario de traducción de idiomas\n",
        "idiomas_a_espanol = {\n",
        "    'Türkçe': 'Turco',\n",
        "    'Bamanankan': 'Bamanankan',\n",
        "    'Norsk': 'Noruego',\n",
        "    'Eesti': 'Estonio',\n",
        "    'Bosanski': 'Bosnio',\n",
        "    'No Language': 'Sin idioma',\n",
        "    'Magyar': 'Húngaro',\n",
        "    'Català': 'Catalán',\n",
        "    'suomi': 'Finlandés',\n",
        "    'isiZulu': 'Zulu',\n",
        "    '?????': 'Desconocido',\n",
        "    'Latin': 'Latín',\n",
        "    '广州话 / 廣州話': 'Cantonés',\n",
        "    '한국어/조선말': 'Coreano',\n",
        "    'Wolof': 'Wolof',\n",
        "    'Kinyarwanda': 'Kinyarwanda',\n",
        "    'Pусский': 'Ruso',\n",
        "    'Slovenščina': 'Esloveno',\n",
        "    'ozbek': 'Uzbeco',\n",
        "    'Galego': 'Gallego',\n",
        "    'ελληνικά': 'Griego',\n",
        "    'ਪੰਜਾਬੀ': 'Panjabi',\n",
        "    'Hausa': 'Hausa',\n",
        "    'Italiano': 'Italiano',\n",
        "    'Fulfulde': 'Fulfulde',\n",
        "    'Gaeilge': 'Irlandés',\n",
        "    'Nederlands': 'Neerlandés',\n",
        "    '日本語': 'Japonés',\n",
        "    'Srpski': 'Serbio',\n",
        "    'தமிழ்': 'Tamil',\n",
        "    'العربية': 'Árabe',\n",
        "    'Français': 'Francés',\n",
        "    'Azərbaycan': 'Azerbaiyano',\n",
        "    'Lietuvi\\x9akai': 'Lituano',\n",
        "    'беларуская мова': 'Bielorruso',\n",
        "    'Română': 'Rumano',\n",
        "    'Kiswahili': 'Suajili',\n",
        "    'اردو': 'Urdu',\n",
        "    'English': 'Inglés',\n",
        "    'svenska': 'Sueco',\n",
        "    'తెలుగు': 'Telugu',\n",
        "    'қазақ': 'Kazajo',\n",
        "    'Český': 'Checo',\n",
        "    'हिन्दी': 'Hindi',\n",
        "    'Bahasa indonesia': 'Indonesio',\n",
        "    'فارسی': 'Persa',\n",
        "    'Afrikaans': 'Afrikáans',\n",
        "    'Bokmål': 'Bokmål',\n",
        "    'Español': 'Español',\n",
        "    'shqip': 'Albanés',\n",
        "    'Cymraeg': 'Galés',\n",
        "    'Polski': 'Polaco',\n",
        "    '??????': 'Desconocido',\n",
        "    'বাংলা': 'Bengalí',\n",
        "    'Português': 'Portugués',\n",
        "    'Slovenčina': 'Eslovaco',\n",
        "    'български език': 'Búlgaro',\n",
        "    'Malti': 'Maltés',\n",
        "    'Hrvatski': 'Croata',\n",
        "    'Український': 'Ucraniano',\n",
        "    'ภาษาไทย': 'Tailandés',\n",
        "    'Latviešu': 'Letón',\n",
        "    'Esperanto': 'Esperanto',\n",
        "    'עִבְרִית': 'Hebreo',\n",
        "    'Deutsch': 'Alemán',\n",
        "    'ქართული': 'Georgiano',\n",
        "    '普通话': 'Mandarín',\n",
        "    'euskera': 'Vasco',\n",
        "    'Íslenska': 'Islandés',\n",
        "    'پښتو': 'Pashto',\n",
        "    'Somali': 'Somalí',\n",
        "    'Bahasa melayu': 'Malayo',\n",
        "    'Dansk': 'Danés',\n",
        "    'Tiếng Việt': 'Vietnamita'\n",
        "}"
      ],
      "metadata": {
        "id": "gxvKEyERe14q"
      },
      "execution_count": 93,
      "outputs": []
    },
    {
      "cell_type": "code",
      "source": [
        "# Función para traducir los idiomas, manejando listas\n",
        "def traducir_idioma(idioma):\n",
        "    if isinstance(idioma, list):\n",
        "        # Si el idioma es una lista, traducimos cada idioma y lo unimos en una cadena\n",
        "        return ', '.join(idiomas_a_espanol.get(i, 'Desconocido') for i in idioma)\n",
        "    else:\n",
        "        # Si no es una lista, solo traducimos el idioma\n",
        "        return idiomas_a_espanol.get(idioma, 'Desconocido')\n",
        "\n",
        "# Aplicar la función a la columna 'spoken_languages'\n",
        "movies_df['spoken_languages'] = movies_df['spoken_languages'].apply(traducir_idioma)\n",
        "\n",
        "# Mostrar las primeras filas del DataFrame para verificar\n",
        "print(movies_df[['spoken_languages']].head())"
      ],
      "metadata": {
        "colab": {
          "base_uri": "https://localhost:8080/"
        },
        "id": "B-3GipB4e33F",
        "outputId": "0182bc19-545f-471a-efb6-bad1ccc2e734"
      },
      "execution_count": 94,
      "outputs": [
        {
          "output_type": "stream",
          "name": "stdout",
          "text": [
            "  spoken_languages\n",
            "0           Inglés\n",
            "1  Inglés, Francés\n",
            "2           Inglés\n",
            "3           Inglés\n",
            "4           Inglés\n"
          ]
        }
      ]
    },
    {
      "cell_type": "markdown",
      "source": [
        "## 2.5. Análisis temporal"
      ],
      "metadata": {
        "id": "2aXKRHl2Q0zQ"
      }
    },
    {
      "cell_type": "markdown",
      "source": [
        "Columna `release_year`"
      ],
      "metadata": {
        "id": "rH47Xb-ZMUSS"
      }
    },
    {
      "cell_type": "markdown",
      "source": [
        "Estudiaremos la variable release_year para ver la evolución del número de películas a lo largo del tiempo y su relación con el presupuesto y los ingresos."
      ],
      "metadata": {
        "id": "BrFFI4zHMbs7"
      }
    },
    {
      "cell_type": "code",
      "source": [
        "# Evolución del presupuesto e ingresos a lo largo de los años\n",
        "\n",
        "# Agrupamos por año de lanzamiento y calculamos el promedio de presupuesto e ingresos\n",
        "movies_by_year = movies_df.groupby('release_year').agg({'budget': 'mean', 'revenue': 'mean'}).reset_index()\n",
        "\n",
        "# Visualización de presupuesto e ingresos a lo largo de los años\n",
        "plt.figure(figsize=(10, 5))\n",
        "sns.lineplot(data=movies_by_year, x='release_year', y='budget', label='Presupuesto promedio', color='blue')\n",
        "sns.lineplot(data=movies_by_year, x='release_year', y='revenue', label='Ingresos promedio', color='orange')\n",
        "plt.title('Evolución del presupuesto e ingresos promedio a lo largo de los años')\n",
        "plt.xlabel('Año de lanzamiento')\n",
        "plt.ylabel('Cantidad promedio')\n",
        "plt.legend()\n",
        "plt.grid(True)\n",
        "plt.show()"
      ],
      "metadata": {
        "colab": {
          "base_uri": "https://localhost:8080/",
          "height": 488
        },
        "id": "yv72Op3sRBa0",
        "outputId": "4835746a-f6aa-45c1-d984-ad724d7d6bc6"
      },
      "execution_count": 95,
      "outputs": [
        {
          "output_type": "display_data",
          "data": {
            "text/plain": [
              "<Figure size 1000x500 with 1 Axes>"
            ],
            "image/png": "[encoded data removed]"
          },
          "metadata": {}
        }
      ]
    },
    {
      "cell_type": "markdown",
      "source": [
        "- Desde finales del siglo XIX hasta aproximadamente 1930, tanto el presupuesto como los ingresos eran bajos y apenas registran fluctuaciones significativas.\n",
        "\n",
        "- A partir de los años 1930, se observa un aumento notable en los ingresos promedio (curva naranja), mientras que el presupuesto (curva azul) comienza a elevarse, pero con menos intensidad. Esta tendencia se mantiene en aumento hasta los años 1960.\n",
        "\n",
        "- En la década de los 80, ambos valores muestran un incremento más pronunciado, con una correlación más visible entre presupuesto e ingresos.\n",
        "\n",
        "- Las películas comienzan a generar ingresos significativamente mayores en comparación con los presupuestos.\n",
        "\n",
        "- Hay picos marcados tanto en ingresos como en presupuestos alrededor del año 2000. Esto puede reflejar la creciente inversión y éxito de grandes producciones cinematográficas en esta época.\n",
        "\n",
        "- En los últimos años (hacia 2020), se nota un pico particularmente agudo en ingresos, que podría estar influenciado por algunas superproducciones o fenómenos de taquilla (posiblemente películas con alto impacto mundial)."
      ],
      "metadata": {
        "id": "fqruP6FUMrJJ"
      }
    },
    {
      "cell_type": "code",
      "source": [
        "# Contar la cantidad de películas por año\n",
        "\n",
        "# Creamos una nueva columna para agrupar los años en intervalos de 5 años\n",
        "movies_df['year_group'] = (movies_df['release_year'] // 5) * 5 # La expresión divide cada año entre 5 (usando la división entera) y luego multiplica el resultado por 5.\n",
        "#Esto convierte, por ejemplo, los años 1990 a 1994 en 1990, los años 1995 a 1999 en 1995, y así sucesivamente\n",
        "\n",
        "# Contar la cantidad de películas por intervalo de 5 años\n",
        "year_group_counts = movies_df['year_group'].value_counts().sort_index()\n",
        "\n",
        "# Crear el gráfico de barras\n",
        "plt.figure(figsize=(12, 6))\n",
        "ax = sns.barplot(x=year_group_counts.index, y=year_group_counts.values, palette='rocket')  # Colores más vivos\n",
        "plt.title('Total de Películas Hechas por Intervalo de 5 Años')\n",
        "plt.xlabel('Años (Intervalos de 5)')\n",
        "plt.ylabel('Total de Películas')\n",
        "plt.xticks(rotation=45)  # Rota las etiquetas del eje X para mejor legibilidad\n",
        "\n",
        "# Quitar el punto decimal de las etiquetas del eje X\n",
        "ax.set_xticklabels([int(year) for year in year_group_counts.index])\n",
        "\n",
        "plt.show()"
      ],
      "metadata": {
        "colab": {
          "base_uri": "https://localhost:8080/",
          "height": 732
        },
        "id": "WjwnbZaASZeo",
        "outputId": "6aeb1761-527e-42d2-e8c0-77f3b159e4d7"
      },
      "execution_count": 96,
      "outputs": [
        {
          "output_type": "stream",
          "name": "stderr",
          "text": [
            "<ipython-input-96-5ffb565529bf>:12: FutureWarning: \n",
            "\n",
            "Passing `palette` without assigning `hue` is deprecated and will be removed in v0.14.0. Assign the `x` variable to `hue` and set `legend=False` for the same effect.\n",
            "\n",
            "  ax = sns.barplot(x=year_group_counts.index, y=year_group_counts.values, palette='rocket')  # Colores más vivos\n",
            "<ipython-input-96-5ffb565529bf>:19: UserWarning: FixedFormatter should only be used together with FixedLocator\n",
            "  ax.set_xticklabels([int(year) for year in year_group_counts.index])\n"
          ]
        },
        {
          "output_type": "display_data",
          "data": {
            "text/plain": [
              "<Figure size 1200x600 with 1 Axes>"
            ],
            "image/png": "[encoded data removed]"
          },
          "metadata": {}
        }
      ]
    },
    {
      "cell_type": "markdown",
      "source": [
        "- Desde los inicios del cine hasta la década de 1940, la cantidad de películas producidas por intervalo de 5 años es muy baja, apenas superando las 500 películas hasta los años 1930-1940. Esto es lógico, ya que el cine estaba en su fase temprana y el número de producciones era limitado.\n",
        "\n",
        "- Después de la Segunda Guerra Mundial, en los años 50 y 60, se nota un incremento constante en la producción de películas. Este crecimiento refleja la expansión de la industria cinematográfica global, así como la aparición de nuevas tecnologías que permitieron la producción masiva de películas.\n",
        "\n",
        "- Desde la década de los 90 hasta el año 2010, el número de películas producidas por intervalo de 5 años aumenta exponencialmente, alcanzando su punto más alto entre 2010 y 2015 con más de 8,000 películas. Esto coincide con la era del cine digital y la globalización del entretenimiento, lo que permitió una mayor facilidad para crear y distribuir películas a nivel mundial.\n",
        "\n",
        "- Aunque sigue siendo un número alto en comparación con décadas anteriores, se observa un descenso en la producción de películas entre 2015 y 2020. Este descenso podría explicarse por varios factores, pdría ser porque no hay datos después de cierta fecha o debido a la pandemia del COVID-19 que afectó gravemente la producción cinematográfica global en 2020, además de posibles cambios en la forma en que el contenido se distribuye (streaming, series, etc.)."
      ],
      "metadata": {
        "id": "zjzTF0NCNTbx"
      }
    },
    {
      "cell_type": "code",
      "source": [
        "# movies_df.to_csv('movies_df.csv', index=False)\n",
        "\n",
        "# from google.colab import files\n",
        "# files.download('movies_df.csv')\n"
      ],
      "metadata": {
        "id": "KS5xlRKUSwAN"
      },
      "execution_count": 97,
      "outputs": []
    },
    {
      "cell_type": "markdown",
      "source": [
        "# 4. Muestra"
      ],
      "metadata": {
        "id": "IUw6RnKSt6kh"
      }
    },
    {
      "cell_type": "markdown",
      "source": [
        "Debido al peso de los archivos se restringe el tamaño de los datasets, esto con el fin de no tener inconvenientes al momento de deployar la API en Render. Así que tomamos una muestra aleatoria de 30.000 filas."
      ],
      "metadata": {
        "id": "VNwKl8CRN4t3"
      }
    },
    {
      "cell_type": "code",
      "source": [
        "# Seleccionar una muestra aleatoria de 30000 filas\n",
        "movies_sample_df = movies_df.sample(n=30000, random_state=42)\n",
        "\n",
        "# Mostrar las primeras filas de la muestra seleccionada\n",
        "print(movies_sample_df.info())"
      ],
      "metadata": {
        "colab": {
          "base_uri": "https://localhost:8080/"
        },
        "id": "gzSRp0JZt7dr",
        "outputId": "a81cb60e-0181-4694-8ce8-4185db806b25"
      },
      "execution_count": 99,
      "outputs": [
        {
          "output_type": "stream",
          "name": "stdout",
          "text": [
            "<class 'pandas.core.frame.DataFrame'>\n",
            "Index: 30000 entries, 12082 to 7476\n",
            "Data columns (total 18 columns):\n",
            " #   Column                Non-Null Count  Dtype         \n",
            "---  ------                --------------  -----         \n",
            " 0   budget                30000 non-null  float64       \n",
            " 1   genres                30000 non-null  object        \n",
            " 2   id                    30000 non-null  object        \n",
            " 3   original_language     30000 non-null  object        \n",
            " 4   overview              30000 non-null  object        \n",
            " 5   popularity            30000 non-null  float64       \n",
            " 6   production_companies  30000 non-null  object        \n",
            " 7   production_countries  30000 non-null  object        \n",
            " 8   release_date          30000 non-null  datetime64[ns]\n",
            " 9   revenue               30000 non-null  float64       \n",
            " 10  runtime               30000 non-null  float64       \n",
            " 11  spoken_languages      30000 non-null  object        \n",
            " 12  title                 30000 non-null  object        \n",
            " 13  vote_average          30000 non-null  float64       \n",
            " 14  vote_count            30000 non-null  float64       \n",
            " 15  release_year          30000 non-null  float64       \n",
            " 16  return                30000 non-null  float64       \n",
            " 17  year_group            30000 non-null  float64       \n",
            "dtypes: datetime64[ns](1), float64(9), object(8)\n",
            "memory usage: 4.3+ MB\n",
            "None\n"
          ]
        }
      ]
    },
    {
      "cell_type": "code",
      "source": [
        "# Exportar el DataFrame 'movies_sample_df' a un archivo CSV\n",
        "#movies_sample_df.to_csv('movies_sample_df.csv', index=False)\n",
        "\n",
        "# Descargar el archivo desde Colab\n",
        "#from google.colab import files\n",
        "#files.download('movies_sample_df.csv')"
      ],
      "metadata": {
        "id": "UxMrFyfCuBKN"
      },
      "execution_count": 100,
      "outputs": []
    }
  ]
}